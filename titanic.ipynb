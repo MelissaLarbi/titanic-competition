{
 "cells": [
  {
   "cell_type": "code",
   "execution_count": 1,
   "id": "40f24ab5",
   "metadata": {
    "execution": {
     "iopub.execute_input": "2022-02-17T22:19:56.682022Z",
     "iopub.status.busy": "2022-02-17T22:19:56.680112Z",
     "iopub.status.idle": "2022-02-17T22:19:56.683238Z",
     "shell.execute_reply": "2022-02-17T22:19:56.684368Z",
     "shell.execute_reply.started": "2022-02-17T22:05:07.17237Z"
    },
    "id": "C5vnZaDZCSPT",
    "outputId": "e6fdeaa3-68ec-4ea1-e6a5-4d6c368f07bd",
    "papermill": {
     "duration": 0.115007,
     "end_time": "2022-02-17T22:19:56.684701",
     "exception": false,
     "start_time": "2022-02-17T22:19:56.569694",
     "status": "completed"
    },
    "tags": []
   },
   "outputs": [],
   "source": [
    "# from google.colab import drive\n",
    "# drive.mount('/content/drive')"
   ]
  },
  {
   "cell_type": "markdown",
   "id": "36e9653e",
   "metadata": {
    "id": "8blYWW0wGV_3",
    "papermill": {
     "duration": 0.109406,
     "end_time": "2022-02-17T22:19:56.899019",
     "exception": false,
     "start_time": "2022-02-17T22:19:56.789613",
     "status": "completed"
    },
    "tags": []
   },
   "source": [
    "## Les importation"
   ]
  },
  {
   "cell_type": "code",
   "execution_count": 2,
   "id": "2fcc8651",
   "metadata": {
    "execution": {
     "iopub.execute_input": "2022-02-17T22:19:57.113477Z",
     "iopub.status.busy": "2022-02-17T22:19:57.112402Z",
     "iopub.status.idle": "2022-02-17T22:19:58.450431Z",
     "shell.execute_reply": "2022-02-17T22:19:58.449799Z",
     "shell.execute_reply.started": "2022-02-17T22:05:09.777203Z"
    },
    "id": "ShXcqLL_DrLZ",
    "papermill": {
     "duration": 1.447063,
     "end_time": "2022-02-17T22:19:58.450604",
     "exception": false,
     "start_time": "2022-02-17T22:19:57.003541",
     "status": "completed"
    },
    "tags": []
   },
   "outputs": [],
   "source": [
    "import pandas as pd\n",
    "import matplotlib.pyplot as plt\n",
    "import numpy as np\n",
    "import seaborn as sns \n",
    "\n",
    "sns.set(rc={'figure.figsize':(10,10)})"
   ]
  },
  {
   "cell_type": "code",
   "execution_count": 3,
   "id": "2352ff7b",
   "metadata": {
    "execution": {
     "iopub.execute_input": "2022-02-17T22:19:58.660015Z",
     "iopub.status.busy": "2022-02-17T22:19:58.659223Z",
     "iopub.status.idle": "2022-02-17T22:19:58.662775Z",
     "shell.execute_reply": "2022-02-17T22:19:58.663434Z",
     "shell.execute_reply.started": "2022-02-17T22:05:15.550984Z"
    },
    "id": "ZHrc4tRyDOd2",
    "outputId": "019e460f-ec1a-4ec5-c855-24a8ec08dd35",
    "papermill": {
     "duration": 0.113166,
     "end_time": "2022-02-17T22:19:58.663621",
     "exception": false,
     "start_time": "2022-02-17T22:19:58.550455",
     "status": "completed"
    },
    "tags": []
   },
   "outputs": [],
   "source": [
    "# %cd drive/MyDrive/kaggle/titani_comp/"
   ]
  },
  {
   "cell_type": "markdown",
   "id": "3f806f47",
   "metadata": {
    "id": "Q06rf3XxKvpE",
    "papermill": {
     "duration": 0.099142,
     "end_time": "2022-02-17T22:19:58.864864",
     "exception": false,
     "start_time": "2022-02-17T22:19:58.765722",
     "status": "completed"
    },
    "tags": []
   },
   "source": [
    "# Load datasets"
   ]
  },
  {
   "cell_type": "code",
   "execution_count": 4,
   "id": "a7ccee24",
   "metadata": {
    "execution": {
     "iopub.execute_input": "2022-02-17T22:19:59.087735Z",
     "iopub.status.busy": "2022-02-17T22:19:59.086818Z",
     "iopub.status.idle": "2022-02-17T22:19:59.109281Z",
     "shell.execute_reply": "2022-02-17T22:19:59.109931Z",
     "shell.execute_reply.started": "2022-02-17T22:06:14.71087Z"
    },
    "id": "E0F72j5rEGM9",
    "papermill": {
     "duration": 0.132922,
     "end_time": "2022-02-17T22:19:59.110204",
     "exception": false,
     "start_time": "2022-02-17T22:19:58.977282",
     "status": "completed"
    },
    "tags": []
   },
   "outputs": [],
   "source": [
    "train = pd.read_csv(\"../input/titanic/train.csv\") #le dataset pour l entrainement\n",
    "# test = pd.read_csv(\"./data/test.csv\")   # le dataset pour le test "
   ]
  },
  {
   "cell_type": "code",
   "execution_count": 5,
   "id": "1b82995d",
   "metadata": {
    "execution": {
     "iopub.execute_input": "2022-02-17T22:19:59.323248Z",
     "iopub.status.busy": "2022-02-17T22:19:59.322473Z",
     "iopub.status.idle": "2022-02-17T22:19:59.330419Z",
     "shell.execute_reply": "2022-02-17T22:19:59.330949Z",
     "shell.execute_reply.started": "2022-02-17T22:06:27.398309Z"
    },
    "id": "hJjbvRCULNTu",
    "outputId": "a1ce4cac-0900-4215-b3b2-b69385ba344e",
    "papermill": {
     "duration": 0.118242,
     "end_time": "2022-02-17T22:19:59.331165",
     "exception": false,
     "start_time": "2022-02-17T22:19:59.212923",
     "status": "completed"
    },
    "tags": []
   },
   "outputs": [
    {
     "data": {
      "text/plain": [
       "(891, 12)"
      ]
     },
     "execution_count": 5,
     "metadata": {},
     "output_type": "execute_result"
    }
   ],
   "source": [
    "train.shape"
   ]
  },
  {
   "cell_type": "markdown",
   "id": "c7a0f71d",
   "metadata": {
    "id": "TjZ2C96vK_-T",
    "papermill": {
     "duration": 0.098829,
     "end_time": "2022-02-17T22:19:59.526513",
     "exception": false,
     "start_time": "2022-02-17T22:19:59.427684",
     "status": "completed"
    },
    "tags": []
   },
   "source": [
    "# Data cleaning & exploration "
   ]
  },
  {
   "cell_type": "code",
   "execution_count": 6,
   "id": "2941fd03",
   "metadata": {
    "execution": {
     "iopub.execute_input": "2022-02-17T22:19:59.739769Z",
     "iopub.status.busy": "2022-02-17T22:19:59.739025Z",
     "iopub.status.idle": "2022-02-17T22:19:59.758755Z",
     "shell.execute_reply": "2022-02-17T22:19:59.759289Z",
     "shell.execute_reply.started": "2022-02-17T22:06:29.714607Z"
    },
    "id": "TZbc5kGwEVO7",
    "outputId": "e2fed23d-4f71-430a-b22d-4430607f7274",
    "papermill": {
     "duration": 0.130511,
     "end_time": "2022-02-17T22:19:59.759486",
     "exception": false,
     "start_time": "2022-02-17T22:19:59.628975",
     "status": "completed"
    },
    "tags": []
   },
   "outputs": [
    {
     "data": {
      "text/plain": [
       "(891, 12)"
      ]
     },
     "execution_count": 6,
     "metadata": {},
     "output_type": "execute_result"
    }
   ],
   "source": [
    "#delete dupliates rows \n",
    "train.drop_duplicates()\n",
    "train.shape # no dupliate ros"
   ]
  },
  {
   "cell_type": "code",
   "execution_count": 7,
   "id": "e9e77aea",
   "metadata": {
    "execution": {
     "iopub.execute_input": "2022-02-17T22:19:59.967894Z",
     "iopub.status.busy": "2022-02-17T22:19:59.967230Z",
     "iopub.status.idle": "2022-02-17T22:19:59.975061Z",
     "shell.execute_reply": "2022-02-17T22:19:59.975561Z",
     "shell.execute_reply.started": "2022-02-17T22:06:31.203182Z"
    },
    "id": "AXn_b9xIW0Sz",
    "outputId": "d628de83-0b97-4d6e-d919-7182c6b37d6e",
    "papermill": {
     "duration": 0.110493,
     "end_time": "2022-02-17T22:19:59.975743",
     "exception": false,
     "start_time": "2022-02-17T22:19:59.865250",
     "status": "completed"
    },
    "tags": []
   },
   "outputs": [
    {
     "data": {
      "text/plain": [
       "PassengerId      0\n",
       "Survived         0\n",
       "Pclass           0\n",
       "Name             0\n",
       "Sex              0\n",
       "Age            177\n",
       "SibSp            0\n",
       "Parch            0\n",
       "Ticket           0\n",
       "Fare             0\n",
       "Cabin          687\n",
       "Embarked         2\n",
       "dtype: int64"
      ]
     },
     "execution_count": 7,
     "metadata": {},
     "output_type": "execute_result"
    }
   ],
   "source": [
    "# test if there are missing values \n",
    "train.isnull().sum()"
   ]
  },
  {
   "cell_type": "code",
   "execution_count": 8,
   "id": "cc9bb69c",
   "metadata": {
    "execution": {
     "iopub.execute_input": "2022-02-17T22:20:00.226950Z",
     "iopub.status.busy": "2022-02-17T22:20:00.226111Z",
     "iopub.status.idle": "2022-02-17T22:20:00.234831Z",
     "shell.execute_reply": "2022-02-17T22:20:00.235443Z",
     "shell.execute_reply.started": "2022-02-17T22:06:31.429327Z"
    },
    "id": "HHhK8JerU8ga",
    "papermill": {
     "duration": 0.141703,
     "end_time": "2022-02-17T22:20:00.235658",
     "exception": false,
     "start_time": "2022-02-17T22:20:00.093955",
     "status": "completed"
    },
    "tags": []
   },
   "outputs": [],
   "source": [
    "#delete the rows that cccontain at least 3 missing values\n",
    "train = train.dropna(axis=0, thresh=2)"
   ]
  },
  {
   "cell_type": "code",
   "execution_count": 9,
   "id": "6e5cc7e1",
   "metadata": {
    "execution": {
     "iopub.execute_input": "2022-02-17T22:20:00.505899Z",
     "iopub.status.busy": "2022-02-17T22:20:00.504767Z",
     "iopub.status.idle": "2022-02-17T22:20:00.527948Z",
     "shell.execute_reply": "2022-02-17T22:20:00.528517Z",
     "shell.execute_reply.started": "2022-02-17T22:06:31.611134Z"
    },
    "id": "kz51PycBEW6y",
    "outputId": "e0d5b212-4b56-4f01-d6c0-0e2c4446a0c1",
    "papermill": {
     "duration": 0.163524,
     "end_time": "2022-02-17T22:20:00.528751",
     "exception": false,
     "start_time": "2022-02-17T22:20:00.365227",
     "status": "completed"
    },
    "tags": []
   },
   "outputs": [
    {
     "data": {
      "text/html": [
       "<div>\n",
       "<style scoped>\n",
       "    .dataframe tbody tr th:only-of-type {\n",
       "        vertical-align: middle;\n",
       "    }\n",
       "\n",
       "    .dataframe tbody tr th {\n",
       "        vertical-align: top;\n",
       "    }\n",
       "\n",
       "    .dataframe thead th {\n",
       "        text-align: right;\n",
       "    }\n",
       "</style>\n",
       "<table border=\"1\" class=\"dataframe\">\n",
       "  <thead>\n",
       "    <tr style=\"text-align: right;\">\n",
       "      <th></th>\n",
       "      <th>PassengerId</th>\n",
       "      <th>Survived</th>\n",
       "      <th>Pclass</th>\n",
       "      <th>Name</th>\n",
       "      <th>Sex</th>\n",
       "      <th>Age</th>\n",
       "      <th>SibSp</th>\n",
       "      <th>Parch</th>\n",
       "      <th>Ticket</th>\n",
       "      <th>Fare</th>\n",
       "      <th>Cabin</th>\n",
       "      <th>Embarked</th>\n",
       "    </tr>\n",
       "  </thead>\n",
       "  <tbody>\n",
       "    <tr>\n",
       "      <th>236</th>\n",
       "      <td>237</td>\n",
       "      <td>0</td>\n",
       "      <td>2</td>\n",
       "      <td>Hold, Mr. Stephen</td>\n",
       "      <td>male</td>\n",
       "      <td>44.0</td>\n",
       "      <td>1</td>\n",
       "      <td>0</td>\n",
       "      <td>26707</td>\n",
       "      <td>26.0000</td>\n",
       "      <td>NaN</td>\n",
       "      <td>S</td>\n",
       "    </tr>\n",
       "    <tr>\n",
       "      <th>136</th>\n",
       "      <td>137</td>\n",
       "      <td>1</td>\n",
       "      <td>1</td>\n",
       "      <td>Newsom, Miss. Helen Monypeny</td>\n",
       "      <td>female</td>\n",
       "      <td>19.0</td>\n",
       "      <td>0</td>\n",
       "      <td>2</td>\n",
       "      <td>11752</td>\n",
       "      <td>26.2833</td>\n",
       "      <td>D47</td>\n",
       "      <td>S</td>\n",
       "    </tr>\n",
       "    <tr>\n",
       "      <th>389</th>\n",
       "      <td>390</td>\n",
       "      <td>1</td>\n",
       "      <td>2</td>\n",
       "      <td>Lehmann, Miss. Bertha</td>\n",
       "      <td>female</td>\n",
       "      <td>17.0</td>\n",
       "      <td>0</td>\n",
       "      <td>0</td>\n",
       "      <td>SC 1748</td>\n",
       "      <td>12.0000</td>\n",
       "      <td>NaN</td>\n",
       "      <td>C</td>\n",
       "    </tr>\n",
       "    <tr>\n",
       "      <th>197</th>\n",
       "      <td>198</td>\n",
       "      <td>0</td>\n",
       "      <td>3</td>\n",
       "      <td>Olsen, Mr. Karl Siegwart Andreas</td>\n",
       "      <td>male</td>\n",
       "      <td>42.0</td>\n",
       "      <td>0</td>\n",
       "      <td>1</td>\n",
       "      <td>4579</td>\n",
       "      <td>8.4042</td>\n",
       "      <td>NaN</td>\n",
       "      <td>S</td>\n",
       "    </tr>\n",
       "    <tr>\n",
       "      <th>287</th>\n",
       "      <td>288</td>\n",
       "      <td>0</td>\n",
       "      <td>3</td>\n",
       "      <td>Naidenoff, Mr. Penko</td>\n",
       "      <td>male</td>\n",
       "      <td>22.0</td>\n",
       "      <td>0</td>\n",
       "      <td>0</td>\n",
       "      <td>349206</td>\n",
       "      <td>7.8958</td>\n",
       "      <td>NaN</td>\n",
       "      <td>S</td>\n",
       "    </tr>\n",
       "  </tbody>\n",
       "</table>\n",
       "</div>"
      ],
      "text/plain": [
       "     PassengerId  Survived  Pclass                              Name     Sex  \\\n",
       "236          237         0       2                 Hold, Mr. Stephen    male   \n",
       "136          137         1       1      Newsom, Miss. Helen Monypeny  female   \n",
       "389          390         1       2             Lehmann, Miss. Bertha  female   \n",
       "197          198         0       3  Olsen, Mr. Karl Siegwart Andreas    male   \n",
       "287          288         0       3              Naidenoff, Mr. Penko    male   \n",
       "\n",
       "      Age  SibSp  Parch   Ticket     Fare Cabin Embarked  \n",
       "236  44.0      1      0    26707  26.0000   NaN        S  \n",
       "136  19.0      0      2    11752  26.2833   D47        S  \n",
       "389  17.0      0      0  SC 1748  12.0000   NaN        C  \n",
       "197  42.0      0      1     4579   8.4042   NaN        S  \n",
       "287  22.0      0      0   349206   7.8958   NaN        S  "
      ]
     },
     "execution_count": 9,
     "metadata": {},
     "output_type": "execute_result"
    }
   ],
   "source": [
    "train.sample(5)"
   ]
  },
  {
   "cell_type": "code",
   "execution_count": 10,
   "id": "c035ddd4",
   "metadata": {
    "execution": {
     "iopub.execute_input": "2022-02-17T22:20:00.775777Z",
     "iopub.status.busy": "2022-02-17T22:20:00.773613Z",
     "iopub.status.idle": "2022-02-17T22:20:00.780984Z",
     "shell.execute_reply": "2022-02-17T22:20:00.781619Z",
     "shell.execute_reply.started": "2022-02-17T22:06:31.780942Z"
    },
    "id": "F7z4Uw9hQ49W",
    "outputId": "91a50f19-e802-41bf-acff-d1ff98d246b4",
    "papermill": {
     "duration": 0.132167,
     "end_time": "2022-02-17T22:20:00.781805",
     "exception": false,
     "start_time": "2022-02-17T22:20:00.649638",
     "status": "completed"
    },
    "tags": []
   },
   "outputs": [
    {
     "data": {
      "text/plain": [
       "PassengerId      int64\n",
       "Survived         int64\n",
       "Pclass           int64\n",
       "Name            object\n",
       "Sex             object\n",
       "Age            float64\n",
       "SibSp            int64\n",
       "Parch            int64\n",
       "Ticket          object\n",
       "Fare           float64\n",
       "Cabin           object\n",
       "Embarked        object\n",
       "dtype: object"
      ]
     },
     "execution_count": 10,
     "metadata": {},
     "output_type": "execute_result"
    }
   ],
   "source": [
    "# the columns type \n",
    "train.dtypes"
   ]
  },
  {
   "cell_type": "markdown",
   "id": "5d9663c7",
   "metadata": {
    "id": "2KA8lpEjYAkj",
    "papermill": {
     "duration": 0.135588,
     "end_time": "2022-02-17T22:20:01.055824",
     "exception": false,
     "start_time": "2022-02-17T22:20:00.920236",
     "status": "completed"
    },
    "tags": []
   },
   "source": [
    "## Traitement de la column  Survived"
   ]
  },
  {
   "cell_type": "code",
   "execution_count": 11,
   "id": "06fa8daf",
   "metadata": {
    "execution": {
     "iopub.execute_input": "2022-02-17T22:20:01.282283Z",
     "iopub.status.busy": "2022-02-17T22:20:01.280988Z",
     "iopub.status.idle": "2022-02-17T22:20:01.285285Z",
     "shell.execute_reply": "2022-02-17T22:20:01.285879Z",
     "shell.execute_reply.started": "2022-02-17T22:06:32.124873Z"
    },
    "id": "QBgAjy0nUuTu",
    "outputId": "46b6a0c5-9b80-41f5-dd58-de687900c456",
    "papermill": {
     "duration": 0.122602,
     "end_time": "2022-02-17T22:20:01.286095",
     "exception": false,
     "start_time": "2022-02-17T22:20:01.163493",
     "status": "completed"
    },
    "tags": []
   },
   "outputs": [
    {
     "data": {
      "text/plain": [
       "array([0, 1])"
      ]
     },
     "execution_count": 11,
     "metadata": {},
     "output_type": "execute_result"
    }
   ],
   "source": [
    "train['Survived'].unique()"
   ]
  },
  {
   "cell_type": "code",
   "execution_count": 12,
   "id": "d474fa2f",
   "metadata": {
    "execution": {
     "iopub.execute_input": "2022-02-17T22:20:01.514855Z",
     "iopub.status.busy": "2022-02-17T22:20:01.513844Z",
     "iopub.status.idle": "2022-02-17T22:20:01.918611Z",
     "shell.execute_reply": "2022-02-17T22:20:01.917952Z",
     "shell.execute_reply.started": "2022-02-17T22:06:32.302837Z"
    },
    "id": "kZhmz0yRUuWW",
    "outputId": "dc807e9f-dd74-409d-8393-c737b72be510",
    "papermill": {
     "duration": 0.518022,
     "end_time": "2022-02-17T22:20:01.918772",
     "exception": false,
     "start_time": "2022-02-17T22:20:01.400750",
     "status": "completed"
    },
    "tags": []
   },
   "outputs": [
    {
     "data": {
      "image/png": "[encoded data removed]",
      "text/plain": [
       "<Figure size 720x720 with 1 Axes>"
      ]
     },
     "metadata": {},
     "output_type": "display_data"
    }
   ],
   "source": [
    "_ =sns.histplot(data = train, x='Survived', bins=10, stat=\"count\")"
   ]
  },
  {
   "cell_type": "code",
   "execution_count": 13,
   "id": "67ced09b",
   "metadata": {
    "execution": {
     "iopub.execute_input": "2022-02-17T22:20:02.186767Z",
     "iopub.status.busy": "2022-02-17T22:20:02.185714Z",
     "iopub.status.idle": "2022-02-17T22:20:02.192760Z",
     "shell.execute_reply": "2022-02-17T22:20:02.191346Z",
     "shell.execute_reply.started": "2022-02-17T22:06:32.659974Z"
    },
    "id": "c1eSPG1XUuZK",
    "outputId": "7cfdda39-16aa-4c0a-ccfd-4866f5e4f7fd",
    "papermill": {
     "duration": 0.139787,
     "end_time": "2022-02-17T22:20:02.192998",
     "exception": false,
     "start_time": "2022-02-17T22:20:02.053211",
     "status": "completed"
    },
    "tags": []
   },
   "outputs": [
    {
     "data": {
      "text/plain": [
       "0    549\n",
       "1    342\n",
       "Name: Survived, dtype: int64"
      ]
     },
     "execution_count": 13,
     "metadata": {},
     "output_type": "execute_result"
    }
   ],
   "source": [
    "train['Survived'].value_counts() "
   ]
  },
  {
   "cell_type": "markdown",
   "id": "8de55334",
   "metadata": {
    "id": "VP2cpHYX9xMU",
    "papermill": {
     "duration": 0.113332,
     "end_time": "2022-02-17T22:20:02.416854",
     "exception": false,
     "start_time": "2022-02-17T22:20:02.303522",
     "status": "completed"
    },
    "tags": []
   },
   "source": [
    "On remarque que le nombre des non survivant est bcp plus que celui des survivant "
   ]
  },
  {
   "cell_type": "markdown",
   "id": "cc503084",
   "metadata": {
    "id": "dM5gibex-XYn",
    "papermill": {
     "duration": 0.115303,
     "end_time": "2022-02-17T22:20:02.648505",
     "exception": false,
     "start_time": "2022-02-17T22:20:02.533202",
     "status": "completed"
    },
    "tags": []
   },
   "source": [
    "## Traitement de la column Pclass"
   ]
  },
  {
   "cell_type": "code",
   "execution_count": 14,
   "id": "2572d595",
   "metadata": {
    "execution": {
     "iopub.execute_input": "2022-02-17T22:20:02.880170Z",
     "iopub.status.busy": "2022-02-17T22:20:02.879128Z",
     "iopub.status.idle": "2022-02-17T22:20:02.886688Z",
     "shell.execute_reply": "2022-02-17T22:20:02.887351Z",
     "shell.execute_reply.started": "2022-02-17T22:06:34.441783Z"
    },
    "id": "pw4La1woUubm",
    "outputId": "6a14846e-8b2d-4c4d-c992-40b3f5d7c1db",
    "papermill": {
     "duration": 0.124014,
     "end_time": "2022-02-17T22:20:02.887542",
     "exception": false,
     "start_time": "2022-02-17T22:20:02.763528",
     "status": "completed"
    },
    "tags": []
   },
   "outputs": [
    {
     "data": {
      "text/plain": [
       "0"
      ]
     },
     "execution_count": 14,
     "metadata": {},
     "output_type": "execute_result"
    }
   ],
   "source": [
    "train['Pclass'].isna().sum() # pas de valeurs manquantes "
   ]
  },
  {
   "cell_type": "code",
   "execution_count": 15,
   "id": "ea74f77a",
   "metadata": {
    "execution": {
     "iopub.execute_input": "2022-02-17T22:20:03.117091Z",
     "iopub.status.busy": "2022-02-17T22:20:03.116070Z",
     "iopub.status.idle": "2022-02-17T22:20:03.124469Z",
     "shell.execute_reply": "2022-02-17T22:20:03.125081Z",
     "shell.execute_reply.started": "2022-02-17T22:06:34.639578Z"
    },
    "id": "aUSwBvVlUueB",
    "outputId": "37c82f58-33d4-4fb7-bd50-f8c7661b73e4",
    "papermill": {
     "duration": 0.12731,
     "end_time": "2022-02-17T22:20:03.125280",
     "exception": false,
     "start_time": "2022-02-17T22:20:02.997970",
     "status": "completed"
    },
    "tags": []
   },
   "outputs": [
    {
     "data": {
      "text/plain": [
       "3    491\n",
       "1    216\n",
       "2    184\n",
       "Name: Pclass, dtype: int64"
      ]
     },
     "execution_count": 15,
     "metadata": {},
     "output_type": "execute_result"
    }
   ],
   "source": [
    "train['Pclass'].value_counts() # y a plus de gents dans la classe 3 "
   ]
  },
  {
   "cell_type": "code",
   "execution_count": 16,
   "id": "f4a601dd",
   "metadata": {
    "execution": {
     "iopub.execute_input": "2022-02-17T22:20:03.349604Z",
     "iopub.status.busy": "2022-02-17T22:20:03.348555Z",
     "iopub.status.idle": "2022-02-17T22:20:03.766316Z",
     "shell.execute_reply": "2022-02-17T22:20:03.765582Z",
     "shell.execute_reply.started": "2022-02-17T22:06:34.82293Z"
    },
    "id": "BloP-8I1UugV",
    "outputId": "64e6779c-1117-42c2-fb77-a3e337331f3c",
    "papermill": {
     "duration": 0.529953,
     "end_time": "2022-02-17T22:20:03.766475",
     "exception": false,
     "start_time": "2022-02-17T22:20:03.236522",
     "status": "completed"
    },
    "tags": []
   },
   "outputs": [
    {
     "data": {
      "text/plain": [
       "<AxesSubplot:xlabel='Pclass', ylabel='Percent'>"
      ]
     },
     "execution_count": 16,
     "metadata": {},
     "output_type": "execute_result"
    },
    {
     "data": {
      "image/png": "[encoded data removed]",
      "text/plain": [
       "<Figure size 720x720 with 1 Axes>"
      ]
     },
     "metadata": {},
     "output_type": "display_data"
    }
   ],
   "source": [
    "# la distribution des classe en fonction de survived \n",
    "\n",
    "sns.histplot(data=train, x=\"Pclass\", hue=\"Survived\", discrete=True, multiple=\"stack\", stat=\"percent\")"
   ]
  },
  {
   "cell_type": "markdown",
   "id": "5372bb08",
   "metadata": {
    "id": "Oi7hMfkhNpH1",
    "papermill": {
     "duration": 0.110776,
     "end_time": "2022-02-17T22:20:04.009947",
     "exception": false,
     "start_time": "2022-02-17T22:20:03.899171",
     "status": "completed"
    },
    "tags": []
   },
   "source": [
    "Remarque: \n",
    "on remarque que la classe ou les gents on plus survecu est la première classe contrairement à la troisième classe "
   ]
  },
  {
   "cell_type": "markdown",
   "id": "30517a51",
   "metadata": {
    "id": "1APDZC2YvL62",
    "papermill": {
     "duration": 0.104022,
     "end_time": "2022-02-17T22:20:04.217620",
     "exception": false,
     "start_time": "2022-02-17T22:20:04.113598",
     "status": "completed"
    },
    "tags": []
   },
   "source": [
    "## Traitement colonne **Name**"
   ]
  },
  {
   "cell_type": "code",
   "execution_count": 17,
   "id": "62e53bb7",
   "metadata": {
    "execution": {
     "iopub.execute_input": "2022-02-17T22:20:04.434687Z",
     "iopub.status.busy": "2022-02-17T22:20:04.433915Z",
     "iopub.status.idle": "2022-02-17T22:20:04.441712Z",
     "shell.execute_reply": "2022-02-17T22:20:04.442264Z",
     "shell.execute_reply.started": "2022-02-17T22:06:35.325299Z"
    },
    "id": "XIx3UKdkvKfY",
    "outputId": "19a6dbf8-5c14-4464-a97d-a10a126ad42c",
    "papermill": {
     "duration": 0.11847,
     "end_time": "2022-02-17T22:20:04.442452",
     "exception": false,
     "start_time": "2022-02-17T22:20:04.323982",
     "status": "completed"
    },
    "tags": []
   },
   "outputs": [
    {
     "name": "stdout",
     "output_type": "stream",
     "text": [
      "0\n",
      "0\n",
      "(891,)\n"
     ]
    }
   ],
   "source": [
    "print(train.Name.isnull().sum()) # pas de variable manquant \n",
    "print(train.Name.isna().sum())\n",
    "print(train.Name.unique().shape) # tous le noms sont différents"
   ]
  },
  {
   "cell_type": "code",
   "execution_count": 18,
   "id": "dade44fc",
   "metadata": {
    "execution": {
     "iopub.execute_input": "2022-02-17T22:20:04.664778Z",
     "iopub.status.busy": "2022-02-17T22:20:04.663784Z",
     "iopub.status.idle": "2022-02-17T22:20:05.121856Z",
     "shell.execute_reply": "2022-02-17T22:20:05.121115Z",
     "shell.execute_reply.started": "2022-02-17T22:06:35.493313Z"
    },
    "id": "INj1J7S8vXpc",
    "outputId": "3eb03e2b-89cb-4817-fd7b-38cb15f321ea",
    "papermill": {
     "duration": 0.568528,
     "end_time": "2022-02-17T22:20:05.122068",
     "exception": false,
     "start_time": "2022-02-17T22:20:04.553540",
     "status": "completed"
    },
    "tags": []
   },
   "outputs": [
    {
     "data": {
      "image/png": "[encoded data removed]",
      "text/plain": [
       "<Figure size 720x720 with 1 Axes>"
      ]
     },
     "metadata": {},
     "output_type": "display_data"
    }
   ],
   "source": [
    "train[\"title\"] = train.Name.apply(lambda x: x.split(\", \")[1].split(\".\")[0]) \n",
    "sns.histplot(data=train, x=\"title\", hue=\"Survived\", discrete=True, multiple=\"stack\", stat=\"percent\")\n",
    "plt.show()"
   ]
  },
  {
   "cell_type": "markdown",
   "id": "1fb924d7",
   "metadata": {
    "id": "_lXt0_97BLRI",
    "papermill": {
     "duration": 0.112981,
     "end_time": "2022-02-17T22:20:05.347134",
     "exception": false,
     "start_time": "2022-02-17T22:20:05.234153",
     "status": "completed"
    },
    "tags": []
   },
   "source": [
    "Remarque: \n",
    "La plupart des passagers sont des Mr, Mrs et Miss"
   ]
  },
  {
   "cell_type": "markdown",
   "id": "d2eca8aa",
   "metadata": {
    "id": "crOJ1lFVQbyU",
    "papermill": {
     "duration": 0.109062,
     "end_time": "2022-02-17T22:20:05.560513",
     "exception": false,
     "start_time": "2022-02-17T22:20:05.451451",
     "status": "completed"
    },
    "tags": []
   },
   "source": [
    "## Traitement de la column Sex"
   ]
  },
  {
   "cell_type": "code",
   "execution_count": 19,
   "id": "1d895d4f",
   "metadata": {
    "execution": {
     "iopub.execute_input": "2022-02-17T22:20:05.786653Z",
     "iopub.status.busy": "2022-02-17T22:20:05.785943Z",
     "iopub.status.idle": "2022-02-17T22:20:05.788679Z",
     "shell.execute_reply": "2022-02-17T22:20:05.789194Z",
     "shell.execute_reply.started": "2022-02-17T22:06:37.753057Z"
    },
    "id": "BnmF6mRgQa16",
    "outputId": "b4538bd6-386a-4029-8a1c-126933c0b6cc",
    "papermill": {
     "duration": 0.118273,
     "end_time": "2022-02-17T22:20:05.789368",
     "exception": false,
     "start_time": "2022-02-17T22:20:05.671095",
     "status": "completed"
    },
    "tags": []
   },
   "outputs": [
    {
     "data": {
      "text/plain": [
       "0"
      ]
     },
     "execution_count": 19,
     "metadata": {},
     "output_type": "execute_result"
    }
   ],
   "source": [
    "train['Sex'].isna().sum() # pas de valeurs manquantes "
   ]
  },
  {
   "cell_type": "code",
   "execution_count": 20,
   "id": "b42e0eba",
   "metadata": {
    "execution": {
     "iopub.execute_input": "2022-02-17T22:20:06.018807Z",
     "iopub.status.busy": "2022-02-17T22:20:06.018086Z",
     "iopub.status.idle": "2022-02-17T22:20:06.022961Z",
     "shell.execute_reply": "2022-02-17T22:20:06.023532Z",
     "shell.execute_reply.started": "2022-02-17T22:06:37.977497Z"
    },
    "id": "M666PAqAQa8b",
    "outputId": "5e0cf1fe-5af0-4fd7-e4d7-af06532fb54d",
    "papermill": {
     "duration": 0.121224,
     "end_time": "2022-02-17T22:20:06.023715",
     "exception": false,
     "start_time": "2022-02-17T22:20:05.902491",
     "status": "completed"
    },
    "tags": []
   },
   "outputs": [
    {
     "data": {
      "text/plain": [
       "array(['male', 'female'], dtype=object)"
      ]
     },
     "execution_count": 20,
     "metadata": {},
     "output_type": "execute_result"
    }
   ],
   "source": [
    "train.Sex.unique()"
   ]
  },
  {
   "cell_type": "code",
   "execution_count": 21,
   "id": "215fa812",
   "metadata": {
    "execution": {
     "iopub.execute_input": "2022-02-17T22:20:06.247518Z",
     "iopub.status.busy": "2022-02-17T22:20:06.246723Z",
     "iopub.status.idle": "2022-02-17T22:20:06.465903Z",
     "shell.execute_reply": "2022-02-17T22:20:06.465289Z",
     "shell.execute_reply.started": "2022-02-17T22:06:38.158658Z"
    },
    "id": "PzXJMWB-RU3d",
    "outputId": "bb08ee94-27e8-4a79-a2c9-fff86d45b00b",
    "papermill": {
     "duration": 0.334535,
     "end_time": "2022-02-17T22:20:06.466094",
     "exception": false,
     "start_time": "2022-02-17T22:20:06.131559",
     "status": "completed"
    },
    "tags": []
   },
   "outputs": [
    {
     "data": {
      "image/png": "[encoded data removed]",
      "text/plain": [
       "<Figure size 720x720 with 1 Axes>"
      ]
     },
     "metadata": {},
     "output_type": "display_data"
    }
   ],
   "source": [
    "# la distrubution du sex \n",
    "_ =sns.histplot(data = train, x='Sex', bins=10, stat=\"count\")"
   ]
  },
  {
   "cell_type": "markdown",
   "id": "03949c4f",
   "metadata": {
    "id": "pChmaLAISDYt",
    "papermill": {
     "duration": 0.110727,
     "end_time": "2022-02-17T22:20:06.686329",
     "exception": false,
     "start_time": "2022-02-17T22:20:06.575602",
     "status": "completed"
    },
    "tags": []
   },
   "source": [
    "Remarque: il y a plus d'homme sur le bateau que de femme( à peu pres la moitié) "
   ]
  },
  {
   "cell_type": "code",
   "execution_count": 22,
   "id": "f3ef6a00",
   "metadata": {
    "execution": {
     "iopub.execute_input": "2022-02-17T22:20:06.917958Z",
     "iopub.status.busy": "2022-02-17T22:20:06.917199Z",
     "iopub.status.idle": "2022-02-17T22:20:07.197672Z",
     "shell.execute_reply": "2022-02-17T22:20:07.197006Z",
     "shell.execute_reply.started": "2022-02-17T22:06:38.488864Z"
    },
    "id": "-Hw-D8l2SPs_",
    "outputId": "b73a353c-ee52-43d9-aa12-feb83dc32a64",
    "papermill": {
     "duration": 0.402234,
     "end_time": "2022-02-17T22:20:07.197825",
     "exception": false,
     "start_time": "2022-02-17T22:20:06.795591",
     "status": "completed"
    },
    "tags": []
   },
   "outputs": [
    {
     "data": {
      "text/plain": [
       "<AxesSubplot:xlabel='Sex', ylabel='Percent'>"
      ]
     },
     "execution_count": 22,
     "metadata": {},
     "output_type": "execute_result"
    },
    {
     "data": {
      "image/png": "[encoded data removed]",
      "text/plain": [
       "<Figure size 720x720 with 1 Axes>"
      ]
     },
     "metadata": {},
     "output_type": "display_data"
    }
   ],
   "source": [
    "sns.histplot(data=train, x=\"Sex\", hue=\"Survived\", discrete=True, multiple=\"stack\", stat=\"percent\")"
   ]
  },
  {
   "cell_type": "markdown",
   "id": "cef5b8b6",
   "metadata": {
    "id": "G5yr0W4lSc0U",
    "papermill": {
     "duration": 0.111769,
     "end_time": "2022-02-17T22:20:07.416942",
     "exception": false,
     "start_time": "2022-02-17T22:20:07.305173",
     "status": "completed"
    },
    "tags": []
   },
   "source": [
    "Remarque: plus que la moitié des femme présente sur le bateau ont été sauvé contrairment au homme ou on voit que la majorité se sont noyés"
   ]
  },
  {
   "cell_type": "markdown",
   "id": "fa92082c",
   "metadata": {
    "id": "wztcPWz8N7oB",
    "papermill": {
     "duration": 0.10737,
     "end_time": "2022-02-17T22:20:07.631907",
     "exception": false,
     "start_time": "2022-02-17T22:20:07.524537",
     "status": "completed"
    },
    "tags": []
   },
   "source": [
    "## Traitement de la column Age"
   ]
  },
  {
   "cell_type": "code",
   "execution_count": 23,
   "id": "52f97a07",
   "metadata": {
    "execution": {
     "iopub.execute_input": "2022-02-17T22:20:07.863549Z",
     "iopub.status.busy": "2022-02-17T22:20:07.862691Z",
     "iopub.status.idle": "2022-02-17T22:20:07.866069Z",
     "shell.execute_reply": "2022-02-17T22:20:07.866564Z",
     "shell.execute_reply.started": "2022-02-17T22:06:40.751617Z"
    },
    "id": "NewaG9K5vzre",
    "outputId": "4e7856d9-4620-4137-9c41-e48ec70c5ba6",
    "papermill": {
     "duration": 0.120888,
     "end_time": "2022-02-17T22:20:07.866734",
     "exception": false,
     "start_time": "2022-02-17T22:20:07.745846",
     "status": "completed"
    },
    "tags": []
   },
   "outputs": [
    {
     "data": {
      "text/plain": [
       "177"
      ]
     },
     "execution_count": 23,
     "metadata": {},
     "output_type": "execute_result"
    }
   ],
   "source": [
    "train['Age'].isna().sum()  # on a 177 valeurs manquante dans la colonne age "
   ]
  },
  {
   "cell_type": "code",
   "execution_count": 24,
   "id": "a7b05817",
   "metadata": {
    "execution": {
     "iopub.execute_input": "2022-02-17T22:20:08.087748Z",
     "iopub.status.busy": "2022-02-17T22:20:08.086766Z",
     "iopub.status.idle": "2022-02-17T22:20:08.098079Z",
     "shell.execute_reply": "2022-02-17T22:20:08.098563Z",
     "shell.execute_reply.started": "2022-02-17T22:06:41.885012Z"
    },
    "id": "MT1PsNZXv6tM",
    "outputId": "88a98dcf-12d2-4811-d460-cd7e45af32b8",
    "papermill": {
     "duration": 0.123163,
     "end_time": "2022-02-17T22:20:08.098744",
     "exception": false,
     "start_time": "2022-02-17T22:20:07.975581",
     "status": "completed"
    },
    "tags": []
   },
   "outputs": [
    {
     "data": {
      "text/plain": [
       "count    714.000000\n",
       "mean      29.699118\n",
       "std       14.526497\n",
       "min        0.420000\n",
       "25%       20.125000\n",
       "50%       28.000000\n",
       "75%       38.000000\n",
       "max       80.000000\n",
       "Name: Age, dtype: float64"
      ]
     },
     "execution_count": 24,
     "metadata": {},
     "output_type": "execute_result"
    }
   ],
   "source": [
    "train['Age'].describe()"
   ]
  },
  {
   "cell_type": "markdown",
   "id": "b0586105",
   "metadata": {
    "id": "PaY-4I4fwBF-",
    "papermill": {
     "duration": 0.109444,
     "end_time": "2022-02-17T22:20:08.320648",
     "exception": false,
     "start_time": "2022-02-17T22:20:08.211204",
     "status": "completed"
    },
    "tags": []
   },
   "source": [
    "Remarque : La majorité des passagers ont un age entre 10 et 50 ans "
   ]
  },
  {
   "cell_type": "code",
   "execution_count": 25,
   "id": "1c52acf2",
   "metadata": {
    "execution": {
     "iopub.execute_input": "2022-02-17T22:20:08.543739Z",
     "iopub.status.busy": "2022-02-17T22:20:08.542886Z",
     "iopub.status.idle": "2022-02-17T22:20:08.546147Z",
     "shell.execute_reply": "2022-02-17T22:20:08.546634Z",
     "shell.execute_reply.started": "2022-02-17T22:06:42.24909Z"
    },
    "id": "ZMgm57fLyce2",
    "outputId": "b76b7dbf-c7f3-4844-dbe1-552cae091614",
    "papermill": {
     "duration": 0.118356,
     "end_time": "2022-02-17T22:20:08.546804",
     "exception": false,
     "start_time": "2022-02-17T22:20:08.428448",
     "status": "completed"
    },
    "tags": []
   },
   "outputs": [
    {
     "data": {
      "text/plain": [
       "177"
      ]
     },
     "execution_count": 25,
     "metadata": {},
     "output_type": "execute_result"
    }
   ],
   "source": [
    "train[\"Age\"].isna().sum() #  on a des valeurs manquantes à traiter plus tard"
   ]
  },
  {
   "cell_type": "code",
   "execution_count": 26,
   "id": "71ea5614",
   "metadata": {
    "execution": {
     "iopub.execute_input": "2022-02-17T22:20:08.771998Z",
     "iopub.status.busy": "2022-02-17T22:20:08.770704Z",
     "iopub.status.idle": "2022-02-17T22:20:09.212559Z",
     "shell.execute_reply": "2022-02-17T22:20:09.211482Z",
     "shell.execute_reply.started": "2022-02-17T22:06:43.260973Z"
    },
    "id": "fo3MUl8KwAzt",
    "outputId": "e95cb344-0bb2-49e0-d260-0e6ccf82879e",
    "papermill": {
     "duration": 0.555713,
     "end_time": "2022-02-17T22:20:09.212716",
     "exception": false,
     "start_time": "2022-02-17T22:20:08.657003",
     "status": "completed"
    },
    "tags": []
   },
   "outputs": [
    {
     "data": {
      "image/png": "[encoded data removed]",
      "text/plain": [
       "<Figure size 720x720 with 1 Axes>"
      ]
     },
     "metadata": {},
     "output_type": "display_data"
    }
   ],
   "source": [
    "sns.histplot(data=train, x=\"Age\", hue=\"Survived\", discrete=False, multiple=\"stack\", stat=\"percent\")\n",
    "plt.show()"
   ]
  },
  {
   "cell_type": "markdown",
   "id": "d9aedae4",
   "metadata": {
    "id": "tj50Edb8wM4X",
    "papermill": {
     "duration": 0.110299,
     "end_time": "2022-02-17T22:20:09.433801",
     "exception": false,
     "start_time": "2022-02-17T22:20:09.323502",
     "status": "completed"
    },
    "tags": []
   },
   "source": [
    "Remarque: \n",
    "  - la proportion des enfant en bas age sauvés est plus grande que celle noyés\n",
    "  - Avec l'avance de l'ages le nombre de personne sauvé diminue \n",
    "  les 25-30 ans sont les plus noyés \n",
    "  - une descrittisation de l'age sera faite plus tard "
   ]
  },
  {
   "cell_type": "markdown",
   "id": "c23cefaf",
   "metadata": {
    "id": "oYA7WKinjmKW",
    "papermill": {
     "duration": 0.114493,
     "end_time": "2022-02-17T22:20:09.660239",
     "exception": false,
     "start_time": "2022-02-17T22:20:09.545746",
     "status": "completed"
    },
    "tags": []
   },
   "source": [
    "## Age VS Sex Vs Survived"
   ]
  },
  {
   "cell_type": "code",
   "execution_count": 27,
   "id": "76234a4b",
   "metadata": {
    "execution": {
     "iopub.execute_input": "2022-02-17T22:20:09.893913Z",
     "iopub.status.busy": "2022-02-17T22:20:09.893130Z",
     "iopub.status.idle": "2022-02-17T22:20:10.628650Z",
     "shell.execute_reply": "2022-02-17T22:20:10.627977Z",
     "shell.execute_reply.started": "2022-02-17T22:06:43.789064Z"
    },
    "id": "Z6JyLzobjtML",
    "outputId": "f5c96f64-8bd6-4e7b-de3f-d4b119119402",
    "papermill": {
     "duration": 0.855665,
     "end_time": "2022-02-17T22:20:10.628792",
     "exception": false,
     "start_time": "2022-02-17T22:20:09.773127",
     "status": "completed"
    },
    "tags": []
   },
   "outputs": [
    {
     "name": "stderr",
     "output_type": "stream",
     "text": [
      "/opt/conda/lib/python3.7/site-packages/seaborn/distributions.py:2619: FutureWarning: `distplot` is a deprecated function and will be removed in a future version. Please adapt your code to use either `displot` (a figure-level function with similar flexibility) or `histplot` (an axes-level function for histograms).\n",
      "  warnings.warn(msg, FutureWarning)\n"
     ]
    },
    {
     "data": {
      "text/plain": [
       "Text(0.5, 1.0, 'Male')"
      ]
     },
     "execution_count": 27,
     "metadata": {},
     "output_type": "execute_result"
    },
    {
     "data": {
      "image/png": "[encoded data removed]",
      "text/plain": [
       "<Figure size 720x288 with 2 Axes>"
      ]
     },
     "metadata": {},
     "output_type": "display_data"
    }
   ],
   "source": [
    "fig, axes = plt.subplots(nrows=1, ncols=2,figsize=(10, 4)) # un figure en deux colonne \n",
    "women = train[train['Sex']=='female'] # un subdataset de femme \n",
    "men = train[train['Sex']=='male'] # un subdataset de homme\n",
    "\n",
    "ax = sns.distplot(women[women['Survived']==1].Age, bins=18, label = 'survived', ax = axes[0], kde =False) #les femme survecu\n",
    "ax = sns.distplot(women[women['Survived']==0].Age, bins=18, label = 'not_survived', ax = axes[0], kde =False) # les femme non survecu\n",
    "ax.legend()\n",
    "ax.set_title('Female')\n",
    "\n",
    "\n",
    "ax = sns.distplot(men[men['Survived']==1].Age, bins=18, label = 'survived', ax = axes[1], kde =False) #les homme survecu\n",
    "ax = sns.distplot(men[men['Survived']==0].Age, bins=18, label = 'not_survived', ax = axes[1], kde =False) # les fhomme non survecu\n",
    "ax.legend()\n",
    "ax.set_title('Male')"
   ]
  },
  {
   "cell_type": "markdown",
   "id": "8db148bb",
   "metadata": {
    "id": "BO-QWtxKm_ZU",
    "papermill": {
     "duration": 0.12164,
     "end_time": "2022-02-17T22:20:10.863883",
     "exception": false,
     "start_time": "2022-02-17T22:20:10.742243",
     "status": "completed"
    },
    "tags": []
   },
   "source": [
    "Remarque \n",
    "\n",
    "   - les femmes entre 15 et 40 ans ont une plus grand probabilité de survive. \n",
    "    la proportion des femmes non survecus est plus  faible que celle sauvés quel que    soit   l'age\n",
    " \n",
    " - Les homme entre 15 et 50 ans ont eu une plus faible probabilité de survivre\n",
    " la proportion des homme noyéa et suppérieur à celle sauvés\n",
    "\n",
    " - Dans tous les cas les enfants ont une plus petite probabilité de survivre par rapport au autre ages"
   ]
  },
  {
   "cell_type": "markdown",
   "id": "fef51162",
   "metadata": {
    "id": "SEBm3oWte4oI",
    "papermill": {
     "duration": 0.113182,
     "end_time": "2022-02-17T22:20:11.093860",
     "exception": false,
     "start_time": "2022-02-17T22:20:10.980678",
     "status": "completed"
    },
    "tags": []
   },
   "source": [
    "Remarque : La majorité des passagers ont un age entre 10 et 50 ans "
   ]
  },
  {
   "cell_type": "markdown",
   "id": "88f10b56",
   "metadata": {
    "id": "mt6g7UIDPakp",
    "papermill": {
     "duration": 0.115265,
     "end_time": "2022-02-17T22:20:11.322871",
     "exception": false,
     "start_time": "2022-02-17T22:20:11.207606",
     "status": "completed"
    },
    "tags": []
   },
   "source": [
    "## Traitement de la column SibSp"
   ]
  },
  {
   "cell_type": "code",
   "execution_count": 28,
   "id": "db4bd5b1",
   "metadata": {
    "execution": {
     "iopub.execute_input": "2022-02-17T22:20:11.569687Z",
     "iopub.status.busy": "2022-02-17T22:20:11.568814Z",
     "iopub.status.idle": "2022-02-17T22:20:11.573483Z",
     "shell.execute_reply": "2022-02-17T22:20:11.574155Z",
     "shell.execute_reply.started": "2022-02-17T22:06:46.041164Z"
    },
    "id": "pVs9AkaAOdML",
    "outputId": "37759d5f-3ddf-4a7f-d378-035860a955cb",
    "papermill": {
     "duration": 0.131343,
     "end_time": "2022-02-17T22:20:11.574336",
     "exception": false,
     "start_time": "2022-02-17T22:20:11.442993",
     "status": "completed"
    },
    "tags": []
   },
   "outputs": [
    {
     "data": {
      "text/plain": [
       "0"
      ]
     },
     "execution_count": 28,
     "metadata": {},
     "output_type": "execute_result"
    }
   ],
   "source": [
    "train['SibSp'].isna().sum() # pas de valeurs manquantes"
   ]
  },
  {
   "cell_type": "code",
   "execution_count": 29,
   "id": "3525d766",
   "metadata": {
    "execution": {
     "iopub.execute_input": "2022-02-17T22:20:11.840061Z",
     "iopub.status.busy": "2022-02-17T22:20:11.839281Z",
     "iopub.status.idle": "2022-02-17T22:20:11.846682Z",
     "shell.execute_reply": "2022-02-17T22:20:11.847238Z",
     "shell.execute_reply.started": "2022-02-17T22:06:46.231057Z"
    },
    "id": "3WOajySEdQrC",
    "outputId": "cf71e730-cd7c-418a-ab29-606c32bc91ee",
    "papermill": {
     "duration": 0.144932,
     "end_time": "2022-02-17T22:20:11.847475",
     "exception": false,
     "start_time": "2022-02-17T22:20:11.702543",
     "status": "completed"
    },
    "tags": []
   },
   "outputs": [
    {
     "data": {
      "text/plain": [
       "array([1, 0, 3, 4, 2, 5, 8])"
      ]
     },
     "execution_count": 29,
     "metadata": {},
     "output_type": "execute_result"
    }
   ],
   "source": [
    "\n",
    "train.SibSp.unique()"
   ]
  },
  {
   "cell_type": "code",
   "execution_count": 30,
   "id": "137a73bf",
   "metadata": {
    "execution": {
     "iopub.execute_input": "2022-02-17T22:20:12.114683Z",
     "iopub.status.busy": "2022-02-17T22:20:12.113781Z",
     "iopub.status.idle": "2022-02-17T22:20:12.642811Z",
     "shell.execute_reply": "2022-02-17T22:20:12.643416Z",
     "shell.execute_reply.started": "2022-02-17T22:06:46.421301Z"
    },
    "id": "ReFo-6MaTRE-",
    "outputId": "5c894fd6-f4ae-4bc5-8dd6-59c36b4f0370",
    "papermill": {
     "duration": 0.660345,
     "end_time": "2022-02-17T22:20:12.643600",
     "exception": false,
     "start_time": "2022-02-17T22:20:11.983255",
     "status": "completed"
    },
    "tags": []
   },
   "outputs": [
    {
     "data": {
      "image/png": "[encoded data removed]",
      "text/plain": [
       "<Figure size 720x720 with 1 Axes>"
      ]
     },
     "metadata": {},
     "output_type": "display_data"
    }
   ],
   "source": [
    "#la distribution de la variable SibSp \n",
    "_ =sns.histplot(data = train, x='SibSp', bins=10, stat=\"count\")\n",
    "\n"
   ]
  },
  {
   "cell_type": "markdown",
   "id": "788e85d9",
   "metadata": {
    "id": "J1vfrC2DU46q",
    "papermill": {
     "duration": 0.124477,
     "end_time": "2022-02-17T22:20:12.889318",
     "exception": false,
     "start_time": "2022-02-17T22:20:12.764841",
     "status": "completed"
    },
    "tags": []
   },
   "source": [
    "Remarque: \n",
    "on remarque que y a bcp de personne qui n'ont pas un frère/soeur/demi_frere/demi soeurs présent sur le bateau. Y en a un nombre non négligable de famille avec 1 enfants mais de moins en moins de famille avec 2 et plus d'enfants."
   ]
  },
  {
   "cell_type": "markdown",
   "id": "a9a5252c",
   "metadata": {
    "id": "cTac3jKPYFGG",
    "papermill": {
     "duration": 0.128614,
     "end_time": "2022-02-17T22:20:13.152069",
     "exception": false,
     "start_time": "2022-02-17T22:20:13.023455",
     "status": "completed"
    },
    "tags": []
   },
   "source": [
    "Pour ce qui suit on simplifie cette variable on remplacent tous ceux qui possède au moin 1 frère ... par 1. \n"
   ]
  },
  {
   "cell_type": "code",
   "execution_count": 31,
   "id": "30ddd2db",
   "metadata": {
    "execution": {
     "iopub.execute_input": "2022-02-17T22:20:13.426239Z",
     "iopub.status.busy": "2022-02-17T22:20:13.425364Z",
     "iopub.status.idle": "2022-02-17T22:20:13.834922Z",
     "shell.execute_reply": "2022-02-17T22:20:13.834228Z",
     "shell.execute_reply.started": "2022-02-17T22:06:48.147729Z"
    },
    "id": "yWzxAjbo9mPn",
    "outputId": "67fd5688-f3c4-4581-e857-71de6484e9ef",
    "papermill": {
     "duration": 0.5455,
     "end_time": "2022-02-17T22:20:13.835106",
     "exception": false,
     "start_time": "2022-02-17T22:20:13.289606",
     "status": "completed"
    },
    "tags": []
   },
   "outputs": [
    {
     "data": {
      "text/plain": [
       "<AxesSubplot:xlabel='SibSp', ylabel='Percent'>"
      ]
     },
     "execution_count": 31,
     "metadata": {},
     "output_type": "execute_result"
    },
    {
     "data": {
      "image/png": "[encoded data removed]",
      "text/plain": [
       "<Figure size 720x720 with 1 Axes>"
      ]
     },
     "metadata": {},
     "output_type": "display_data"
    }
   ],
   "source": [
    "sns.histplot(data=train, x=\"SibSp\", hue=\"Survived\", discrete=True, multiple=\"stack\", stat=\"percent\")"
   ]
  },
  {
   "cell_type": "markdown",
   "id": "0bc16a68",
   "metadata": {
    "id": "PKYc24_z93oj",
    "papermill": {
     "duration": 0.122773,
     "end_time": "2022-02-17T22:20:14.079916",
     "exception": false,
     "start_time": "2022-02-17T22:20:13.957143",
     "status": "completed"
    },
    "tags": []
   },
   "source": [
    "Remarque: \n",
    "La proportion des personnes qui ont 0,1 ou 2 frere sur le bateau on été les plus survecus. Néamoin dans les deux cas le nombre de personne noyés est supérieurs à celui sauvé."
   ]
  },
  {
   "cell_type": "markdown",
   "id": "b56fa9b7",
   "metadata": {
    "id": "VKMohYJXxGHG",
    "papermill": {
     "duration": 0.120492,
     "end_time": "2022-02-17T22:20:14.322440",
     "exception": false,
     "start_time": "2022-02-17T22:20:14.201948",
     "status": "completed"
    },
    "tags": []
   },
   "source": [
    "## Pclass VS SibSp\n",
    "\n",
    "\n",
    "\n"
   ]
  },
  {
   "cell_type": "code",
   "execution_count": 32,
   "id": "71509132",
   "metadata": {
    "execution": {
     "iopub.execute_input": "2022-02-17T22:20:14.559872Z",
     "iopub.status.busy": "2022-02-17T22:20:14.559138Z",
     "iopub.status.idle": "2022-02-17T22:20:15.033244Z",
     "shell.execute_reply": "2022-02-17T22:20:15.032640Z",
     "shell.execute_reply.started": "2022-02-17T22:06:49.670864Z"
    },
    "id": "48JTgxSGxbE1",
    "outputId": "ee572bcb-6040-43d6-8c57-10d5cab191de",
    "papermill": {
     "duration": 0.594188,
     "end_time": "2022-02-17T22:20:15.033415",
     "exception": false,
     "start_time": "2022-02-17T22:20:14.439227",
     "status": "completed"
    },
    "tags": []
   },
   "outputs": [
    {
     "data": {
      "text/plain": [
       "<AxesSubplot:xlabel='SibSp', ylabel='Percent'>"
      ]
     },
     "execution_count": 32,
     "metadata": {},
     "output_type": "execute_result"
    },
    {
     "data": {
      "image/png": "[encoded data removed]",
      "text/plain": [
       "<Figure size 720x720 with 1 Axes>"
      ]
     },
     "metadata": {},
     "output_type": "display_data"
    }
   ],
   "source": [
    "sns.histplot(data=train, x=\"SibSp\",hue=\"Pclass\", discrete=True, multiple=\"stack\", stat=\"percent\")"
   ]
  },
  {
   "cell_type": "markdown",
   "id": "9ef118a7",
   "metadata": {
    "id": "LKXoF7c57zpo",
    "papermill": {
     "duration": 0.118304,
     "end_time": "2022-02-17T22:20:15.269456",
     "exception": false,
     "start_time": "2022-02-17T22:20:15.151152",
     "status": "completed"
    },
    "tags": []
   },
   "source": [
    "Commentaire: \n",
    "\n",
    "\n",
    "Les gens qui sont sont frère sur le bateau sont nombreux par rapport au gens qui sont venue avec leurs frère est ce dans toutes les clase et même à l'intérieur de la même classe"
   ]
  },
  {
   "cell_type": "markdown",
   "id": "2e2a8aba",
   "metadata": {
    "id": "Ml81mhcaW4q3",
    "papermill": {
     "duration": 0.12255,
     "end_time": "2022-02-17T22:20:15.514253",
     "exception": false,
     "start_time": "2022-02-17T22:20:15.391703",
     "status": "completed"
    },
    "tags": []
   },
   "source": [
    "## Traitement de la column Parch"
   ]
  },
  {
   "cell_type": "code",
   "execution_count": 33,
   "id": "8d13dafe",
   "metadata": {
    "execution": {
     "iopub.execute_input": "2022-02-17T22:20:15.758753Z",
     "iopub.status.busy": "2022-02-17T22:20:15.756806Z",
     "iopub.status.idle": "2022-02-17T22:20:15.762958Z",
     "shell.execute_reply": "2022-02-17T22:20:15.763518Z",
     "shell.execute_reply.started": "2022-02-17T22:06:51.142737Z"
    },
    "id": "BJWHk3syXBYn",
    "outputId": "021cd1d9-bdd6-44bd-c0ef-0f93d4c6f644",
    "papermill": {
     "duration": 0.132908,
     "end_time": "2022-02-17T22:20:15.763694",
     "exception": false,
     "start_time": "2022-02-17T22:20:15.630786",
     "status": "completed"
    },
    "tags": []
   },
   "outputs": [
    {
     "data": {
      "text/plain": [
       "0"
      ]
     },
     "execution_count": 33,
     "metadata": {},
     "output_type": "execute_result"
    }
   ],
   "source": [
    "train['Parch'].isna().sum() # on a renseigné tous les passagère le nombre de parents présents sur le bateau"
   ]
  },
  {
   "cell_type": "code",
   "execution_count": 34,
   "id": "b667a98f",
   "metadata": {
    "execution": {
     "iopub.execute_input": "2022-02-17T22:20:16.008003Z",
     "iopub.status.busy": "2022-02-17T22:20:16.007312Z",
     "iopub.status.idle": "2022-02-17T22:20:16.013626Z",
     "shell.execute_reply": "2022-02-17T22:20:16.014293Z",
     "shell.execute_reply.started": "2022-02-17T22:06:51.314874Z"
    },
    "id": "M0bJmnBUXBfF",
    "outputId": "ca05b9ff-6cb5-4fce-9c59-daa0da0d036f",
    "papermill": {
     "duration": 0.130158,
     "end_time": "2022-02-17T22:20:16.014487",
     "exception": false,
     "start_time": "2022-02-17T22:20:15.884329",
     "status": "completed"
    },
    "tags": []
   },
   "outputs": [
    {
     "data": {
      "text/plain": [
       "array([0, 1, 2, 5, 3, 4, 6])"
      ]
     },
     "execution_count": 34,
     "metadata": {},
     "output_type": "execute_result"
    }
   ],
   "source": [
    "train.Parch.unique()"
   ]
  },
  {
   "cell_type": "code",
   "execution_count": 35,
   "id": "a31d4804",
   "metadata": {
    "execution": {
     "iopub.execute_input": "2022-02-17T22:20:16.261759Z",
     "iopub.status.busy": "2022-02-17T22:20:16.260669Z",
     "iopub.status.idle": "2022-02-17T22:20:16.599981Z",
     "shell.execute_reply": "2022-02-17T22:20:16.600463Z",
     "shell.execute_reply.started": "2022-02-17T22:06:51.679119Z"
    },
    "id": "WR1kjtmoXBh2",
    "outputId": "78428da3-6c75-44cc-e054-afc615603ea5",
    "papermill": {
     "duration": 0.468283,
     "end_time": "2022-02-17T22:20:16.600643",
     "exception": false,
     "start_time": "2022-02-17T22:20:16.132360",
     "status": "completed"
    },
    "tags": []
   },
   "outputs": [
    {
     "data": {
      "image/png": "[encoded data removed]",
      "text/plain": [
       "<Figure size 720x720 with 1 Axes>"
      ]
     },
     "metadata": {},
     "output_type": "display_data"
    }
   ],
   "source": [
    "# la distribution de la varaible Parch \n",
    "_ =sns.histplot(data = train, x='Parch', bins=10, stat=\"count\")"
   ]
  },
  {
   "cell_type": "code",
   "execution_count": 36,
   "id": "1ad61708",
   "metadata": {
    "execution": {
     "iopub.execute_input": "2022-02-17T22:20:16.840733Z",
     "iopub.status.busy": "2022-02-17T22:20:16.839748Z",
     "iopub.status.idle": "2022-02-17T22:20:17.278835Z",
     "shell.execute_reply": "2022-02-17T22:20:17.279397Z",
     "shell.execute_reply.started": "2022-02-17T22:06:52.028056Z"
    },
    "id": "3oAmgZbwcCCZ",
    "outputId": "3694863f-d2db-4c46-d077-5df2ac1b57c5",
    "papermill": {
     "duration": 0.560355,
     "end_time": "2022-02-17T22:20:17.279584",
     "exception": false,
     "start_time": "2022-02-17T22:20:16.719229",
     "status": "completed"
    },
    "tags": []
   },
   "outputs": [
    {
     "data": {
      "text/plain": [
       "<AxesSubplot:xlabel='Parch', ylabel='Percent'>"
      ]
     },
     "execution_count": 36,
     "metadata": {},
     "output_type": "execute_result"
    },
    {
     "data": {
      "image/png": "[encoded data removed]",
      "text/plain": [
       "<Figure size 720x720 with 1 Axes>"
      ]
     },
     "metadata": {},
     "output_type": "display_data"
    }
   ],
   "source": [
    "\n",
    "sns.histplot(data=train, x=\"Parch\", hue=\"Survived\", discrete=True, multiple=\"stack\", stat=\"percent\")"
   ]
  },
  {
   "cell_type": "markdown",
   "id": "7a82d1fc",
   "metadata": {
    "id": "Y0uRT2oScOrV",
    "papermill": {
     "duration": 0.122329,
     "end_time": "2022-02-17T22:20:17.527255",
     "exception": false,
     "start_time": "2022-02-17T22:20:17.404926",
     "status": "completed"
    },
    "tags": []
   },
   "source": [
    "Remarque: \n",
    "\n",
    "la moitié des personne qui ont des enfants ont été sauvés. \n",
    "les gents qui n'ont pas d'enfant sont les plus noyés juste 1/3 d'eux ont été sauvés.\n",
    "\n"
   ]
  },
  {
   "cell_type": "markdown",
   "id": "8f4fc602",
   "metadata": {
    "id": "XQGVnl37AYgE",
    "papermill": {
     "duration": 0.123074,
     "end_time": "2022-02-17T22:20:17.769122",
     "exception": false,
     "start_time": "2022-02-17T22:20:17.646048",
     "status": "completed"
    },
    "tags": []
   },
   "source": [
    "## Pclass VS Parch"
   ]
  },
  {
   "cell_type": "code",
   "execution_count": 37,
   "id": "161cf7e3",
   "metadata": {
    "execution": {
     "iopub.execute_input": "2022-02-17T22:20:18.023501Z",
     "iopub.status.busy": "2022-02-17T22:20:18.022514Z",
     "iopub.status.idle": "2022-02-17T22:20:18.465504Z",
     "shell.execute_reply": "2022-02-17T22:20:18.464915Z",
     "shell.execute_reply.started": "2022-02-17T22:06:53.152929Z"
    },
    "id": "OZb799UeAkWQ",
    "outputId": "c924f2cf-3f0b-449f-bf3b-f7316fd542df",
    "papermill": {
     "duration": 0.572664,
     "end_time": "2022-02-17T22:20:18.465654",
     "exception": false,
     "start_time": "2022-02-17T22:20:17.892990",
     "status": "completed"
    },
    "tags": []
   },
   "outputs": [
    {
     "data": {
      "text/plain": [
       "<AxesSubplot:xlabel='Parch', ylabel='Percent'>"
      ]
     },
     "execution_count": 37,
     "metadata": {},
     "output_type": "execute_result"
    },
    {
     "data": {
      "image/png": "[encoded data removed]",
      "text/plain": [
       "<Figure size 720x720 with 1 Axes>"
      ]
     },
     "metadata": {},
     "output_type": "display_data"
    }
   ],
   "source": [
    "sns.histplot(data=train, x=\"Parch\",hue=\"Pclass\", discrete=True, multiple=\"stack\", stat=\"percent\")"
   ]
  },
  {
   "cell_type": "markdown",
   "id": "97f23844",
   "metadata": {
    "id": "jStLvVH9A6y9",
    "papermill": {
     "duration": 0.123248,
     "end_time": "2022-02-17T22:20:18.713010",
     "exception": false,
     "start_time": "2022-02-17T22:20:18.589762",
     "status": "completed"
    },
    "tags": []
   },
   "source": [
    "Remarque: \n",
    "\n",
    "  La plupart des passagers n'ont pas d'enfant est ce valable dans toutes les classe et même à l'interieure de la même classe"
   ]
  },
  {
   "cell_type": "markdown",
   "id": "9dcbd406",
   "metadata": {
    "id": "gn3g_t2RgTrs",
    "papermill": {
     "duration": 0.123786,
     "end_time": "2022-02-17T22:20:18.961264",
     "exception": false,
     "start_time": "2022-02-17T22:20:18.837478",
     "status": "completed"
    },
    "tags": []
   },
   "source": [
    "## Le traitement de la variable Ticket "
   ]
  },
  {
   "cell_type": "code",
   "execution_count": 38,
   "id": "6b02a30d",
   "metadata": {
    "execution": {
     "iopub.execute_input": "2022-02-17T22:20:19.210657Z",
     "iopub.status.busy": "2022-02-17T22:20:19.209066Z",
     "iopub.status.idle": "2022-02-17T22:20:19.214062Z",
     "shell.execute_reply": "2022-02-17T22:20:19.214639Z",
     "shell.execute_reply.started": "2022-02-17T22:06:54.668933Z"
    },
    "id": "W2u9RoSDgRy6",
    "outputId": "87a68ff3-d1c8-47fa-f1f5-781a1b238adf",
    "papermill": {
     "duration": 0.132927,
     "end_time": "2022-02-17T22:20:19.214834",
     "exception": false,
     "start_time": "2022-02-17T22:20:19.081907",
     "status": "completed"
    },
    "tags": []
   },
   "outputs": [
    {
     "name": "stdout",
     "output_type": "stream",
     "text": [
      "(681,)\n",
      "(891,)\n"
     ]
    }
   ],
   "source": [
    "train.Ticket.isna().sum() # pas de valeurs manquantes\n",
    "print(train.Ticket.unique().shape)\n",
    "train.Name.isna().sum() # pas de valeurs manquantes\n",
    "print(train.Name.unique().shape)"
   ]
  },
  {
   "cell_type": "markdown",
   "id": "c0ffdda6",
   "metadata": {
    "id": "Kx0d5TkVCb7y",
    "papermill": {
     "duration": 0.12225,
     "end_time": "2022-02-17T22:20:19.460531",
     "exception": false,
     "start_time": "2022-02-17T22:20:19.338281",
     "status": "completed"
    },
    "tags": []
   },
   "source": [
    "Remarque: \n",
    "\n",
    "  Y a des tickets qui été utilisés par plusieurs passagers"
   ]
  },
  {
   "cell_type": "markdown",
   "id": "ad09f2e4",
   "metadata": {
    "id": "Sfe7klc2Cj1r",
    "papermill": {
     "duration": 0.122195,
     "end_time": "2022-02-17T22:20:19.704771",
     "exception": false,
     "start_time": "2022-02-17T22:20:19.582576",
     "status": "completed"
    },
    "tags": []
   },
   "source": [
    "Remarque:\n",
    "\n",
    "  Dans la suite cette feature ne sera pas pris en considération dans la construcction du model vu qu'elle apporte peu d'information."
   ]
  },
  {
   "cell_type": "markdown",
   "id": "c458dd7f",
   "metadata": {
    "id": "KkAKc0-iC8D1",
    "papermill": {
     "duration": 0.129444,
     "end_time": "2022-02-17T22:20:19.961209",
     "exception": false,
     "start_time": "2022-02-17T22:20:19.831765",
     "status": "completed"
    },
    "tags": []
   },
   "source": [
    "## Traitement de la variable Fare"
   ]
  },
  {
   "cell_type": "code",
   "execution_count": 39,
   "id": "09033179",
   "metadata": {
    "execution": {
     "iopub.execute_input": "2022-02-17T22:20:20.213948Z",
     "iopub.status.busy": "2022-02-17T22:20:20.213028Z",
     "iopub.status.idle": "2022-02-17T22:20:20.217531Z",
     "shell.execute_reply": "2022-02-17T22:20:20.216764Z",
     "shell.execute_reply.started": "2022-02-17T22:06:57.855769Z"
    },
    "id": "5iTPdTOGGIFz",
    "outputId": "42da5bfc-3eed-416c-82e2-658608e4a261",
    "papermill": {
     "duration": 0.135027,
     "end_time": "2022-02-17T22:20:20.217690",
     "exception": false,
     "start_time": "2022-02-17T22:20:20.082663",
     "status": "completed"
    },
    "tags": []
   },
   "outputs": [
    {
     "data": {
      "text/plain": [
       "0"
      ]
     },
     "execution_count": 39,
     "metadata": {},
     "output_type": "execute_result"
    }
   ],
   "source": [
    "train.Fare.isna().sum() # pas de valeurs manquantes"
   ]
  },
  {
   "cell_type": "code",
   "execution_count": 40,
   "id": "7b430af1",
   "metadata": {
    "execution": {
     "iopub.execute_input": "2022-02-17T22:20:20.477404Z",
     "iopub.status.busy": "2022-02-17T22:20:20.476662Z",
     "iopub.status.idle": "2022-02-17T22:20:20.482283Z",
     "shell.execute_reply": "2022-02-17T22:20:20.482817Z",
     "shell.execute_reply.started": "2022-02-17T22:06:59.087088Z"
    },
    "id": "SvYvxazuGIOt",
    "outputId": "b69553b2-4779-4817-e526-dad71592175b",
    "papermill": {
     "duration": 0.141389,
     "end_time": "2022-02-17T22:20:20.483001",
     "exception": false,
     "start_time": "2022-02-17T22:20:20.341612",
     "status": "completed"
    },
    "tags": []
   },
   "outputs": [
    {
     "data": {
      "text/plain": [
       "count    891.000000\n",
       "mean      32.204208\n",
       "std       49.693429\n",
       "min        0.000000\n",
       "25%        7.910400\n",
       "50%       14.454200\n",
       "75%       31.000000\n",
       "max      512.329200\n",
       "Name: Fare, dtype: float64"
      ]
     },
     "execution_count": 40,
     "metadata": {},
     "output_type": "execute_result"
    }
   ],
   "source": [
    "train.Fare.describe()  "
   ]
  },
  {
   "cell_type": "code",
   "execution_count": 41,
   "id": "1b67f9f4",
   "metadata": {
    "execution": {
     "iopub.execute_input": "2022-02-17T22:20:20.752271Z",
     "iopub.status.busy": "2022-02-17T22:20:20.751161Z",
     "iopub.status.idle": "2022-02-17T22:20:21.047808Z",
     "shell.execute_reply": "2022-02-17T22:20:21.047238Z",
     "shell.execute_reply.started": "2022-02-17T22:06:59.303057Z"
    },
    "id": "YAbgy8g4G4uH",
    "outputId": "35abc9f9-cb4d-4401-bf8f-b4b854706d40",
    "papermill": {
     "duration": 0.43204,
     "end_time": "2022-02-17T22:20:21.047956",
     "exception": false,
     "start_time": "2022-02-17T22:20:20.615916",
     "status": "completed"
    },
    "tags": []
   },
   "outputs": [
    {
     "data": {
      "image/png": "[encoded data removed]",
      "text/plain": [
       "<Figure size 720x360 with 1 Axes>"
      ]
     },
     "metadata": {},
     "output_type": "display_data"
    }
   ],
   "source": [
    "plt.figure(figsize=(10,5))\n",
    "plt.xlabel('Fare')\n",
    "plt.ylabel('density')\n",
    "sns.kdeplot(train.Fare,shade=True)\n",
    "plt.show()"
   ]
  },
  {
   "cell_type": "markdown",
   "id": "bd5a2c9d",
   "metadata": {
    "id": "Yjuf00_8Klwi",
    "papermill": {
     "duration": 0.121594,
     "end_time": "2022-02-17T22:20:21.295540",
     "exception": false,
     "start_time": "2022-02-17T22:20:21.173946",
     "status": "completed"
    },
    "tags": []
   },
   "source": [
    "Remarque:\n",
    "  - la majorité des passagère on un Fare inférieur 40 \n",
    "  - une descritisation de cette variable sera réaliser un peu plus tard "
   ]
  },
  {
   "cell_type": "code",
   "execution_count": 42,
   "id": "b61f923b",
   "metadata": {
    "execution": {
     "iopub.execute_input": "2022-02-17T22:20:21.543421Z",
     "iopub.status.busy": "2022-02-17T22:20:21.542558Z",
     "iopub.status.idle": "2022-02-17T22:20:22.462863Z",
     "shell.execute_reply": "2022-02-17T22:20:22.462258Z",
     "shell.execute_reply.started": "2022-02-17T22:06:59.632721Z"
    },
    "id": "MNZeB-NGZlio",
    "outputId": "bde36b4e-5b89-4765-c3bb-bb4268809c66",
    "papermill": {
     "duration": 1.046128,
     "end_time": "2022-02-17T22:20:22.463013",
     "exception": false,
     "start_time": "2022-02-17T22:20:21.416885",
     "status": "completed"
    },
    "tags": []
   },
   "outputs": [
    {
     "data": {
      "text/plain": [
       "<AxesSubplot:xlabel='Fare', ylabel='Percent'>"
      ]
     },
     "execution_count": 42,
     "metadata": {},
     "output_type": "execute_result"
    },
    {
     "data": {
      "image/png": "[encoded data removed]",
      "text/plain": [
       "<Figure size 720x720 with 1 Axes>"
      ]
     },
     "metadata": {},
     "output_type": "display_data"
    }
   ],
   "source": [
    "sns.histplot(data=train, x=\"Fare\", hue=\"Survived\", discrete=False, multiple=\"stack\", stat=\"percent\")"
   ]
  },
  {
   "cell_type": "markdown",
   "id": "dd1f663e",
   "metadata": {
    "id": "Xbe7Cdu3aCkU",
    "papermill": {
     "duration": 0.124874,
     "end_time": "2022-02-17T22:20:22.711842",
     "exception": false,
     "start_time": "2022-02-17T22:20:22.586968",
     "status": "completed"
    },
    "tags": []
   },
   "source": [
    "Remarque: \n",
    " \n",
    "  Les passagers avec un plus grand Fare on été les plus sauvés par rapport à ceux avec un Fare plus petit. "
   ]
  },
  {
   "cell_type": "markdown",
   "id": "b2970ee4",
   "metadata": {
    "id": "MtINOFGV6s_q",
    "papermill": {
     "duration": 0.125857,
     "end_time": "2022-02-17T22:20:22.961132",
     "exception": false,
     "start_time": "2022-02-17T22:20:22.835275",
     "status": "completed"
    },
    "tags": []
   },
   "source": [
    "## Traitement de la colonne Embarked"
   ]
  },
  {
   "cell_type": "code",
   "execution_count": 43,
   "id": "b1c92256",
   "metadata": {
    "execution": {
     "iopub.execute_input": "2022-02-17T22:20:23.217314Z",
     "iopub.status.busy": "2022-02-17T22:20:23.216451Z",
     "iopub.status.idle": "2022-02-17T22:20:23.220681Z",
     "shell.execute_reply": "2022-02-17T22:20:23.221269Z",
     "shell.execute_reply.started": "2022-02-17T22:07:01.142135Z"
    },
    "id": "hygVdDws6wMx",
    "papermill": {
     "duration": 0.13649,
     "end_time": "2022-02-17T22:20:23.221459",
     "exception": false,
     "start_time": "2022-02-17T22:20:23.084969",
     "status": "completed"
    },
    "tags": []
   },
   "outputs": [],
   "source": [
    "# On remplace les valeurs manquante dans cette colone par S car c'est la plus présente dans le dataset \n",
    "train[\"Embarked\"] = train[\"Embarked\"].fillna(\"S\")"
   ]
  },
  {
   "cell_type": "markdown",
   "id": "09f9feed",
   "metadata": {
    "id": "MVGyNeKKgKeS",
    "papermill": {
     "duration": 0.124762,
     "end_time": "2022-02-17T22:20:23.470911",
     "exception": false,
     "start_time": "2022-02-17T22:20:23.346149",
     "status": "completed"
    },
    "tags": []
   },
   "source": [
    "## Matrice de correlation "
   ]
  },
  {
   "cell_type": "code",
   "execution_count": 44,
   "id": "285defc3",
   "metadata": {
    "execution": {
     "iopub.execute_input": "2022-02-17T22:20:23.731319Z",
     "iopub.status.busy": "2022-02-17T22:20:23.730322Z",
     "iopub.status.idle": "2022-02-17T22:20:24.353079Z",
     "shell.execute_reply": "2022-02-17T22:20:24.352319Z",
     "shell.execute_reply.started": "2022-02-17T22:07:01.467034Z"
    },
    "id": "AjFsHvaodWAa",
    "outputId": "d6299091-db18-4d7a-b105-353ec10d1859",
    "papermill": {
     "duration": 0.757309,
     "end_time": "2022-02-17T22:20:24.353251",
     "exception": false,
     "start_time": "2022-02-17T22:20:23.595942",
     "status": "completed"
    },
    "tags": []
   },
   "outputs": [
    {
     "data": {
      "image/png": "[encoded data removed]",
      "text/plain": [
       "<Figure size 720x720 with 2 Axes>"
      ]
     },
     "metadata": {},
     "output_type": "display_data"
    }
   ],
   "source": [
    "cormat = train.corr()\n",
    "p = sns.heatmap(cormat,annot=True, cmap=sns.diverging_palette(220,20,as_cmap=True))"
   ]
  },
  {
   "cell_type": "markdown",
   "id": "7d051af7",
   "metadata": {
    "id": "sV9QUOvCBcYA",
    "papermill": {
     "duration": 0.125314,
     "end_time": "2022-02-17T22:20:24.608062",
     "exception": false,
     "start_time": "2022-02-17T22:20:24.482748",
     "status": "completed"
    },
    "tags": []
   },
   "source": [
    "on a une petite corrélation entre les variable Parch et SibSp."
   ]
  },
  {
   "cell_type": "markdown",
   "id": "f617cbc8",
   "metadata": {
    "id": "gSAyyyH6BhdN",
    "papermill": {
     "duration": 0.133805,
     "end_time": "2022-02-17T22:20:24.878506",
     "exception": false,
     "start_time": "2022-02-17T22:20:24.744701",
     "status": "completed"
    },
    "tags": []
   },
   "source": [
    "# Preprocessing"
   ]
  },
  {
   "cell_type": "code",
   "execution_count": 45,
   "id": "1f34cc1d",
   "metadata": {
    "execution": {
     "iopub.execute_input": "2022-02-17T22:20:25.152876Z",
     "iopub.status.busy": "2022-02-17T22:20:25.151769Z",
     "iopub.status.idle": "2022-02-17T22:20:25.173112Z",
     "shell.execute_reply": "2022-02-17T22:20:25.173764Z",
     "shell.execute_reply.started": "2022-02-17T22:07:21.819185Z"
    },
    "id": "wphGi9v9nRV5",
    "papermill": {
     "duration": 0.159276,
     "end_time": "2022-02-17T22:20:25.173955",
     "exception": false,
     "start_time": "2022-02-17T22:20:25.014679",
     "status": "completed"
    },
    "tags": []
   },
   "outputs": [],
   "source": [
    "train = pd.read_csv(\"../input/titanic/train.csv\") #le dataset pour l entrainement\n",
    "test = pd.read_csv(\"../input/titanic/test.csv\")   # le dataset pour le test "
   ]
  },
  {
   "cell_type": "markdown",
   "id": "a8b53868",
   "metadata": {
    "id": "fZd4ho8UH5X-",
    "papermill": {
     "duration": 0.126122,
     "end_time": "2022-02-17T22:20:25.427366",
     "exception": false,
     "start_time": "2022-02-17T22:20:25.301244",
     "status": "completed"
    },
    "tags": []
   },
   "source": [
    "### La variable Age"
   ]
  },
  {
   "cell_type": "code",
   "execution_count": 46,
   "id": "6cb0c545",
   "metadata": {
    "execution": {
     "iopub.execute_input": "2022-02-17T22:20:25.682138Z",
     "iopub.status.busy": "2022-02-17T22:20:25.681132Z",
     "iopub.status.idle": "2022-02-17T22:20:25.714572Z",
     "shell.execute_reply": "2022-02-17T22:20:25.715142Z",
     "shell.execute_reply.started": "2022-02-17T22:07:23.099192Z"
    },
    "id": "RaaCAobZJx9x",
    "papermill": {
     "duration": 0.162903,
     "end_time": "2022-02-17T22:20:25.715330",
     "exception": false,
     "start_time": "2022-02-17T22:20:25.552427",
     "status": "completed"
    },
    "tags": []
   },
   "outputs": [],
   "source": [
    "# dans ce qui suit on remplace les valeurs manquantes dans la colonne Age par la mediane \n",
    "# des ages du même groupe de personnes (Mrs, Mr,..)  \n",
    "\n",
    "title_to_en = {\n",
    "    \"Mme\": \"Mrs\",\n",
    "    \"Mlle\": \"Miss\",\n",
    "    \"Don\": \"Mr\",\n",
    "    \"Rev\": \"Mr\",\n",
    "    \"Dr\": \"Mr\",\n",
    "    \"Major\": \"Mr\",\n",
    "    \"Lady\": \"Ms\",\n",
    "    \"Col\": \"Sir\",\n",
    "    \"Capt\": \"Mr\",\n",
    "    \"the Countess\": \"Mrs\",\n",
    "    \"Jonkheer\": \"Mr\",\n",
    "}\n",
    "\n",
    "train[\"title\"] = train.Name.apply(lambda x: x.split(\", \")[1].split(\".\")[0]) \n",
    "test[\"title\"] = test.Name.apply(lambda x: x.split(\", \")[1].split(\".\")[0])\n",
    "\n",
    "train = train.replace(title_to_en)\n",
    "test = test.replace(title_to_en)\n",
    "\n",
    "\n",
    "for title in train['title'].unique():\n",
    "  mean = train[train[\"title\"] == title]['Age'].median()\n",
    "  mask_train = np.logical_and((train[\"title\"] == title).values, train['Age'].isna().values)\n",
    "  mask_test = np.logical_and((test[\"title\"] == title).values, test['Age'].isna().values)\n",
    "\n",
    "  train.loc[mask_train, \"Age\"] = mean"
   ]
  },
  {
   "cell_type": "code",
   "execution_count": 47,
   "id": "6684428e",
   "metadata": {
    "execution": {
     "iopub.execute_input": "2022-02-17T22:20:26.009817Z",
     "iopub.status.busy": "2022-02-17T22:20:26.009145Z",
     "iopub.status.idle": "2022-02-17T22:20:26.036926Z",
     "shell.execute_reply": "2022-02-17T22:20:26.036352Z",
     "shell.execute_reply.started": "2022-02-17T22:07:23.289051Z"
    },
    "id": "bibU7PPwH9xD",
    "outputId": "f4655af7-4263-44f1-e027-f4432a6c30b5",
    "papermill": {
     "duration": 0.180251,
     "end_time": "2022-02-17T22:20:26.037139",
     "exception": false,
     "start_time": "2022-02-17T22:20:25.856888",
     "status": "completed"
    },
    "tags": []
   },
   "outputs": [
    {
     "name": "stdout",
     "output_type": "stream",
     "text": [
      "[(16.336, 32.252], (32.252, 48.168], (48.168, 64.084], (0.34, 16.336], (64.084, 80.0]]\n",
      "Categories (5, interval[float64, right]): [(0.34, 16.336] < (16.336, 32.252] < (32.252, 48.168] < (48.168, 64.084] < (64.084, 80.0]]\n"
     ]
    }
   ],
   "source": [
    "# la descritisation de la variable age: \n",
    "train['AgeBand'] = pd.cut(train['Age'], 5)\n",
    "print(train.AgeBand.unique())\n",
    "\n",
    "def func(age):\n",
    "  if age <= 16:\n",
    "    return 0\n",
    "  if age>16 and age <= 32:\n",
    "    return 1\n",
    "  if age>32 and age <= 48:\n",
    "    return 2\n",
    "  if age>48 and age <= 64:\n",
    "    return 3\n",
    "  return 4\n",
    "    \n",
    "train[\"eAge\"] = train['Age'].apply(lambda x: func(x))\n",
    "test[\"eAge\"] = test['Age'].apply(lambda x: func(x))\n",
    "\n",
    "train = train.drop(['AgeBand'], axis=1)   # on supprime la colonne AgeBang vu qu'elle n'est plus utile"
   ]
  },
  {
   "cell_type": "markdown",
   "id": "9bfd2c7e",
   "metadata": {
    "id": "_7iOuyWFHugD",
    "papermill": {
     "duration": 0.124952,
     "end_time": "2022-02-17T22:20:26.297554",
     "exception": false,
     "start_time": "2022-02-17T22:20:26.172602",
     "status": "completed"
    },
    "tags": []
   },
   "source": [
    "### La variable title"
   ]
  },
  {
   "cell_type": "code",
   "execution_count": 48,
   "id": "ef9edd48",
   "metadata": {
    "execution": {
     "iopub.execute_input": "2022-02-17T22:20:26.562198Z",
     "iopub.status.busy": "2022-02-17T22:20:26.561490Z",
     "iopub.status.idle": "2022-02-17T22:20:26.583189Z",
     "shell.execute_reply": "2022-02-17T22:20:26.583851Z",
     "shell.execute_reply.started": "2022-02-17T22:07:23.835102Z"
    },
    "id": "xaELJVWzBtgF",
    "papermill": {
     "duration": 0.158985,
     "end_time": "2022-02-17T22:20:26.584078",
     "exception": false,
     "start_time": "2022-02-17T22:20:26.425093",
     "status": "completed"
    },
    "tags": []
   },
   "outputs": [],
   "source": [
    "# on descritise la variable title\n",
    "\n",
    "train['title'] = train['title'].replace('Mr', 1)\n",
    "train['title'] = train['title'].replace('Miss', 2)\n",
    "train['title'] = train['title'].replace('Ms', 2)\n",
    "train['title'] = train['title'].replace('Mlle', 2)\n",
    "train['title'] = train['title'].replace('Mme', 3)\n",
    "train['title'] = train['title'].replace('Mrs', 3)\n",
    "train['title'] = train['title'].replace('Master', 4)\n",
    "train['title'] = train['title'].replace(['Lady', 'the Countess','Capt', 'Col','Don', 'Dr', 'Major', 'Rev', 'Sir', 'Jonkheer', 'Dona'], 5)\n",
    "\n",
    "\n",
    "test['title'] = test['title'].replace('Mr', 1)\n",
    "test['title'] = test['title'].replace('Miss', 2)\n",
    "test['title'] = test['title'].replace('Ms', 2)\n",
    "test['title'] = test['title'].replace('Mlle', 2)\n",
    "test['title'] = test['title'].replace('Mme', 3)\n",
    "test['title'] = test['title'].replace('Mrs', 3)\n",
    "test['title'] = test['title'].replace('Master', 4)\n",
    "test['title'] = test['title'].replace(['Lady', 'the Countess','Capt', 'Col','Don', 'Dr', 'Major', 'Rev', 'Sir', 'Jonkheer', 'Dona'], 5)\n"
   ]
  },
  {
   "cell_type": "code",
   "execution_count": 49,
   "id": "6cea9d0b",
   "metadata": {
    "execution": {
     "iopub.execute_input": "2022-02-17T22:20:26.848539Z",
     "iopub.status.busy": "2022-02-17T22:20:26.847657Z",
     "iopub.status.idle": "2022-02-17T22:20:26.850655Z",
     "shell.execute_reply": "2022-02-17T22:20:26.851188Z",
     "shell.execute_reply.started": "2022-02-17T22:07:23.864752Z"
    },
    "id": "k_xqcRiRBtdV",
    "outputId": "7992d5e4-735d-4ba2-bcff-04674b380222",
    "papermill": {
     "duration": 0.13905,
     "end_time": "2022-02-17T22:20:26.851366",
     "exception": false,
     "start_time": "2022-02-17T22:20:26.712316",
     "status": "completed"
    },
    "tags": []
   },
   "outputs": [
    {
     "data": {
      "text/plain": [
       "array([1, 3, 2, 4, 5])"
      ]
     },
     "execution_count": 49,
     "metadata": {},
     "output_type": "execute_result"
    }
   ],
   "source": [
    "train.title.unique() "
   ]
  },
  {
   "cell_type": "markdown",
   "id": "1316a768",
   "metadata": {
    "id": "Iz_AbVk3LjKL",
    "papermill": {
     "duration": 0.137406,
     "end_time": "2022-02-17T22:20:27.121528",
     "exception": false,
     "start_time": "2022-02-17T22:20:26.984122",
     "status": "completed"
    },
    "tags": []
   },
   "source": [
    "### La variavle FamillySize et is_alone"
   ]
  },
  {
   "cell_type": "code",
   "execution_count": 50,
   "id": "c4033f4d",
   "metadata": {
    "execution": {
     "iopub.execute_input": "2022-02-17T22:20:27.385683Z",
     "iopub.status.busy": "2022-02-17T22:20:27.384996Z",
     "iopub.status.idle": "2022-02-17T22:20:27.393026Z",
     "shell.execute_reply": "2022-02-17T22:20:27.393561Z",
     "shell.execute_reply.started": "2022-02-17T22:07:24.097091Z"
    },
    "id": "gib0OEWOBtYv",
    "papermill": {
     "duration": 0.141339,
     "end_time": "2022-02-17T22:20:27.393757",
     "exception": false,
     "start_time": "2022-02-17T22:20:27.252418",
     "status": "completed"
    },
    "tags": []
   },
   "outputs": [],
   "source": [
    "train['FamilySize'] = train['SibSp'] + train['Parch'] + 1\n",
    "train['is_alone'] = np.where(train['FamilySize'].values==1, 1, 0) #1 si ==1 sinon c'est 0\n",
    "\n",
    "test['FamilySize'] = test['SibSp'] + test['Parch'] + 1\n",
    "test['is_alone'] = np.where(test['FamilySize'].values==1, 1, 0) #1 si ==1 sinon c'est 0"
   ]
  },
  {
   "cell_type": "markdown",
   "id": "6166d59c",
   "metadata": {
    "id": "5Ci5H97kajve",
    "papermill": {
     "duration": 0.16352,
     "end_time": "2022-02-17T22:20:27.688048",
     "exception": false,
     "start_time": "2022-02-17T22:20:27.524528",
     "status": "completed"
    },
    "tags": []
   },
   "source": [
    "### La variable Embarked"
   ]
  },
  {
   "cell_type": "code",
   "execution_count": 51,
   "id": "aaa0338e",
   "metadata": {
    "execution": {
     "iopub.execute_input": "2022-02-17T22:20:28.018258Z",
     "iopub.status.busy": "2022-02-17T22:20:28.017237Z",
     "iopub.status.idle": "2022-02-17T22:20:28.030391Z",
     "shell.execute_reply": "2022-02-17T22:20:28.031228Z",
     "shell.execute_reply.started": "2022-02-17T22:07:24.675456Z"
    },
    "id": "yJ70dc4Dao-p",
    "outputId": "19091daa-8ca7-4330-d093-0513414068e3",
    "papermill": {
     "duration": 0.171771,
     "end_time": "2022-02-17T22:20:28.031472",
     "exception": false,
     "start_time": "2022-02-17T22:20:27.859701",
     "status": "completed"
    },
    "tags": []
   },
   "outputs": [
    {
     "name": "stdout",
     "output_type": "stream",
     "text": [
      "S    644\n",
      "C    168\n",
      "Q     77\n",
      "Name: Embarked, dtype: int64\n"
     ]
    }
   ],
   "source": [
    "print(train['Embarked'].value_counts())\n",
    "train['Embarked'].fillna('S', inplace=True)\n",
    "test['Embarked'].fillna('S', inplace=True)\n",
    "\n",
    "train['Embarked'] = train['Embarked'].map( {'S': 0, 'C': 1, 'Q': 2} ).astype(int)\n",
    "test['Embarked'] = test['Embarked'].map( {'S': 0, 'C': 1, 'Q': 2} ).astype(int)"
   ]
  },
  {
   "cell_type": "markdown",
   "id": "4e49c4a2",
   "metadata": {
    "id": "t5097wwtMEhM",
    "papermill": {
     "duration": 0.140547,
     "end_time": "2022-02-17T22:20:28.312637",
     "exception": false,
     "start_time": "2022-02-17T22:20:28.172090",
     "status": "completed"
    },
    "tags": []
   },
   "source": [
    "### La variable Fare"
   ]
  },
  {
   "cell_type": "code",
   "execution_count": 52,
   "id": "d79350f2",
   "metadata": {
    "execution": {
     "iopub.execute_input": "2022-02-17T22:20:28.589160Z",
     "iopub.status.busy": "2022-02-17T22:20:28.588329Z",
     "iopub.status.idle": "2022-02-17T22:20:28.600608Z",
     "shell.execute_reply": "2022-02-17T22:20:28.601148Z",
     "shell.execute_reply.started": "2022-02-17T22:07:24.815874Z"
    },
    "id": "g9UKOScecALR",
    "outputId": "5268c334-119d-42e0-838f-44b727d2261a",
    "papermill": {
     "duration": 0.152792,
     "end_time": "2022-02-17T22:20:28.601340",
     "exception": false,
     "start_time": "2022-02-17T22:20:28.448548",
     "status": "completed"
    },
    "tags": []
   },
   "outputs": [
    {
     "name": "stdout",
     "output_type": "stream",
     "text": [
      "[(-0.001, 7.91], (31.0, 512.329], (7.91, 14.454], (14.454, 31.0]]\n",
      "Categories (4, interval[float64, right]): [(-0.001, 7.91] < (7.91, 14.454] < (14.454, 31.0] < (31.0, 512.329]]\n"
     ]
    }
   ],
   "source": [
    "train['FareBand'] = pd.qcut(train['Fare'], 4)\n",
    "print(train.FareBand.unique())\n",
    "\n",
    "def f(fare):\n",
    "  if fare <= 7.91:\n",
    "    return 0\n",
    "  if fare>7.91 and fare <= 14.454:\n",
    "    return 1\n",
    "  if fare >14.454 and fare <= 31:\n",
    "    return 2\n",
    "  if fare>31:\n",
    "    return 3\n",
    "  return 4\n",
    "    \n",
    "train[\"ClassFare\"] = train['Fare'].apply(lambda x: f(x))\n",
    "train = train.drop(['FareBand'], axis=1)   # on supprime la colonne AgeBang vu qu'elle n'est plus utile\n",
    "\n",
    "test[\"ClassFare\"] = test['Fare'].apply(lambda x: f(x))"
   ]
  },
  {
   "cell_type": "markdown",
   "id": "093160f0",
   "metadata": {
    "id": "pEyWuL6_iXKZ",
    "papermill": {
     "duration": 0.129481,
     "end_time": "2022-02-17T22:20:28.861147",
     "exception": false,
     "start_time": "2022-02-17T22:20:28.731666",
     "status": "completed"
    },
    "tags": []
   },
   "source": [
    "### Création de la variable AgeClass"
   ]
  },
  {
   "cell_type": "code",
   "execution_count": 53,
   "id": "b17da72d",
   "metadata": {
    "execution": {
     "iopub.execute_input": "2022-02-17T22:20:29.127221Z",
     "iopub.status.busy": "2022-02-17T22:20:29.126495Z",
     "iopub.status.idle": "2022-02-17T22:20:29.132907Z",
     "shell.execute_reply": "2022-02-17T22:20:29.133446Z",
     "shell.execute_reply.started": "2022-02-17T22:07:25.191123Z"
    },
    "id": "Kc8wxVJdiiWh",
    "papermill": {
     "duration": 0.142408,
     "end_time": "2022-02-17T22:20:29.133634",
     "exception": false,
     "start_time": "2022-02-17T22:20:28.991226",
     "status": "completed"
    },
    "tags": []
   },
   "outputs": [],
   "source": [
    "train['Age_Pclass'] = train.Age * train.Pclass\n",
    "test['Age_Pclass'] = test.Age * test.Pclass"
   ]
  },
  {
   "cell_type": "markdown",
   "id": "2954f4df",
   "metadata": {
    "id": "az-5OoXPhjS0",
    "papermill": {
     "duration": 0.128576,
     "end_time": "2022-02-17T22:20:29.400360",
     "exception": false,
     "start_time": "2022-02-17T22:20:29.271784",
     "status": "completed"
    },
    "tags": []
   },
   "source": [
    "### La variable Sex"
   ]
  },
  {
   "cell_type": "code",
   "execution_count": 54,
   "id": "5876dead",
   "metadata": {
    "execution": {
     "iopub.execute_input": "2022-02-17T22:20:29.665267Z",
     "iopub.status.busy": "2022-02-17T22:20:29.664577Z",
     "iopub.status.idle": "2022-02-17T22:20:29.670827Z",
     "shell.execute_reply": "2022-02-17T22:20:29.671539Z",
     "shell.execute_reply.started": "2022-02-17T22:07:25.557175Z"
    },
    "id": "6OB0TL33fvXh",
    "papermill": {
     "duration": 0.137439,
     "end_time": "2022-02-17T22:20:29.671719",
     "exception": false,
     "start_time": "2022-02-17T22:20:29.534280",
     "status": "completed"
    },
    "tags": []
   },
   "outputs": [],
   "source": [
    "train['eSex'] = np.where(train['Sex'].values=='male', 1, 0) # 1 si sex==male 0 sinon\n",
    "test['eSex'] = np.where(test['Sex'].values=='male', 1, 0) # 1 si sex==male 0 sinon"
   ]
  },
  {
   "cell_type": "code",
   "execution_count": 55,
   "id": "8293821b",
   "metadata": {
    "execution": {
     "iopub.execute_input": "2022-02-17T22:20:29.938535Z",
     "iopub.status.busy": "2022-02-17T22:20:29.937737Z",
     "iopub.status.idle": "2022-02-17T22:20:29.957518Z",
     "shell.execute_reply": "2022-02-17T22:20:29.956840Z",
     "shell.execute_reply.started": "2022-02-17T22:07:25.723378Z"
    },
    "id": "dRABVAfSdJu6",
    "outputId": "81deec6e-c883-4bd9-c040-22ec88ceb54c",
    "papermill": {
     "duration": 0.157887,
     "end_time": "2022-02-17T22:20:29.957671",
     "exception": false,
     "start_time": "2022-02-17T22:20:29.799784",
     "status": "completed"
    },
    "tags": []
   },
   "outputs": [
    {
     "data": {
      "text/html": [
       "<div>\n",
       "<style scoped>\n",
       "    .dataframe tbody tr th:only-of-type {\n",
       "        vertical-align: middle;\n",
       "    }\n",
       "\n",
       "    .dataframe tbody tr th {\n",
       "        vertical-align: top;\n",
       "    }\n",
       "\n",
       "    .dataframe thead th {\n",
       "        text-align: right;\n",
       "    }\n",
       "</style>\n",
       "<table border=\"1\" class=\"dataframe\">\n",
       "  <thead>\n",
       "    <tr style=\"text-align: right;\">\n",
       "      <th></th>\n",
       "      <th>PassengerId</th>\n",
       "      <th>Survived</th>\n",
       "      <th>Pclass</th>\n",
       "      <th>Name</th>\n",
       "      <th>Sex</th>\n",
       "      <th>Age</th>\n",
       "      <th>SibSp</th>\n",
       "      <th>Parch</th>\n",
       "      <th>Ticket</th>\n",
       "      <th>Fare</th>\n",
       "      <th>Cabin</th>\n",
       "      <th>Embarked</th>\n",
       "      <th>title</th>\n",
       "      <th>eAge</th>\n",
       "      <th>FamilySize</th>\n",
       "      <th>is_alone</th>\n",
       "      <th>ClassFare</th>\n",
       "      <th>Age_Pclass</th>\n",
       "      <th>eSex</th>\n",
       "    </tr>\n",
       "  </thead>\n",
       "  <tbody>\n",
       "    <tr>\n",
       "      <th>0</th>\n",
       "      <td>1</td>\n",
       "      <td>0</td>\n",
       "      <td>3</td>\n",
       "      <td>Braund, Mr. Owen Harris</td>\n",
       "      <td>male</td>\n",
       "      <td>22.0</td>\n",
       "      <td>1</td>\n",
       "      <td>0</td>\n",
       "      <td>A/5 21171</td>\n",
       "      <td>7.2500</td>\n",
       "      <td>NaN</td>\n",
       "      <td>0</td>\n",
       "      <td>1</td>\n",
       "      <td>1</td>\n",
       "      <td>2</td>\n",
       "      <td>0</td>\n",
       "      <td>0</td>\n",
       "      <td>66.0</td>\n",
       "      <td>1</td>\n",
       "    </tr>\n",
       "    <tr>\n",
       "      <th>1</th>\n",
       "      <td>2</td>\n",
       "      <td>1</td>\n",
       "      <td>1</td>\n",
       "      <td>Cumings, Mrs. John Bradley (Florence Briggs Th...</td>\n",
       "      <td>female</td>\n",
       "      <td>38.0</td>\n",
       "      <td>1</td>\n",
       "      <td>0</td>\n",
       "      <td>PC 17599</td>\n",
       "      <td>71.2833</td>\n",
       "      <td>C85</td>\n",
       "      <td>1</td>\n",
       "      <td>3</td>\n",
       "      <td>2</td>\n",
       "      <td>2</td>\n",
       "      <td>0</td>\n",
       "      <td>3</td>\n",
       "      <td>38.0</td>\n",
       "      <td>0</td>\n",
       "    </tr>\n",
       "    <tr>\n",
       "      <th>2</th>\n",
       "      <td>3</td>\n",
       "      <td>1</td>\n",
       "      <td>3</td>\n",
       "      <td>Heikkinen, Miss. Laina</td>\n",
       "      <td>female</td>\n",
       "      <td>26.0</td>\n",
       "      <td>0</td>\n",
       "      <td>0</td>\n",
       "      <td>STON/O2. 3101282</td>\n",
       "      <td>7.9250</td>\n",
       "      <td>NaN</td>\n",
       "      <td>0</td>\n",
       "      <td>2</td>\n",
       "      <td>1</td>\n",
       "      <td>1</td>\n",
       "      <td>1</td>\n",
       "      <td>1</td>\n",
       "      <td>78.0</td>\n",
       "      <td>0</td>\n",
       "    </tr>\n",
       "    <tr>\n",
       "      <th>3</th>\n",
       "      <td>4</td>\n",
       "      <td>1</td>\n",
       "      <td>1</td>\n",
       "      <td>Futrelle, Mrs. Jacques Heath (Lily May Peel)</td>\n",
       "      <td>female</td>\n",
       "      <td>35.0</td>\n",
       "      <td>1</td>\n",
       "      <td>0</td>\n",
       "      <td>113803</td>\n",
       "      <td>53.1000</td>\n",
       "      <td>C123</td>\n",
       "      <td>0</td>\n",
       "      <td>3</td>\n",
       "      <td>2</td>\n",
       "      <td>2</td>\n",
       "      <td>0</td>\n",
       "      <td>3</td>\n",
       "      <td>35.0</td>\n",
       "      <td>0</td>\n",
       "    </tr>\n",
       "    <tr>\n",
       "      <th>4</th>\n",
       "      <td>5</td>\n",
       "      <td>0</td>\n",
       "      <td>3</td>\n",
       "      <td>Allen, Mr. William Henry</td>\n",
       "      <td>male</td>\n",
       "      <td>35.0</td>\n",
       "      <td>0</td>\n",
       "      <td>0</td>\n",
       "      <td>373450</td>\n",
       "      <td>8.0500</td>\n",
       "      <td>NaN</td>\n",
       "      <td>0</td>\n",
       "      <td>1</td>\n",
       "      <td>2</td>\n",
       "      <td>1</td>\n",
       "      <td>1</td>\n",
       "      <td>1</td>\n",
       "      <td>105.0</td>\n",
       "      <td>1</td>\n",
       "    </tr>\n",
       "  </tbody>\n",
       "</table>\n",
       "</div>"
      ],
      "text/plain": [
       "   PassengerId  Survived  Pclass  \\\n",
       "0            1         0       3   \n",
       "1            2         1       1   \n",
       "2            3         1       3   \n",
       "3            4         1       1   \n",
       "4            5         0       3   \n",
       "\n",
       "                                                Name     Sex   Age  SibSp  \\\n",
       "0                            Braund, Mr. Owen Harris    male  22.0      1   \n",
       "1  Cumings, Mrs. John Bradley (Florence Briggs Th...  female  38.0      1   \n",
       "2                             Heikkinen, Miss. Laina  female  26.0      0   \n",
       "3       Futrelle, Mrs. Jacques Heath (Lily May Peel)  female  35.0      1   \n",
       "4                           Allen, Mr. William Henry    male  35.0      0   \n",
       "\n",
       "   Parch            Ticket     Fare Cabin  Embarked  title  eAge  FamilySize  \\\n",
       "0      0         A/5 21171   7.2500   NaN         0      1     1           2   \n",
       "1      0          PC 17599  71.2833   C85         1      3     2           2   \n",
       "2      0  STON/O2. 3101282   7.9250   NaN         0      2     1           1   \n",
       "3      0            113803  53.1000  C123         0      3     2           2   \n",
       "4      0            373450   8.0500   NaN         0      1     2           1   \n",
       "\n",
       "   is_alone  ClassFare  Age_Pclass  eSex  \n",
       "0         0          0        66.0     1  \n",
       "1         0          3        38.0     0  \n",
       "2         1          1        78.0     0  \n",
       "3         0          3        35.0     0  \n",
       "4         1          1       105.0     1  "
      ]
     },
     "execution_count": 55,
     "metadata": {},
     "output_type": "execute_result"
    }
   ],
   "source": [
    "train.head() # le train final (avant la classification)"
   ]
  },
  {
   "cell_type": "code",
   "execution_count": 56,
   "id": "84db5bb3",
   "metadata": {
    "execution": {
     "iopub.execute_input": "2022-02-17T22:20:30.221443Z",
     "iopub.status.busy": "2022-02-17T22:20:30.220723Z",
     "iopub.status.idle": "2022-02-17T22:20:30.237827Z",
     "shell.execute_reply": "2022-02-17T22:20:30.238470Z",
     "shell.execute_reply.started": "2022-02-17T22:07:25.840749Z"
    },
    "id": "6SUTcJ95pjBQ",
    "outputId": "0cba3e7c-3c0e-4bf6-eff5-64452e2991ac",
    "papermill": {
     "duration": 0.148544,
     "end_time": "2022-02-17T22:20:30.238642",
     "exception": false,
     "start_time": "2022-02-17T22:20:30.090098",
     "status": "completed"
    },
    "tags": []
   },
   "outputs": [
    {
     "data": {
      "text/html": [
       "<div>\n",
       "<style scoped>\n",
       "    .dataframe tbody tr th:only-of-type {\n",
       "        vertical-align: middle;\n",
       "    }\n",
       "\n",
       "    .dataframe tbody tr th {\n",
       "        vertical-align: top;\n",
       "    }\n",
       "\n",
       "    .dataframe thead th {\n",
       "        text-align: right;\n",
       "    }\n",
       "</style>\n",
       "<table border=\"1\" class=\"dataframe\">\n",
       "  <thead>\n",
       "    <tr style=\"text-align: right;\">\n",
       "      <th></th>\n",
       "      <th>PassengerId</th>\n",
       "      <th>Pclass</th>\n",
       "      <th>Name</th>\n",
       "      <th>Sex</th>\n",
       "      <th>Age</th>\n",
       "      <th>SibSp</th>\n",
       "      <th>Parch</th>\n",
       "      <th>Ticket</th>\n",
       "      <th>Fare</th>\n",
       "      <th>Cabin</th>\n",
       "      <th>Embarked</th>\n",
       "      <th>title</th>\n",
       "      <th>eAge</th>\n",
       "      <th>FamilySize</th>\n",
       "      <th>is_alone</th>\n",
       "      <th>ClassFare</th>\n",
       "      <th>Age_Pclass</th>\n",
       "      <th>eSex</th>\n",
       "    </tr>\n",
       "  </thead>\n",
       "  <tbody>\n",
       "    <tr>\n",
       "      <th>0</th>\n",
       "      <td>892</td>\n",
       "      <td>3</td>\n",
       "      <td>Kelly, Mr. James</td>\n",
       "      <td>male</td>\n",
       "      <td>34.5</td>\n",
       "      <td>0</td>\n",
       "      <td>0</td>\n",
       "      <td>330911</td>\n",
       "      <td>7.8292</td>\n",
       "      <td>NaN</td>\n",
       "      <td>2</td>\n",
       "      <td>1</td>\n",
       "      <td>2</td>\n",
       "      <td>1</td>\n",
       "      <td>1</td>\n",
       "      <td>0</td>\n",
       "      <td>103.5</td>\n",
       "      <td>1</td>\n",
       "    </tr>\n",
       "    <tr>\n",
       "      <th>1</th>\n",
       "      <td>893</td>\n",
       "      <td>3</td>\n",
       "      <td>Wilkes, Mrs. James (Ellen Needs)</td>\n",
       "      <td>female</td>\n",
       "      <td>47.0</td>\n",
       "      <td>1</td>\n",
       "      <td>0</td>\n",
       "      <td>363272</td>\n",
       "      <td>7.0000</td>\n",
       "      <td>NaN</td>\n",
       "      <td>0</td>\n",
       "      <td>3</td>\n",
       "      <td>2</td>\n",
       "      <td>2</td>\n",
       "      <td>0</td>\n",
       "      <td>0</td>\n",
       "      <td>141.0</td>\n",
       "      <td>0</td>\n",
       "    </tr>\n",
       "    <tr>\n",
       "      <th>2</th>\n",
       "      <td>894</td>\n",
       "      <td>2</td>\n",
       "      <td>Myles, Mr. Thomas Francis</td>\n",
       "      <td>male</td>\n",
       "      <td>62.0</td>\n",
       "      <td>0</td>\n",
       "      <td>0</td>\n",
       "      <td>240276</td>\n",
       "      <td>9.6875</td>\n",
       "      <td>NaN</td>\n",
       "      <td>2</td>\n",
       "      <td>1</td>\n",
       "      <td>3</td>\n",
       "      <td>1</td>\n",
       "      <td>1</td>\n",
       "      <td>1</td>\n",
       "      <td>124.0</td>\n",
       "      <td>1</td>\n",
       "    </tr>\n",
       "    <tr>\n",
       "      <th>3</th>\n",
       "      <td>895</td>\n",
       "      <td>3</td>\n",
       "      <td>Wirz, Mr. Albert</td>\n",
       "      <td>male</td>\n",
       "      <td>27.0</td>\n",
       "      <td>0</td>\n",
       "      <td>0</td>\n",
       "      <td>315154</td>\n",
       "      <td>8.6625</td>\n",
       "      <td>NaN</td>\n",
       "      <td>0</td>\n",
       "      <td>1</td>\n",
       "      <td>1</td>\n",
       "      <td>1</td>\n",
       "      <td>1</td>\n",
       "      <td>1</td>\n",
       "      <td>81.0</td>\n",
       "      <td>1</td>\n",
       "    </tr>\n",
       "    <tr>\n",
       "      <th>4</th>\n",
       "      <td>896</td>\n",
       "      <td>3</td>\n",
       "      <td>Hirvonen, Mrs. Alexander (Helga E Lindqvist)</td>\n",
       "      <td>female</td>\n",
       "      <td>22.0</td>\n",
       "      <td>1</td>\n",
       "      <td>1</td>\n",
       "      <td>3101298</td>\n",
       "      <td>12.2875</td>\n",
       "      <td>NaN</td>\n",
       "      <td>0</td>\n",
       "      <td>3</td>\n",
       "      <td>1</td>\n",
       "      <td>3</td>\n",
       "      <td>0</td>\n",
       "      <td>1</td>\n",
       "      <td>66.0</td>\n",
       "      <td>0</td>\n",
       "    </tr>\n",
       "  </tbody>\n",
       "</table>\n",
       "</div>"
      ],
      "text/plain": [
       "   PassengerId  Pclass                                          Name     Sex  \\\n",
       "0          892       3                              Kelly, Mr. James    male   \n",
       "1          893       3              Wilkes, Mrs. James (Ellen Needs)  female   \n",
       "2          894       2                     Myles, Mr. Thomas Francis    male   \n",
       "3          895       3                              Wirz, Mr. Albert    male   \n",
       "4          896       3  Hirvonen, Mrs. Alexander (Helga E Lindqvist)  female   \n",
       "\n",
       "    Age  SibSp  Parch   Ticket     Fare Cabin  Embarked  title  eAge  \\\n",
       "0  34.5      0      0   330911   7.8292   NaN         2      1     2   \n",
       "1  47.0      1      0   363272   7.0000   NaN         0      3     2   \n",
       "2  62.0      0      0   240276   9.6875   NaN         2      1     3   \n",
       "3  27.0      0      0   315154   8.6625   NaN         0      1     1   \n",
       "4  22.0      1      1  3101298  12.2875   NaN         0      3     1   \n",
       "\n",
       "   FamilySize  is_alone  ClassFare  Age_Pclass  eSex  \n",
       "0           1         1          0       103.5     1  \n",
       "1           2         0          0       141.0     0  \n",
       "2           1         1          1       124.0     1  \n",
       "3           1         1          1        81.0     1  \n",
       "4           3         0          1        66.0     0  "
      ]
     },
     "execution_count": 56,
     "metadata": {},
     "output_type": "execute_result"
    }
   ],
   "source": [
    "test.head() # le train final (avant la classification)"
   ]
  },
  {
   "cell_type": "markdown",
   "id": "dd7f9322",
   "metadata": {
    "id": "zGfi_x-s5DtL",
    "papermill": {
     "duration": 0.130536,
     "end_time": "2022-02-17T22:20:30.499918",
     "exception": false,
     "start_time": "2022-02-17T22:20:30.369382",
     "status": "completed"
    },
    "tags": []
   },
   "source": [
    "# Classification"
   ]
  },
  {
   "cell_type": "code",
   "execution_count": 57,
   "id": "b430cdac",
   "metadata": {
    "execution": {
     "iopub.execute_input": "2022-02-17T22:20:30.768245Z",
     "iopub.status.busy": "2022-02-17T22:20:30.767516Z",
     "iopub.status.idle": "2022-02-17T22:20:31.198959Z",
     "shell.execute_reply": "2022-02-17T22:20:31.199470Z",
     "shell.execute_reply.started": "2022-02-17T22:07:26.256759Z"
    },
    "id": "FyhGVvGKLpOV",
    "papermill": {
     "duration": 0.568589,
     "end_time": "2022-02-17T22:20:31.199669",
     "exception": false,
     "start_time": "2022-02-17T22:20:30.631080",
     "status": "completed"
    },
    "tags": []
   },
   "outputs": [],
   "source": [
    "from sklearn.linear_model import LogisticRegression\n",
    "from sklearn.svm import SVC, LinearSVC\n",
    "from sklearn.ensemble import RandomForestClassifier\n",
    "from sklearn.neighbors import KNeighborsClassifier\n",
    "from sklearn.naive_bayes import GaussianNB\n",
    "from sklearn.linear_model import Perceptron\n",
    "from sklearn.linear_model import SGDClassifier\n",
    "from sklearn.tree import DecisionTreeClassifier\n",
    "\n",
    "from sklearn.model_selection import train_test_split\n",
    "from sklearn.metrics import accuracy_score, f1_score\n",
    "random_seed = 42 "
   ]
  },
  {
   "cell_type": "code",
   "execution_count": 58,
   "id": "7d4e60d6",
   "metadata": {
    "execution": {
     "iopub.execute_input": "2022-02-17T22:20:31.464768Z",
     "iopub.status.busy": "2022-02-17T22:20:31.463859Z",
     "iopub.status.idle": "2022-02-17T22:20:31.473480Z",
     "shell.execute_reply": "2022-02-17T22:20:31.472880Z",
     "shell.execute_reply.started": "2022-02-17T22:07:26.896742Z"
    },
    "id": "ag67lmc_5GKz",
    "papermill": {
     "duration": 0.143944,
     "end_time": "2022-02-17T22:20:31.473628",
     "exception": false,
     "start_time": "2022-02-17T22:20:31.329684",
     "status": "completed"
    },
    "tags": []
   },
   "outputs": [],
   "source": [
    "f_columns = [\"Pclass\", \"eSex\", \"Embarked\",\"title\",'eAge','is_alone','ClassFare']\n",
    "data = train[f_columns]\n",
    "\n",
    "X = train[f_columns]\n",
    "y = train['Survived'].values\n",
    "\n",
    "X_train, X_test, y_train, y_test = train_test_split(X, y, test_size=0.2, random_state=random_seed)"
   ]
  },
  {
   "cell_type": "code",
   "execution_count": 59,
   "id": "5d92217b",
   "metadata": {
    "execution": {
     "iopub.execute_input": "2022-02-17T22:20:31.749268Z",
     "iopub.status.busy": "2022-02-17T22:20:31.748424Z",
     "iopub.status.idle": "2022-02-17T22:20:31.763948Z",
     "shell.execute_reply": "2022-02-17T22:20:31.764680Z",
     "shell.execute_reply.started": "2022-02-17T22:07:27.119304Z"
    },
    "id": "prA4i-yc5G-0",
    "outputId": "95989946-5e3a-48c3-aec8-f02e0f481752",
    "papermill": {
     "duration": 0.159049,
     "end_time": "2022-02-17T22:20:31.764870",
     "exception": false,
     "start_time": "2022-02-17T22:20:31.605821",
     "status": "completed"
    },
    "tags": []
   },
   "outputs": [
    {
     "data": {
      "text/plain": [
       "82.3"
      ]
     },
     "execution_count": 59,
     "metadata": {},
     "output_type": "execute_result"
    }
   ],
   "source": [
    "logreg = LogisticRegression()\n",
    "logreg.fit(X_train, y_train)\n",
    "Y_pred = logreg.predict(X_test)\n",
    "acc_log = round(logreg.score(X_train, y_train) * 100, 2)\n",
    "acc_log"
   ]
  },
  {
   "cell_type": "code",
   "execution_count": 60,
   "id": "1632965f",
   "metadata": {
    "execution": {
     "iopub.execute_input": "2022-02-17T22:20:32.036989Z",
     "iopub.status.busy": "2022-02-17T22:20:32.035982Z",
     "iopub.status.idle": "2022-02-17T22:20:32.067533Z",
     "shell.execute_reply": "2022-02-17T22:20:32.068108Z",
     "shell.execute_reply.started": "2022-02-17T22:07:27.32129Z"
    },
    "id": "6tDIleSBkLJo",
    "outputId": "59072736-f807-4ecf-a8d5-a3fd21f0966a",
    "papermill": {
     "duration": 0.173233,
     "end_time": "2022-02-17T22:20:32.068296",
     "exception": false,
     "start_time": "2022-02-17T22:20:31.895063",
     "status": "completed"
    },
    "tags": []
   },
   "outputs": [
    {
     "data": {
      "text/plain": [
       "83.57"
      ]
     },
     "execution_count": 60,
     "metadata": {},
     "output_type": "execute_result"
    }
   ],
   "source": [
    "\n",
    "svc = SVC(random_state=random_seed)\n",
    "svc.fit(X_train, y_train)\n",
    "Y_pred = svc.predict(X_test)\n",
    "acc_svc = round(svc.score(X_train, y_train) * 100, 2)\n",
    "acc_svc"
   ]
  },
  {
   "cell_type": "code",
   "execution_count": 61,
   "id": "41132e00",
   "metadata": {
    "execution": {
     "iopub.execute_input": "2022-02-17T22:20:32.334653Z",
     "iopub.status.busy": "2022-02-17T22:20:32.333654Z",
     "iopub.status.idle": "2022-02-17T22:20:32.385384Z",
     "shell.execute_reply": "2022-02-17T22:20:32.385979Z",
     "shell.execute_reply.started": "2022-02-17T22:07:27.523046Z"
    },
    "id": "ZXwgM1bzkbwB",
    "outputId": "c09c0bc4-2ee2-4290-882f-f9aa666f9079",
    "papermill": {
     "duration": 0.186562,
     "end_time": "2022-02-17T22:20:32.386174",
     "exception": false,
     "start_time": "2022-02-17T22:20:32.199612",
     "status": "completed"
    },
    "tags": []
   },
   "outputs": [
    {
     "data": {
      "text/plain": [
       "83.71"
      ]
     },
     "execution_count": 61,
     "metadata": {},
     "output_type": "execute_result"
    }
   ],
   "source": [
    "knn = KNeighborsClassifier(n_neighbors = 3)\n",
    "knn.fit(X_train, y_train)\n",
    "Y_pred = knn.predict(X_test)\n",
    "acc_knn = round(knn.score(X_train, y_train) * 100, 2)\n",
    "acc_knn\n"
   ]
  },
  {
   "cell_type": "code",
   "execution_count": 62,
   "id": "09b9e831",
   "metadata": {
    "execution": {
     "iopub.execute_input": "2022-02-17T22:20:32.654026Z",
     "iopub.status.busy": "2022-02-17T22:20:32.653025Z",
     "iopub.status.idle": "2022-02-17T22:20:32.666616Z",
     "shell.execute_reply": "2022-02-17T22:20:32.666095Z",
     "shell.execute_reply.started": "2022-02-17T22:07:27.704986Z"
    },
    "id": "kJJq-63Zk78c",
    "outputId": "0e6cb9ff-a33e-4fda-aac7-4a12d91d9d87",
    "papermill": {
     "duration": 0.148531,
     "end_time": "2022-02-17T22:20:32.666773",
     "exception": false,
     "start_time": "2022-02-17T22:20:32.518242",
     "status": "completed"
    },
    "tags": []
   },
   "outputs": [
    {
     "data": {
      "text/plain": [
       "78.79"
      ]
     },
     "execution_count": 62,
     "metadata": {},
     "output_type": "execute_result"
    }
   ],
   "source": [
    "gaussian = GaussianNB()\n",
    "gaussian.fit(X_train, y_train)\n",
    "Y_pred = gaussian.predict(X_test)\n",
    "acc_gaussian = round(gaussian.score(X_train, y_train) * 100, 2)\n",
    "acc_gaussian"
   ]
  },
  {
   "cell_type": "code",
   "execution_count": 63,
   "id": "ddd91839",
   "metadata": {
    "execution": {
     "iopub.execute_input": "2022-02-17T22:20:32.939857Z",
     "iopub.status.busy": "2022-02-17T22:20:32.938853Z",
     "iopub.status.idle": "2022-02-17T22:20:32.953753Z",
     "shell.execute_reply": "2022-02-17T22:20:32.954317Z",
     "shell.execute_reply.started": "2022-02-17T22:07:27.92853Z"
    },
    "id": "jOBSqem8lAOP",
    "outputId": "8e4c8dcb-cc32-42f0-fe37-0de2e0e9ef74",
    "papermill": {
     "duration": 0.150925,
     "end_time": "2022-02-17T22:20:32.954499",
     "exception": false,
     "start_time": "2022-02-17T22:20:32.803574",
     "status": "completed"
    },
    "tags": []
   },
   "outputs": [
    {
     "data": {
      "text/plain": [
       "73.03"
      ]
     },
     "execution_count": 63,
     "metadata": {},
     "output_type": "execute_result"
    }
   ],
   "source": [
    "perceptron = Perceptron()\n",
    "perceptron.fit(X_train, y_train)\n",
    "Y_pred = perceptron.predict(X_test)\n",
    "acc_perceptron = round(perceptron.score(X_train, y_train) * 100, 2)\n",
    "acc_perceptron"
   ]
  },
  {
   "cell_type": "code",
   "execution_count": 64,
   "id": "243612bc",
   "metadata": {
    "execution": {
     "iopub.execute_input": "2022-02-17T22:20:33.226703Z",
     "iopub.status.busy": "2022-02-17T22:20:33.225697Z",
     "iopub.status.idle": "2022-02-17T22:20:33.272582Z",
     "shell.execute_reply": "2022-02-17T22:20:33.273128Z",
     "shell.execute_reply.started": "2022-02-17T22:07:28.115511Z"
    },
    "id": "E5dFO4SClFIg",
    "outputId": "5eb85729-96cb-4a0a-e134-627863fea74e",
    "papermill": {
     "duration": 0.185289,
     "end_time": "2022-02-17T22:20:33.273317",
     "exception": false,
     "start_time": "2022-02-17T22:20:33.088028",
     "status": "completed"
    },
    "tags": []
   },
   "outputs": [
    {
     "name": "stderr",
     "output_type": "stream",
     "text": [
      "/opt/conda/lib/python3.7/site-packages/sklearn/svm/_base.py:977: ConvergenceWarning: Liblinear failed to converge, increase the number of iterations.\n",
      "  \"the number of iterations.\", ConvergenceWarning)\n"
     ]
    },
    {
     "data": {
      "text/plain": [
       "81.6"
      ]
     },
     "execution_count": 64,
     "metadata": {},
     "output_type": "execute_result"
    }
   ],
   "source": [
    "linear_svc = LinearSVC()\n",
    "linear_svc.fit(X_train, y_train)\n",
    "Y_pred = linear_svc.predict(X_test)\n",
    "acc_linear_svc = round(linear_svc.score(X_train, y_train) * 100, 2)\n",
    "acc_linear_svc"
   ]
  },
  {
   "cell_type": "code",
   "execution_count": 65,
   "id": "7e569cd9",
   "metadata": {
    "execution": {
     "iopub.execute_input": "2022-02-17T22:20:33.545209Z",
     "iopub.status.busy": "2022-02-17T22:20:33.544497Z",
     "iopub.status.idle": "2022-02-17T22:20:33.560827Z",
     "shell.execute_reply": "2022-02-17T22:20:33.560164Z",
     "shell.execute_reply.started": "2022-02-17T22:07:28.280981Z"
    },
    "id": "j3FKEcbrlPz-",
    "outputId": "e8efe6d1-0ce4-4c53-f2b1-c8c400ff7015",
    "papermill": {
     "duration": 0.152687,
     "end_time": "2022-02-17T22:20:33.560976",
     "exception": false,
     "start_time": "2022-02-17T22:20:33.408289",
     "status": "completed"
    },
    "tags": []
   },
   "outputs": [
    {
     "data": {
      "text/plain": [
       "78.23"
      ]
     },
     "execution_count": 65,
     "metadata": {},
     "output_type": "execute_result"
    }
   ],
   "source": [
    "sgd = SGDClassifier()\n",
    "sgd.fit(X_train, y_train)\n",
    "Y_pred = sgd.predict(X_test)\n",
    "acc_sgd = round(sgd.score(X_train, y_train) * 100, 2)\n",
    "acc_sgd"
   ]
  },
  {
   "cell_type": "code",
   "execution_count": 66,
   "id": "f6d3fc27",
   "metadata": {
    "execution": {
     "iopub.execute_input": "2022-02-17T22:20:33.866414Z",
     "iopub.status.busy": "2022-02-17T22:20:33.865586Z",
     "iopub.status.idle": "2022-02-17T22:20:33.875896Z",
     "shell.execute_reply": "2022-02-17T22:20:33.876499Z",
     "shell.execute_reply.started": "2022-02-17T22:07:28.473014Z"
    },
    "id": "C-FawwmrlSdY",
    "outputId": "cb9bed88-3387-4926-ca46-d784ba78e2fc",
    "papermill": {
     "duration": 0.172001,
     "end_time": "2022-02-17T22:20:33.876676",
     "exception": false,
     "start_time": "2022-02-17T22:20:33.704675",
     "status": "completed"
    },
    "tags": []
   },
   "outputs": [
    {
     "data": {
      "text/plain": [
       "86.8"
      ]
     },
     "execution_count": 66,
     "metadata": {},
     "output_type": "execute_result"
    }
   ],
   "source": [
    "decision_tree = DecisionTreeClassifier()\n",
    "decision_tree.fit(X_train, y_train)\n",
    "Y_pred = decision_tree.predict(X_test)\n",
    "acc_decision_tree = round(decision_tree.score(X_train, y_train) * 100, 2)\n",
    "acc_decision_tree"
   ]
  },
  {
   "cell_type": "code",
   "execution_count": 67,
   "id": "e59a2b67",
   "metadata": {
    "execution": {
     "iopub.execute_input": "2022-02-17T22:20:34.155603Z",
     "iopub.status.busy": "2022-02-17T22:20:34.154889Z",
     "iopub.status.idle": "2022-02-17T22:20:34.416205Z",
     "shell.execute_reply": "2022-02-17T22:20:34.416860Z",
     "shell.execute_reply.started": "2022-02-17T22:07:28.655123Z"
    },
    "id": "S7K3ujuplXBz",
    "outputId": "d3a24d80-0662-44f5-d7d0-647cf530cc79",
    "papermill": {
     "duration": 0.402043,
     "end_time": "2022-02-17T22:20:34.417063",
     "exception": false,
     "start_time": "2022-02-17T22:20:34.015020",
     "status": "completed"
    },
    "tags": []
   },
   "outputs": [
    {
     "data": {
      "text/plain": [
       "86.8"
      ]
     },
     "execution_count": 67,
     "metadata": {},
     "output_type": "execute_result"
    }
   ],
   "source": [
    "random_forest = RandomForestClassifier(n_estimators=100)\n",
    "random_forest.fit(X_train, y_train)\n",
    "Y_pred = random_forest.predict(X_test)\n",
    "random_forest.score(X_train, y_train)\n",
    "acc_random_forest = round(random_forest.score(X_train, y_train) * 100, 2)\n",
    "acc_random_forest"
   ]
  },
  {
   "cell_type": "code",
   "execution_count": 68,
   "id": "84aa5228",
   "metadata": {
    "execution": {
     "iopub.execute_input": "2022-02-17T22:20:34.691272Z",
     "iopub.status.busy": "2022-02-17T22:20:34.688614Z",
     "iopub.status.idle": "2022-02-17T22:20:34.707514Z",
     "shell.execute_reply": "2022-02-17T22:20:34.708154Z",
     "shell.execute_reply.started": "2022-02-17T22:07:37.801316Z"
    },
    "id": "rmPawb_3lfDG",
    "papermill": {
     "duration": 0.157905,
     "end_time": "2022-02-17T22:20:34.708393",
     "exception": false,
     "start_time": "2022-02-17T22:20:34.550488",
     "status": "completed"
    },
    "tags": []
   },
   "outputs": [],
   "source": [
    "sub = pd.read_csv(\"../input/titanic/gender_submission.csv\")\n",
    "sub[\"Survived\"] = decision_tree.predict(test[f_columns])\n",
    "sub.to_csv(\"mysubmission.csv\", index=False)"
   ]
  },
  {
   "cell_type": "code",
   "execution_count": 69,
   "id": "618d4b12",
   "metadata": {
    "execution": {
     "iopub.execute_input": "2022-02-17T22:20:34.990832Z",
     "iopub.status.busy": "2022-02-17T22:20:34.990119Z",
     "iopub.status.idle": "2022-02-17T22:20:34.995545Z",
     "shell.execute_reply": "2022-02-17T22:20:34.996090Z",
     "shell.execute_reply.started": "2022-02-17T22:07:40.111153Z"
    },
    "id": "Q9YchmKLl95y",
    "outputId": "6f88aa87-184c-4dd4-d004-8651f8b5628a",
    "papermill": {
     "duration": 0.150084,
     "end_time": "2022-02-17T22:20:34.996271",
     "exception": false,
     "start_time": "2022-02-17T22:20:34.846187",
     "status": "completed"
    },
    "tags": []
   },
   "outputs": [
    {
     "data": {
      "text/plain": [
       "0.8435754189944135"
      ]
     },
     "execution_count": 69,
     "metadata": {},
     "output_type": "execute_result"
    }
   ],
   "source": [
    "accuracy_score(y_pred=decision_tree.predict(X_test), y_true=y_test)"
   ]
  },
  {
   "cell_type": "code",
   "execution_count": 70,
   "id": "c4dfd3a6",
   "metadata": {
    "execution": {
     "iopub.execute_input": "2022-02-17T22:20:35.273576Z",
     "iopub.status.busy": "2022-02-17T22:20:35.272686Z",
     "iopub.status.idle": "2022-02-17T22:20:35.277216Z",
     "shell.execute_reply": "2022-02-17T22:20:35.276646Z",
     "shell.execute_reply.started": "2022-02-17T22:07:40.939424Z"
    },
    "id": "ZVn_09EpqTdC",
    "papermill": {
     "duration": 0.143947,
     "end_time": "2022-02-17T22:20:35.277373",
     "exception": false,
     "start_time": "2022-02-17T22:20:35.133426",
     "status": "completed"
    },
    "tags": []
   },
   "outputs": [],
   "source": [
    "# from sklearn import tree\n",
    "# fig, ax = plt.subplots(1, 1, figsize=(200, 200))\n",
    "\n",
    "# tree.plot_tree(decision_tree, ax=ax)"
   ]
  },
  {
   "cell_type": "code",
   "execution_count": null,
   "id": "17aa5864",
   "metadata": {
    "id": "HV7JBfOarvCe",
    "papermill": {
     "duration": 0.138412,
     "end_time": "2022-02-17T22:20:35.550238",
     "exception": false,
     "start_time": "2022-02-17T22:20:35.411826",
     "status": "completed"
    },
    "tags": []
   },
   "outputs": [],
   "source": []
  }
 ],
 "metadata": {
  "kernelspec": {
   "display_name": "Python 3",
   "language": "python",
   "name": "python3"
  },
  "language_info": {
   "codemirror_mode": {
    "name": "ipython",
    "version": 3
   },
   "file_extension": ".py",
   "mimetype": "text/x-python",
   "name": "python",
   "nbconvert_exporter": "python",
   "pygments_lexer": "ipython3",
   "version": "3.7.12"
  },
  "papermill": {
   "default_parameters": {},
   "duration": 51.763213,
   "end_time": "2022-02-17T22:20:36.496948",
   "environment_variables": {},
   "exception": null,
   "input_path": "__notebook__.ipynb",
   "output_path": "__notebook__.ipynb",
   "parameters": {},
   "start_time": "2022-02-17T22:19:44.733735",
   "version": "2.3.3"
  }
 },
 "nbformat": 4,
 "nbformat_minor": 5
}
