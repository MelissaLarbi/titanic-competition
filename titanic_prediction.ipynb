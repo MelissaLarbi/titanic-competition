{
  "nbformat": 4,
  "nbformat_minor": 0,
  "metadata": {
    "colab": {
      "name": "titanic_prediction.ipynb",
      "provenance": [],
      "collapsed_sections": [
        "8blYWW0wGV_3",
        "Q06rf3XxKvpE",
        "mt6g7UIDPakp",
        "VKMohYJXxGHG",
        "Ml81mhcaW4q3",
        "XQGVnl37AYgE",
        "KkAKc0-iC8D1",
        "MVGyNeKKgKeS"
      ]
    },
    "kernelspec": {
      "name": "python3",
      "display_name": "Python 3"
    },
    "language_info": {
      "name": "python"
    }
  },
  "cells": [
    {
      "cell_type": "code",
      "execution_count": 18,
      "metadata": {
        "colab": {
          "base_uri": "https://localhost:8080/"
        },
        "id": "C5vnZaDZCSPT",
        "outputId": "e6fdeaa3-68ec-4ea1-e6a5-4d6c368f07bd"
      },
      "outputs": [
        {
          "output_type": "stream",
          "name": "stdout",
          "text": [
            "Drive already mounted at /content/drive; to attempt to forcibly remount, call drive.mount(\"/content/drive\", force_remount=True).\n"
          ]
        }
      ],
      "source": [
        "from google.colab import drive\n",
        "drive.mount('/content/drive')"
      ]
    },
    {
      "cell_type": "markdown",
      "source": [
        "## Les importation"
      ],
      "metadata": {
        "id": "8blYWW0wGV_3"
      }
    },
    {
      "cell_type": "code",
      "source": [
        "import pandas as pd\n",
        "import matplotlib.pyplot as plt\n",
        "import numpy as np\n",
        "import seaborn as sns \n",
        "\n",
        "sns.set(rc={'figure.figsize':(10,10)})"
      ],
      "metadata": {
        "id": "ShXcqLL_DrLZ"
      },
      "execution_count": 22,
      "outputs": []
    },
    {
      "cell_type": "code",
      "source": [
        "%cd drive/MyDrive/kaggle/titani_comp/"
      ],
      "metadata": {
        "colab": {
          "base_uri": "https://localhost:8080/"
        },
        "id": "ZHrc4tRyDOd2",
        "outputId": "019e460f-ec1a-4ec5-c855-24a8ec08dd35"
      },
      "execution_count": 26,
      "outputs": [
        {
          "output_type": "stream",
          "name": "stdout",
          "text": [
            "/content/drive/MyDrive/kaggle/titani_comp\n"
          ]
        }
      ]
    },
    {
      "cell_type": "markdown",
      "source": [
        "# Load datasets"
      ],
      "metadata": {
        "id": "Q06rf3XxKvpE"
      }
    },
    {
      "cell_type": "code",
      "source": [
        "train = pd.read_csv(\"./data/train.csv\") #le dataset pour l entrainement\n",
        "# test = pd.read_csv(\"./data/test.csv\")   # le dataset pour le test "
      ],
      "metadata": {
        "id": "E0F72j5rEGM9"
      },
      "execution_count": 348,
      "outputs": []
    },
    {
      "cell_type": "code",
      "source": [
        "train.shape"
      ],
      "metadata": {
        "colab": {
          "base_uri": "https://localhost:8080/"
        },
        "id": "hJjbvRCULNTu",
        "outputId": "a1ce4cac-0900-4215-b3b2-b69385ba344e"
      },
      "execution_count": 349,
      "outputs": [
        {
          "output_type": "execute_result",
          "data": {
            "text/plain": [
              "(891, 12)"
            ]
          },
          "metadata": {},
          "execution_count": 349
        }
      ]
    },
    {
      "cell_type": "markdown",
      "source": [
        "# Data cleaning & exploration "
      ],
      "metadata": {
        "id": "TjZ2C96vK_-T"
      }
    },
    {
      "cell_type": "code",
      "source": [
        "#delete dupliates rows \n",
        "train.drop_duplicates()\n",
        "train.shape # no dupliate ros"
      ],
      "metadata": {
        "colab": {
          "base_uri": "https://localhost:8080/"
        },
        "id": "TZbc5kGwEVO7",
        "outputId": "e2fed23d-4f71-430a-b22d-4430607f7274"
      },
      "execution_count": 350,
      "outputs": [
        {
          "output_type": "execute_result",
          "data": {
            "text/plain": [
              "(891, 12)"
            ]
          },
          "metadata": {},
          "execution_count": 350
        }
      ]
    },
    {
      "cell_type": "code",
      "source": [
        "# test if there are missing values \n",
        "train.isnull().sum()"
      ],
      "metadata": {
        "colab": {
          "base_uri": "https://localhost:8080/"
        },
        "id": "AXn_b9xIW0Sz",
        "outputId": "d628de83-0b97-4d6e-d919-7182c6b37d6e"
      },
      "execution_count": 351,
      "outputs": [
        {
          "output_type": "execute_result",
          "data": {
            "text/plain": [
              "PassengerId      0\n",
              "Survived         0\n",
              "Pclass           0\n",
              "Name             0\n",
              "Sex              0\n",
              "Age            177\n",
              "SibSp            0\n",
              "Parch            0\n",
              "Ticket           0\n",
              "Fare             0\n",
              "Cabin          687\n",
              "Embarked         2\n",
              "dtype: int64"
            ]
          },
          "metadata": {},
          "execution_count": 351
        }
      ]
    },
    {
      "cell_type": "code",
      "source": [
        "#delete the rows that cccontain at least 3 missing values\n",
        "train = train.dropna(axis=0, thresh=2)"
      ],
      "metadata": {
        "id": "HHhK8JerU8ga"
      },
      "execution_count": 352,
      "outputs": []
    },
    {
      "cell_type": "code",
      "source": [
        "train.sample(5)"
      ],
      "metadata": {
        "id": "kz51PycBEW6y",
        "colab": {
          "base_uri": "https://localhost:8080/",
          "height": 206
        },
        "outputId": "e0d5b212-4b56-4f01-d6c0-0e2c4446a0c1"
      },
      "execution_count": 353,
      "outputs": [
        {
          "output_type": "execute_result",
          "data": {
            "text/html": [
              "\n",
              "  <div id=\"df-c64e9453-015b-4750-80af-518162fbf2e9\">\n",
              "    <div class=\"colab-df-container\">\n",
              "      <div>\n",
              "<style scoped>\n",
              "    .dataframe tbody tr th:only-of-type {\n",
              "        vertical-align: middle;\n",
              "    }\n",
              "\n",
              "    .dataframe tbody tr th {\n",
              "        vertical-align: top;\n",
              "    }\n",
              "\n",
              "    .dataframe thead th {\n",
              "        text-align: right;\n",
              "    }\n",
              "</style>\n",
              "<table border=\"1\" class=\"dataframe\">\n",
              "  <thead>\n",
              "    <tr style=\"text-align: right;\">\n",
              "      <th></th>\n",
              "      <th>PassengerId</th>\n",
              "      <th>Survived</th>\n",
              "      <th>Pclass</th>\n",
              "      <th>Name</th>\n",
              "      <th>Sex</th>\n",
              "      <th>Age</th>\n",
              "      <th>SibSp</th>\n",
              "      <th>Parch</th>\n",
              "      <th>Ticket</th>\n",
              "      <th>Fare</th>\n",
              "      <th>Cabin</th>\n",
              "      <th>Embarked</th>\n",
              "    </tr>\n",
              "  </thead>\n",
              "  <tbody>\n",
              "    <tr>\n",
              "      <th>96</th>\n",
              "      <td>97</td>\n",
              "      <td>0</td>\n",
              "      <td>1</td>\n",
              "      <td>Goldschmidt, Mr. George B</td>\n",
              "      <td>male</td>\n",
              "      <td>71.0</td>\n",
              "      <td>0</td>\n",
              "      <td>0</td>\n",
              "      <td>PC 17754</td>\n",
              "      <td>34.6542</td>\n",
              "      <td>A5</td>\n",
              "      <td>C</td>\n",
              "    </tr>\n",
              "    <tr>\n",
              "      <th>568</th>\n",
              "      <td>569</td>\n",
              "      <td>0</td>\n",
              "      <td>3</td>\n",
              "      <td>Doharr, Mr. Tannous</td>\n",
              "      <td>male</td>\n",
              "      <td>NaN</td>\n",
              "      <td>0</td>\n",
              "      <td>0</td>\n",
              "      <td>2686</td>\n",
              "      <td>7.2292</td>\n",
              "      <td>NaN</td>\n",
              "      <td>C</td>\n",
              "    </tr>\n",
              "    <tr>\n",
              "      <th>521</th>\n",
              "      <td>522</td>\n",
              "      <td>0</td>\n",
              "      <td>3</td>\n",
              "      <td>Vovk, Mr. Janko</td>\n",
              "      <td>male</td>\n",
              "      <td>22.0</td>\n",
              "      <td>0</td>\n",
              "      <td>0</td>\n",
              "      <td>349252</td>\n",
              "      <td>7.8958</td>\n",
              "      <td>NaN</td>\n",
              "      <td>S</td>\n",
              "    </tr>\n",
              "    <tr>\n",
              "      <th>652</th>\n",
              "      <td>653</td>\n",
              "      <td>0</td>\n",
              "      <td>3</td>\n",
              "      <td>Kalvik, Mr. Johannes Halvorsen</td>\n",
              "      <td>male</td>\n",
              "      <td>21.0</td>\n",
              "      <td>0</td>\n",
              "      <td>0</td>\n",
              "      <td>8475</td>\n",
              "      <td>8.4333</td>\n",
              "      <td>NaN</td>\n",
              "      <td>S</td>\n",
              "    </tr>\n",
              "    <tr>\n",
              "      <th>847</th>\n",
              "      <td>848</td>\n",
              "      <td>0</td>\n",
              "      <td>3</td>\n",
              "      <td>Markoff, Mr. Marin</td>\n",
              "      <td>male</td>\n",
              "      <td>35.0</td>\n",
              "      <td>0</td>\n",
              "      <td>0</td>\n",
              "      <td>349213</td>\n",
              "      <td>7.8958</td>\n",
              "      <td>NaN</td>\n",
              "      <td>C</td>\n",
              "    </tr>\n",
              "  </tbody>\n",
              "</table>\n",
              "</div>\n",
              "      <button class=\"colab-df-convert\" onclick=\"convertToInteractive('df-c64e9453-015b-4750-80af-518162fbf2e9')\"\n",
              "              title=\"Convert this dataframe to an interactive table.\"\n",
              "              style=\"display:none;\">\n",
              "        \n",
              "  <svg xmlns=\"http://www.w3.org/2000/svg\" height=\"24px\"viewBox=\"0 0 24 24\"\n",
              "       width=\"24px\">\n",
              "    <path d=\"M0 0h24v24H0V0z\" fill=\"none\"/>\n",
              "    <path d=\"M18.56 5.44l.94 2.06.94-2.06 2.06-.94-2.06-.94-.94-2.06-.94 2.06-2.06.94zm-11 1L8.5 8.5l.94-2.06 2.06-.94-2.06-.94L8.5 2.5l-.94 2.06-2.06.94zm10 10l.94 2.06.94-2.06 2.06-.94-2.06-.94-.94-2.06-.94 2.06-2.06.94z\"/><path d=\"M17.41 7.96l-1.37-1.37c-.4-.4-.92-.59-1.43-.59-.52 0-1.04.2-1.43.59L10.3 9.45l-7.72 7.72c-.78.78-.78 2.05 0 2.83L4 21.41c.39.39.9.59 1.41.59.51 0 1.02-.2 1.41-.59l7.78-7.78 2.81-2.81c.8-.78.8-2.07 0-2.86zM5.41 20L4 18.59l7.72-7.72 1.47 1.35L5.41 20z\"/>\n",
              "  </svg>\n",
              "      </button>\n",
              "      \n",
              "  <style>\n",
              "    .colab-df-container {\n",
              "      display:flex;\n",
              "      flex-wrap:wrap;\n",
              "      gap: 12px;\n",
              "    }\n",
              "\n",
              "    .colab-df-convert {\n",
              "      background-color: #E8F0FE;\n",
              "      border: none;\n",
              "      border-radius: 50%;\n",
              "      cursor: pointer;\n",
              "      display: none;\n",
              "      fill: #1967D2;\n",
              "      height: 32px;\n",
              "      padding: 0 0 0 0;\n",
              "      width: 32px;\n",
              "    }\n",
              "\n",
              "    .colab-df-convert:hover {\n",
              "      background-color: #E2EBFA;\n",
              "      box-shadow: 0px 1px 2px rgba(60, 64, 67, 0.3), 0px 1px 3px 1px rgba(60, 64, 67, 0.15);\n",
              "      fill: #174EA6;\n",
              "    }\n",
              "\n",
              "    [theme=dark] .colab-df-convert {\n",
              "      background-color: #3B4455;\n",
              "      fill: #D2E3FC;\n",
              "    }\n",
              "\n",
              "    [theme=dark] .colab-df-convert:hover {\n",
              "      background-color: #434B5C;\n",
              "      box-shadow: 0px 1px 3px 1px rgba(0, 0, 0, 0.15);\n",
              "      filter: drop-shadow(0px 1px 2px rgba(0, 0, 0, 0.3));\n",
              "      fill: #FFFFFF;\n",
              "    }\n",
              "  </style>\n",
              "\n",
              "      <script>\n",
              "        const buttonEl =\n",
              "          document.querySelector('#df-c64e9453-015b-4750-80af-518162fbf2e9 button.colab-df-convert');\n",
              "        buttonEl.style.display =\n",
              "          google.colab.kernel.accessAllowed ? 'block' : 'none';\n",
              "\n",
              "        async function convertToInteractive(key) {\n",
              "          const element = document.querySelector('#df-c64e9453-015b-4750-80af-518162fbf2e9');\n",
              "          const dataTable =\n",
              "            await google.colab.kernel.invokeFunction('convertToInteractive',\n",
              "                                                     [key], {});\n",
              "          if (!dataTable) return;\n",
              "\n",
              "          const docLinkHtml = 'Like what you see? Visit the ' +\n",
              "            '<a target=\"_blank\" href=https://colab.research.google.com/notebooks/data_table.ipynb>data table notebook</a>'\n",
              "            + ' to learn more about interactive tables.';\n",
              "          element.innerHTML = '';\n",
              "          dataTable['output_type'] = 'display_data';\n",
              "          await google.colab.output.renderOutput(dataTable, element);\n",
              "          const docLink = document.createElement('div');\n",
              "          docLink.innerHTML = docLinkHtml;\n",
              "          element.appendChild(docLink);\n",
              "        }\n",
              "      </script>\n",
              "    </div>\n",
              "  </div>\n",
              "  "
            ],
            "text/plain": [
              "     PassengerId  Survived  Pclass  ...     Fare Cabin  Embarked\n",
              "96            97         0       1  ...  34.6542    A5         C\n",
              "568          569         0       3  ...   7.2292   NaN         C\n",
              "521          522         0       3  ...   7.8958   NaN         S\n",
              "652          653         0       3  ...   8.4333   NaN         S\n",
              "847          848         0       3  ...   7.8958   NaN         C\n",
              "\n",
              "[5 rows x 12 columns]"
            ]
          },
          "metadata": {},
          "execution_count": 353
        }
      ]
    },
    {
      "cell_type": "code",
      "source": [
        "# the columns type \n",
        "train.dtypes"
      ],
      "metadata": {
        "colab": {
          "base_uri": "https://localhost:8080/"
        },
        "id": "F7z4Uw9hQ49W",
        "outputId": "91a50f19-e802-41bf-acff-d1ff98d246b4"
      },
      "execution_count": 354,
      "outputs": [
        {
          "output_type": "execute_result",
          "data": {
            "text/plain": [
              "PassengerId      int64\n",
              "Survived         int64\n",
              "Pclass           int64\n",
              "Name            object\n",
              "Sex             object\n",
              "Age            float64\n",
              "SibSp            int64\n",
              "Parch            int64\n",
              "Ticket          object\n",
              "Fare           float64\n",
              "Cabin           object\n",
              "Embarked        object\n",
              "dtype: object"
            ]
          },
          "metadata": {},
          "execution_count": 354
        }
      ]
    },
    {
      "cell_type": "markdown",
      "source": [
        "## Traitement de la column  Survived"
      ],
      "metadata": {
        "id": "2KA8lpEjYAkj"
      }
    },
    {
      "cell_type": "code",
      "source": [
        "train['Survived'].unique()"
      ],
      "metadata": {
        "colab": {
          "base_uri": "https://localhost:8080/"
        },
        "id": "QBgAjy0nUuTu",
        "outputId": "46b6a0c5-9b80-41f5-dd58-de687900c456"
      },
      "execution_count": 355,
      "outputs": [
        {
          "output_type": "execute_result",
          "data": {
            "text/plain": [
              "array([0, 1])"
            ]
          },
          "metadata": {},
          "execution_count": 355
        }
      ]
    },
    {
      "cell_type": "code",
      "source": [
        "_ =sns.histplot(data = train, x='Survived', bins=10, stat=\"count\")"
      ],
      "metadata": {
        "id": "kZhmz0yRUuWW",
        "colab": {
          "base_uri": "https://localhost:8080/",
          "height": 611
        },
        "outputId": "dc807e9f-dd74-409d-8393-c737b72be510"
      },
      "execution_count": 356,
      "outputs": [
        {
          "output_type": "display_data",
          "data": {
            "image/png": "[encoded data removed]",
            "text/plain": [
              "<Figure size 720x720 with 1 Axes>"
            ]
          },
          "metadata": {}
        }
      ]
    },
    {
      "cell_type": "code",
      "source": [
        "train['Survived'].value_counts() "
      ],
      "metadata": {
        "colab": {
          "base_uri": "https://localhost:8080/"
        },
        "id": "c1eSPG1XUuZK",
        "outputId": "7cfdda39-16aa-4c0a-ccfd-4866f5e4f7fd"
      },
      "execution_count": 357,
      "outputs": [
        {
          "output_type": "execute_result",
          "data": {
            "text/plain": [
              "0    549\n",
              "1    342\n",
              "Name: Survived, dtype: int64"
            ]
          },
          "metadata": {},
          "execution_count": 357
        }
      ]
    },
    {
      "cell_type": "markdown",
      "source": [
        "On remarque que le nombre des non survivant est bcp plus que celui des survivant "
      ],
      "metadata": {
        "id": "VP2cpHYX9xMU"
      }
    },
    {
      "cell_type": "markdown",
      "source": [
        "## Traitement de la column Pclass"
      ],
      "metadata": {
        "id": "dM5gibex-XYn"
      }
    },
    {
      "cell_type": "code",
      "source": [
        "train['Pclass'].isna().sum() # pas de valeurs manquantes "
      ],
      "metadata": {
        "colab": {
          "base_uri": "https://localhost:8080/"
        },
        "id": "pw4La1woUubm",
        "outputId": "6a14846e-8b2d-4c4d-c992-40b3f5d7c1db"
      },
      "execution_count": 358,
      "outputs": [
        {
          "output_type": "execute_result",
          "data": {
            "text/plain": [
              "0"
            ]
          },
          "metadata": {},
          "execution_count": 358
        }
      ]
    },
    {
      "cell_type": "code",
      "source": [
        "train['Pclass'].value_counts() # y a plus de gents dans la classe 3 "
      ],
      "metadata": {
        "colab": {
          "base_uri": "https://localhost:8080/"
        },
        "id": "aUSwBvVlUueB",
        "outputId": "37c82f58-33d4-4fb7-bd50-f8c7661b73e4"
      },
      "execution_count": 359,
      "outputs": [
        {
          "output_type": "execute_result",
          "data": {
            "text/plain": [
              "3    491\n",
              "1    216\n",
              "2    184\n",
              "Name: Pclass, dtype: int64"
            ]
          },
          "metadata": {},
          "execution_count": 359
        }
      ]
    },
    {
      "cell_type": "code",
      "source": [
        "# la distribution des classe en fonction de survived \n",
        "\n",
        "sns.histplot(data=train, x=\"Pclass\", hue=\"Survived\", discrete=True, multiple=\"stack\", stat=\"percent\")"
      ],
      "metadata": {
        "colab": {
          "base_uri": "https://localhost:8080/",
          "height": 628
        },
        "id": "BloP-8I1UugV",
        "outputId": "64e6779c-1117-42c2-fb77-a3e337331f3c"
      },
      "execution_count": 360,
      "outputs": [
        {
          "output_type": "execute_result",
          "data": {
            "text/plain": [
              "<matplotlib.axes._subplots.AxesSubplot at 0x7f91495c3e10>"
            ]
          },
          "metadata": {},
          "execution_count": 360
        },
        {
          "output_type": "display_data",
          "data": {
            "image/png": "[encoded data removed]",
            "text/plain": [
              "<Figure size 720x720 with 1 Axes>"
            ]
          },
          "metadata": {}
        }
      ]
    },
    {
      "cell_type": "markdown",
      "source": [
        "Remarque: \n",
        "on remarque que la classe ou les gents on plus survecu est la première classe contrairement à la troisième classe "
      ],
      "metadata": {
        "id": "Oi7hMfkhNpH1"
      }
    },
    {
      "cell_type": "markdown",
      "source": [
        "## Traitement colonne **Name**"
      ],
      "metadata": {
        "id": "1APDZC2YvL62"
      }
    },
    {
      "cell_type": "code",
      "source": [
        "print(train.Name.isnull().sum()) # pas de variable manquant \n",
        "print(train.Name.isna().sum())\n",
        "print(train.Name.unique().shape) # tous le noms sont différents"
      ],
      "metadata": {
        "colab": {
          "base_uri": "https://localhost:8080/"
        },
        "id": "XIx3UKdkvKfY",
        "outputId": "19a6dbf8-5c14-4464-a97d-a10a126ad42c"
      },
      "execution_count": 361,
      "outputs": [
        {
          "output_type": "stream",
          "name": "stdout",
          "text": [
            "0\n",
            "0\n",
            "(891,)\n"
          ]
        }
      ]
    },
    {
      "cell_type": "code",
      "source": [
        "train[\"title\"] = train.Name.apply(lambda x: x.split(\", \")[1].split(\".\")[0]) \n",
        "sns.histplot(data=train, x=\"title\", hue=\"Survived\", discrete=True, multiple=\"stack\", stat=\"percent\")\n",
        "plt.show()"
      ],
      "metadata": {
        "colab": {
          "base_uri": "https://localhost:8080/",
          "height": 611
        },
        "id": "INj1J7S8vXpc",
        "outputId": "3eb03e2b-89cb-4817-fd7b-38cb15f321ea"
      },
      "execution_count": 362,
      "outputs": [
        {
          "output_type": "display_data",
          "data": {
            "image/png": "[encoded data removed]",
            "text/plain": [
              "<Figure size 720x720 with 1 Axes>"
            ]
          },
          "metadata": {}
        }
      ]
    },
    {
      "cell_type": "markdown",
      "source": [
        "Remarque: \n",
        "La plupart des passagers sont des Mr, Mrs et Miss"
      ],
      "metadata": {
        "id": "_lXt0_97BLRI"
      }
    },
    {
      "cell_type": "markdown",
      "source": [
        "## Traitement de la column Sex"
      ],
      "metadata": {
        "id": "crOJ1lFVQbyU"
      }
    },
    {
      "cell_type": "code",
      "source": [
        "train['Sex'].isna().sum() # pas de valeurs manquantes "
      ],
      "metadata": {
        "colab": {
          "base_uri": "https://localhost:8080/"
        },
        "id": "BnmF6mRgQa16",
        "outputId": "b4538bd6-386a-4029-8a1c-126933c0b6cc"
      },
      "execution_count": 363,
      "outputs": [
        {
          "output_type": "execute_result",
          "data": {
            "text/plain": [
              "0"
            ]
          },
          "metadata": {},
          "execution_count": 363
        }
      ]
    },
    {
      "cell_type": "code",
      "source": [
        "train.Sex.unique()"
      ],
      "metadata": {
        "colab": {
          "base_uri": "https://localhost:8080/"
        },
        "id": "M666PAqAQa8b",
        "outputId": "5e0cf1fe-5af0-4fd7-e4d7-af06532fb54d"
      },
      "execution_count": 364,
      "outputs": [
        {
          "output_type": "execute_result",
          "data": {
            "text/plain": [
              "array(['male', 'female'], dtype=object)"
            ]
          },
          "metadata": {},
          "execution_count": 364
        }
      ]
    },
    {
      "cell_type": "code",
      "source": [
        "# la distrubution du sex \n",
        "_ =sns.histplot(data = train, x='Sex', bins=10, stat=\"count\")"
      ],
      "metadata": {
        "colab": {
          "base_uri": "https://localhost:8080/",
          "height": 611
        },
        "id": "PzXJMWB-RU3d",
        "outputId": "bb08ee94-27e8-4a79-a2c9-fff86d45b00b"
      },
      "execution_count": 365,
      "outputs": [
        {
          "output_type": "display_data",
          "data": {
            "image/png": "[encoded data removed]",
            "text/plain": [
              "<Figure size 720x720 with 1 Axes>"
            ]
          },
          "metadata": {}
        }
      ]
    },
    {
      "cell_type": "markdown",
      "source": [
        "Remarque: il y a plus d'homme sur le bateau que de femme( à peu pres la moitié) "
      ],
      "metadata": {
        "id": "pChmaLAISDYt"
      }
    },
    {
      "cell_type": "code",
      "source": [
        "sns.histplot(data=train, x=\"Sex\", hue=\"Survived\", discrete=True, multiple=\"stack\", stat=\"percent\")"
      ],
      "metadata": {
        "colab": {
          "base_uri": "https://localhost:8080/",
          "height": 628
        },
        "id": "-Hw-D8l2SPs_",
        "outputId": "b73a353c-ee52-43d9-aa12-feb83dc32a64"
      },
      "execution_count": 366,
      "outputs": [
        {
          "output_type": "execute_result",
          "data": {
            "text/plain": [
              "<matplotlib.axes._subplots.AxesSubplot at 0x7f9146fbaad0>"
            ]
          },
          "metadata": {},
          "execution_count": 366
        },
        {
          "output_type": "display_data",
          "data": {
            "image/png": "[encoded data removed]",
            "text/plain": [
              "<Figure size 720x720 with 1 Axes>"
            ]
          },
          "metadata": {}
        }
      ]
    },
    {
      "cell_type": "markdown",
      "source": [
        "Remarque: plus que la moitié des femme présente sur le bateau ont été sauvé contrairment au homme ou on voit que la majorité se sont noyés"
      ],
      "metadata": {
        "id": "G5yr0W4lSc0U"
      }
    },
    {
      "cell_type": "markdown",
      "source": [
        "## Traitement de la column Age"
      ],
      "metadata": {
        "id": "wztcPWz8N7oB"
      }
    },
    {
      "cell_type": "code",
      "source": [
        "train['Age'].isna().sum()  # on a 177 valeurs manquante dans la colonne age "
      ],
      "metadata": {
        "colab": {
          "base_uri": "https://localhost:8080/"
        },
        "id": "NewaG9K5vzre",
        "outputId": "4e7856d9-4620-4137-9c41-e48ec70c5ba6"
      },
      "execution_count": 367,
      "outputs": [
        {
          "output_type": "execute_result",
          "data": {
            "text/plain": [
              "177"
            ]
          },
          "metadata": {},
          "execution_count": 367
        }
      ]
    },
    {
      "cell_type": "code",
      "source": [
        "train['Age'].describe()"
      ],
      "metadata": {
        "colab": {
          "base_uri": "https://localhost:8080/"
        },
        "id": "MT1PsNZXv6tM",
        "outputId": "88a98dcf-12d2-4811-d460-cd7e45af32b8"
      },
      "execution_count": 368,
      "outputs": [
        {
          "output_type": "execute_result",
          "data": {
            "text/plain": [
              "count    714.000000\n",
              "mean      29.699118\n",
              "std       14.526497\n",
              "min        0.420000\n",
              "25%       20.125000\n",
              "50%       28.000000\n",
              "75%       38.000000\n",
              "max       80.000000\n",
              "Name: Age, dtype: float64"
            ]
          },
          "metadata": {},
          "execution_count": 368
        }
      ]
    },
    {
      "cell_type": "markdown",
      "source": [
        "Remarque : La majorité des passagers ont un age entre 10 et 50 ans "
      ],
      "metadata": {
        "id": "PaY-4I4fwBF-"
      }
    },
    {
      "cell_type": "code",
      "source": [
        "train[\"Age\"].isna().sum() #  on a des valeurs manquantes à traiter plus tard"
      ],
      "metadata": {
        "colab": {
          "base_uri": "https://localhost:8080/"
        },
        "id": "ZMgm57fLyce2",
        "outputId": "b76b7dbf-c7f3-4844-dbe1-552cae091614"
      },
      "execution_count": 369,
      "outputs": [
        {
          "output_type": "execute_result",
          "data": {
            "text/plain": [
              "177"
            ]
          },
          "metadata": {},
          "execution_count": 369
        }
      ]
    },
    {
      "cell_type": "code",
      "source": [
        "sns.histplot(data=train, x=\"Age\", hue=\"Survived\", discrete=False, multiple=\"stack\", stat=\"percent\")\n",
        "plt.show()"
      ],
      "metadata": {
        "colab": {
          "base_uri": "https://localhost:8080/",
          "height": 611
        },
        "id": "fo3MUl8KwAzt",
        "outputId": "e95cb344-0bb2-49e0-d260-0e6ccf82879e"
      },
      "execution_count": 370,
      "outputs": [
        {
          "output_type": "display_data",
          "data": {
            "image/png": "[encoded data removed]",
            "text/plain": [
              "<Figure size 720x720 with 1 Axes>"
            ]
          },
          "metadata": {}
        }
      ]
    },
    {
      "cell_type": "markdown",
      "source": [
        "Remarque: \n",
        "  - la proportion des enfant en bas age sauvés est plus grande que celle noyés\n",
        "  - Avec l'avance de l'ages le nombre de personne sauvé diminue \n",
        "  les 25-30 ans sont les plus noyés \n",
        "  - une descrittisation de l'age sera faite plus tard "
      ],
      "metadata": {
        "id": "tj50Edb8wM4X"
      }
    },
    {
      "cell_type": "markdown",
      "source": [
        "## Age VS Sex Vs Survived"
      ],
      "metadata": {
        "id": "oYA7WKinjmKW"
      }
    },
    {
      "cell_type": "code",
      "source": [
        "fig, axes = plt.subplots(nrows=1, ncols=2,figsize=(10, 4)) # un figure en deux colonne \n",
        "women = train[train['Sex']=='female'] # un subdataset de femme \n",
        "men = train[train['Sex']=='male'] # un subdataset de homme\n",
        "\n",
        "ax = sns.distplot(women[women['Survived']==1].Age, bins=18, label = 'survived', ax = axes[0], kde =False) #les femme survecu\n",
        "ax = sns.distplot(women[women['Survived']==0].Age, bins=18, label = 'not_survived', ax = axes[0], kde =False) # les femme non survecu\n",
        "ax.legend()\n",
        "ax.set_title('Female')\n",
        "\n",
        "\n",
        "ax = sns.distplot(men[men['Survived']==1].Age, bins=18, label = 'survived', ax = axes[1], kde =False) #les homme survecu\n",
        "ax = sns.distplot(men[men['Survived']==0].Age, bins=18, label = 'not_survived', ax = axes[1], kde =False) # les fhomme non survecu\n",
        "ax.legend()\n",
        "ax.set_title('Male')"
      ],
      "metadata": {
        "colab": {
          "base_uri": "https://localhost:8080/",
          "height": 373
        },
        "id": "Z6JyLzobjtML",
        "outputId": "f5c96f64-8bd6-4e7b-de3f-d4b119119402"
      },
      "execution_count": 371,
      "outputs": [
        {
          "output_type": "stream",
          "name": "stderr",
          "text": [
            "/usr/local/lib/python3.7/dist-packages/seaborn/distributions.py:2619: FutureWarning: `distplot` is a deprecated function and will be removed in a future version. Please adapt your code to use either `displot` (a figure-level function with similar flexibility) or `histplot` (an axes-level function for histograms).\n",
            "  warnings.warn(msg, FutureWarning)\n"
          ]
        },
        {
          "output_type": "execute_result",
          "data": {
            "text/plain": [
              "Text(0.5, 1.0, 'Male')"
            ]
          },
          "metadata": {},
          "execution_count": 371
        },
        {
          "output_type": "display_data",
          "data": {
            "image/png": "[encoded data removed]",
            "text/plain": [
              "<Figure size 720x288 with 2 Axes>"
            ]
          },
          "metadata": {}
        }
      ]
    },
    {
      "cell_type": "markdown",
      "source": [
        "Remarque \n",
        "\n",
        "   - les femmes entre 15 et 40 ans ont une plus grand probabilité de survive. \n",
        "    la proportion des femmes non survecus est plus  faible que celle sauvés quel que    soit   l'age\n",
        " \n",
        " - Les homme entre 15 et 50 ans ont eu une plus faible probabilité de survivre\n",
        " la proportion des homme noyéa et suppérieur à celle sauvés\n",
        "\n",
        " - Dans tous les cas les enfants ont une plus petite probabilité de survivre par rapport au autre ages"
      ],
      "metadata": {
        "id": "BO-QWtxKm_ZU"
      }
    },
    {
      "cell_type": "markdown",
      "source": [
        "Remarque : La majorité des passagers ont un age entre 10 et 50 ans "
      ],
      "metadata": {
        "id": "SEBm3oWte4oI"
      }
    },
    {
      "cell_type": "markdown",
      "source": [
        "## Traitement de la column SibSp"
      ],
      "metadata": {
        "id": "mt6g7UIDPakp"
      }
    },
    {
      "cell_type": "code",
      "source": [
        "train['SibSp'].isna().sum() # pas de valeurs manquantes"
      ],
      "metadata": {
        "colab": {
          "base_uri": "https://localhost:8080/"
        },
        "id": "pVs9AkaAOdML",
        "outputId": "37759d5f-3ddf-4a7f-d378-035860a955cb"
      },
      "execution_count": 372,
      "outputs": [
        {
          "output_type": "execute_result",
          "data": {
            "text/plain": [
              "0"
            ]
          },
          "metadata": {},
          "execution_count": 372
        }
      ]
    },
    {
      "cell_type": "code",
      "source": [
        "\n",
        "train.SibSp.unique()"
      ],
      "metadata": {
        "colab": {
          "base_uri": "https://localhost:8080/"
        },
        "id": "3WOajySEdQrC",
        "outputId": "cf71e730-cd7c-418a-ab29-606c32bc91ee"
      },
      "execution_count": 373,
      "outputs": [
        {
          "output_type": "execute_result",
          "data": {
            "text/plain": [
              "array([1, 0, 3, 4, 2, 5, 8])"
            ]
          },
          "metadata": {},
          "execution_count": 373
        }
      ]
    },
    {
      "cell_type": "code",
      "source": [
        "#la distribution de la variable SibSp \n",
        "_ =sns.histplot(data = train, x='SibSp', bins=10, stat=\"count\")\n",
        "\n"
      ],
      "metadata": {
        "colab": {
          "base_uri": "https://localhost:8080/",
          "height": 611
        },
        "id": "ReFo-6MaTRE-",
        "outputId": "5c894fd6-f4ae-4bc5-8dd6-59c36b4f0370"
      },
      "execution_count": 374,
      "outputs": [
        {
          "output_type": "display_data",
          "data": {
            "image/png": "[encoded data removed]",
            "text/plain": [
              "<Figure size 720x720 with 1 Axes>"
            ]
          },
          "metadata": {}
        }
      ]
    },
    {
      "cell_type": "markdown",
      "source": [
        "Remarque: \n",
        "on remarque que y a bcp de personne qui n'ont pas un frère/soeur/demi_frere/demi soeurs présent sur le bateau. Y en a un nombre non négligable de famille avec 1 enfants mais de moins en moins de famille avec 2 et plus d'enfants."
      ],
      "metadata": {
        "id": "J1vfrC2DU46q"
      }
    },
    {
      "cell_type": "markdown",
      "source": [
        "Pour ce qui suit on simplifie cette variable on remplacent tous ceux qui possède au moin 1 frère ... par 1. \n"
      ],
      "metadata": {
        "id": "cTac3jKPYFGG"
      }
    },
    {
      "cell_type": "code",
      "source": [
        "sns.histplot(data=train, x=\"SibSp\", hue=\"Survived\", discrete=True, multiple=\"stack\", stat=\"percent\")"
      ],
      "metadata": {
        "colab": {
          "base_uri": "https://localhost:8080/",
          "height": 628
        },
        "id": "yWzxAjbo9mPn",
        "outputId": "67fd5688-f3c4-4581-e857-71de6484e9ef"
      },
      "execution_count": 375,
      "outputs": [
        {
          "output_type": "execute_result",
          "data": {
            "text/plain": [
              "<matplotlib.axes._subplots.AxesSubplot at 0x7f9146cf4510>"
            ]
          },
          "metadata": {},
          "execution_count": 375
        },
        {
          "output_type": "display_data",
          "data": {
            "image/png": "[encoded data removed]",
            "text/plain": [
              "<Figure size 720x720 with 1 Axes>"
            ]
          },
          "metadata": {}
        }
      ]
    },
    {
      "cell_type": "markdown",
      "source": [
        "Remarque: \n",
        "La proportion des personnes qui ont 0,1 ou 2 frere sur le bateau on été les plus survecus. Néamoin dans les deux cas le nombre de personne noyés est supérieurs à celui sauvé."
      ],
      "metadata": {
        "id": "PKYc24_z93oj"
      }
    },
    {
      "cell_type": "markdown",
      "source": [
        "## Pclass VS SibSp\n",
        "\n",
        "\n",
        "\n"
      ],
      "metadata": {
        "id": "VKMohYJXxGHG"
      }
    },
    {
      "cell_type": "code",
      "source": [
        "sns.histplot(data=train, x=\"SibSp\",hue=\"Pclass\", discrete=True, multiple=\"stack\", stat=\"percent\")"
      ],
      "metadata": {
        "colab": {
          "base_uri": "https://localhost:8080/",
          "height": 628
        },
        "id": "48JTgxSGxbE1",
        "outputId": "ee572bcb-6040-43d6-8c57-10d5cab191de"
      },
      "execution_count": 376,
      "outputs": [
        {
          "output_type": "execute_result",
          "data": {
            "text/plain": [
              "<matplotlib.axes._subplots.AxesSubplot at 0x7f9146bff090>"
            ]
          },
          "metadata": {},
          "execution_count": 376
        },
        {
          "output_type": "display_data",
          "data": {
            "image/png": "[encoded data removed]",
            "text/plain": [
              "<Figure size 720x720 with 1 Axes>"
            ]
          },
          "metadata": {}
        }
      ]
    },
    {
      "cell_type": "markdown",
      "source": [
        "Commentaire: \n",
        "\n",
        "\n",
        "Les gens qui sont sont frère sur le bateau sont nombreux par rapport au gens qui sont venue avec leurs frère est ce dans toutes les clase et même à l'intérieur de la même classe"
      ],
      "metadata": {
        "id": "LKXoF7c57zpo"
      }
    },
    {
      "cell_type": "markdown",
      "source": [
        "## Traitement de la column Parch"
      ],
      "metadata": {
        "id": "Ml81mhcaW4q3"
      }
    },
    {
      "cell_type": "code",
      "source": [
        "train['Parch'].isna().sum() # on a renseigné tous les passagère le nombre de parents présents sur le bateau"
      ],
      "metadata": {
        "colab": {
          "base_uri": "https://localhost:8080/"
        },
        "id": "BJWHk3syXBYn",
        "outputId": "021cd1d9-bdd6-44bd-c0ef-0f93d4c6f644"
      },
      "execution_count": 377,
      "outputs": [
        {
          "output_type": "execute_result",
          "data": {
            "text/plain": [
              "0"
            ]
          },
          "metadata": {},
          "execution_count": 377
        }
      ]
    },
    {
      "cell_type": "code",
      "source": [
        "train.Parch.unique()"
      ],
      "metadata": {
        "colab": {
          "base_uri": "https://localhost:8080/"
        },
        "id": "M0bJmnBUXBfF",
        "outputId": "ca05b9ff-6cb5-4fce-9c59-daa0da0d036f"
      },
      "execution_count": 378,
      "outputs": [
        {
          "output_type": "execute_result",
          "data": {
            "text/plain": [
              "array([0, 1, 2, 5, 3, 4, 6])"
            ]
          },
          "metadata": {},
          "execution_count": 378
        }
      ]
    },
    {
      "cell_type": "code",
      "source": [
        "# la distribution de la varaible Parch \n",
        "_ =sns.histplot(data = train, x='Parch', bins=10, stat=\"count\")"
      ],
      "metadata": {
        "colab": {
          "base_uri": "https://localhost:8080/",
          "height": 611
        },
        "id": "WR1kjtmoXBh2",
        "outputId": "78428da3-6c75-44cc-e054-afc615603ea5"
      },
      "execution_count": 379,
      "outputs": [
        {
          "output_type": "display_data",
          "data": {
            "image/png": "[encoded data removed]",
            "text/plain": [
              "<Figure size 720x720 with 1 Axes>"
            ]
          },
          "metadata": {}
        }
      ]
    },
    {
      "cell_type": "code",
      "source": [
        "\n",
        "sns.histplot(data=train, x=\"Parch\", hue=\"Survived\", discrete=True, multiple=\"stack\", stat=\"percent\")"
      ],
      "metadata": {
        "colab": {
          "base_uri": "https://localhost:8080/",
          "height": 628
        },
        "id": "3oAmgZbwcCCZ",
        "outputId": "3694863f-d2db-4c46-d077-5df2ac1b57c5"
      },
      "execution_count": 380,
      "outputs": [
        {
          "output_type": "execute_result",
          "data": {
            "text/plain": [
              "<matplotlib.axes._subplots.AxesSubplot at 0x7f9146a63d90>"
            ]
          },
          "metadata": {},
          "execution_count": 380
        },
        {
          "output_type": "display_data",
          "data": {
            "image/png": "[encoded data removed]",
            "text/plain": [
              "<Figure size 720x720 with 1 Axes>"
            ]
          },
          "metadata": {}
        }
      ]
    },
    {
      "cell_type": "markdown",
      "source": [
        "Remarque: \n",
        "\n",
        "la moitié des personne qui ont des enfants ont été sauvés. \n",
        "les gents qui n'ont pas d'enfant sont les plus noyés juste 1/3 d'eux ont été sauvés.\n",
        "\n"
      ],
      "metadata": {
        "id": "Y0uRT2oScOrV"
      }
    },
    {
      "cell_type": "markdown",
      "source": [
        "## Pclass VS Parch"
      ],
      "metadata": {
        "id": "XQGVnl37AYgE"
      }
    },
    {
      "cell_type": "code",
      "source": [
        "sns.histplot(data=train, x=\"Parch\",hue=\"Pclass\", discrete=True, multiple=\"stack\", stat=\"percent\")"
      ],
      "metadata": {
        "colab": {
          "base_uri": "https://localhost:8080/",
          "height": 628
        },
        "id": "OZb799UeAkWQ",
        "outputId": "c924f2cf-3f0b-449f-bf3b-f7316fd542df"
      },
      "execution_count": 381,
      "outputs": [
        {
          "output_type": "execute_result",
          "data": {
            "text/plain": [
              "<matplotlib.axes._subplots.AxesSubplot at 0x7f9146a34b90>"
            ]
          },
          "metadata": {},
          "execution_count": 381
        },
        {
          "output_type": "display_data",
          "data": {
            "image/png": "[encoded data removed]",
            "text/plain": [
              "<Figure size 720x720 with 1 Axes>"
            ]
          },
          "metadata": {}
        }
      ]
    },
    {
      "cell_type": "markdown",
      "source": [
        "Remarque: \n",
        "\n",
        "  La plupart des passagers n'ont pas d'enfant est ce valable dans toutes les classe et même à l'interieure de la même classe"
      ],
      "metadata": {
        "id": "jStLvVH9A6y9"
      }
    },
    {
      "cell_type": "markdown",
      "source": [
        "## Le traitement de la variable Ticket "
      ],
      "metadata": {
        "id": "gn3g_t2RgTrs"
      }
    },
    {
      "cell_type": "code",
      "source": [
        "train.Ticket.isna().sum() # pas de valeurs manquantes\n",
        "print(train.Ticket.unique().shape)\n",
        "train.Name.isna().sum() # pas de valeurs manquantes\n",
        "print(train.Name.unique().shape)"
      ],
      "metadata": {
        "colab": {
          "base_uri": "https://localhost:8080/"
        },
        "id": "W2u9RoSDgRy6",
        "outputId": "87a68ff3-d1c8-47fa-f1f5-781a1b238adf"
      },
      "execution_count": 382,
      "outputs": [
        {
          "output_type": "stream",
          "name": "stdout",
          "text": [
            "(681,)\n",
            "(891,)\n"
          ]
        }
      ]
    },
    {
      "cell_type": "markdown",
      "source": [
        "Remarque: \n",
        "\n",
        "  Y a des tickets qui été utilisés par plusieurs passagers"
      ],
      "metadata": {
        "id": "Kx0d5TkVCb7y"
      }
    },
    {
      "cell_type": "markdown",
      "source": [
        "Remarque:\n",
        "\n",
        "  Dans la suite cette feature ne sera pas pris en considération dans la construcction du model vu qu'elle apporte peu d'information."
      ],
      "metadata": {
        "id": "Sfe7klc2Cj1r"
      }
    },
    {
      "cell_type": "markdown",
      "source": [
        "## Traitement de la variable Fare"
      ],
      "metadata": {
        "id": "KkAKc0-iC8D1"
      }
    },
    {
      "cell_type": "code",
      "source": [
        "train.Fare.isna().sum() # pas de valeurs manquantes"
      ],
      "metadata": {
        "colab": {
          "base_uri": "https://localhost:8080/"
        },
        "id": "5iTPdTOGGIFz",
        "outputId": "42da5bfc-3eed-416c-82e2-658608e4a261"
      },
      "execution_count": 383,
      "outputs": [
        {
          "output_type": "execute_result",
          "data": {
            "text/plain": [
              "0"
            ]
          },
          "metadata": {},
          "execution_count": 383
        }
      ]
    },
    {
      "cell_type": "code",
      "source": [
        "train.Fare.describe()  "
      ],
      "metadata": {
        "colab": {
          "base_uri": "https://localhost:8080/"
        },
        "id": "SvYvxazuGIOt",
        "outputId": "b69553b2-4779-4817-e526-dad71592175b"
      },
      "execution_count": 384,
      "outputs": [
        {
          "output_type": "execute_result",
          "data": {
            "text/plain": [
              "count    891.000000\n",
              "mean      32.204208\n",
              "std       49.693429\n",
              "min        0.000000\n",
              "25%        7.910400\n",
              "50%       14.454200\n",
              "75%       31.000000\n",
              "max      512.329200\n",
              "Name: Fare, dtype: float64"
            ]
          },
          "metadata": {},
          "execution_count": 384
        }
      ]
    },
    {
      "cell_type": "code",
      "source": [
        "plt.figure(figsize=(10,5))\n",
        "plt.xlabel('Fare')\n",
        "plt.ylabel('density')\n",
        "sns.kdeplot(train.Fare,shade=True)\n",
        "plt.show()"
      ],
      "metadata": {
        "colab": {
          "base_uri": "https://localhost:8080/",
          "height": 339
        },
        "id": "YAbgy8g4G4uH",
        "outputId": "35abc9f9-cb4d-4401-bf8f-b4b854706d40"
      },
      "execution_count": 385,
      "outputs": [
        {
          "output_type": "display_data",
          "data": {
            "image/png": "[encoded data removed]",
            "text/plain": [
              "<Figure size 720x360 with 1 Axes>"
            ]
          },
          "metadata": {}
        }
      ]
    },
    {
      "cell_type": "markdown",
      "source": [
        "Remarque:\n",
        "  - la majorité des passagère on un Fare inférieur 40 \n",
        "  - une descritisation de cette variable sera réaliser un peu plus tard "
      ],
      "metadata": {
        "id": "Yjuf00_8Klwi"
      }
    },
    {
      "cell_type": "code",
      "source": [
        "sns.histplot(data=train, x=\"Fare\", hue=\"Survived\", discrete=False, multiple=\"stack\", stat=\"percent\")"
      ],
      "metadata": {
        "colab": {
          "base_uri": "https://localhost:8080/",
          "height": 628
        },
        "id": "MNZeB-NGZlio",
        "outputId": "bde36b4e-5b89-4765-c3bb-bb4268809c66"
      },
      "execution_count": 386,
      "outputs": [
        {
          "output_type": "execute_result",
          "data": {
            "text/plain": [
              "<matplotlib.axes._subplots.AxesSubplot at 0x7f91468f1e90>"
            ]
          },
          "metadata": {},
          "execution_count": 386
        },
        {
          "output_type": "display_data",
          "data": {
            "image/png": "[encoded data removed]",
            "text/plain": [
              "<Figure size 720x720 with 1 Axes>"
            ]
          },
          "metadata": {}
        }
      ]
    },
    {
      "cell_type": "markdown",
      "source": [
        "Remarque: \n",
        " \n",
        "  Les passagers avec un plus grand Fare on été les plus sauvés par rapport à ceux avec un Fare plus petit. "
      ],
      "metadata": {
        "id": "Xbe7Cdu3aCkU"
      }
    },
    {
      "cell_type": "markdown",
      "source": [
        "## Traitement de la colonne Embarked"
      ],
      "metadata": {
        "id": "MtINOFGV6s_q"
      }
    },
    {
      "cell_type": "code",
      "source": [
        "# On remplace les valeurs manquante dans cette colone par S car c'est la plus présente dans le dataset \n",
        "train[\"Embarked\"] = train[\"Embarked\"].fillna(\"S\")"
      ],
      "metadata": {
        "id": "hygVdDws6wMx"
      },
      "execution_count": 387,
      "outputs": []
    },
    {
      "cell_type": "markdown",
      "source": [
        "## Matrice de correlation "
      ],
      "metadata": {
        "id": "MVGyNeKKgKeS"
      }
    },
    {
      "cell_type": "code",
      "source": [
        "cormat = train.corr()\n",
        "p = sns.heatmap(cormat,annot=True, cmap=sns.diverging_palette(220,20,as_cmap=True))"
      ],
      "metadata": {
        "colab": {
          "base_uri": "https://localhost:8080/",
          "height": 598
        },
        "id": "AjFsHvaodWAa",
        "outputId": "d6299091-db18-4d7a-b105-353ec10d1859"
      },
      "execution_count": 388,
      "outputs": [
        {
          "output_type": "display_data",
          "data": {
            "image/png": "[encoded data removed]",
            "text/plain": [
              "<Figure size 720x720 with 2 Axes>"
            ]
          },
          "metadata": {}
        }
      ]
    },
    {
      "cell_type": "markdown",
      "source": [
        "on a une petite corrélation entre les variable Parch et SibSp."
      ],
      "metadata": {
        "id": "sV9QUOvCBcYA"
      }
    },
    {
      "cell_type": "markdown",
      "source": [
        "# Preprocessing"
      ],
      "metadata": {
        "id": "gSAyyyH6BhdN"
      }
    },
    {
      "cell_type": "code",
      "source": [
        "train = pd.read_csv(\"./data/train.csv\") #le dataset pour l entrainement\n",
        "test = pd.read_csv(\"./data/test.csv\")   # le dataset pour le test "
      ],
      "metadata": {
        "id": "wphGi9v9nRV5"
      },
      "execution_count": 442,
      "outputs": []
    },
    {
      "cell_type": "markdown",
      "source": [
        "### La variable Age"
      ],
      "metadata": {
        "id": "fZd4ho8UH5X-"
      }
    },
    {
      "cell_type": "code",
      "source": [
        "# dans ce qui suit on remplace les valeurs manquantes dans la colonne Age par la mediane \n",
        "# des ages du même groupe de personnes (Mrs, Mr,..)  \n",
        "\n",
        "title_to_en = {\n",
        "    \"Mme\": \"Mrs\",\n",
        "    \"Mlle\": \"Miss\",\n",
        "    \"Don\": \"Mr\",\n",
        "    \"Rev\": \"Mr\",\n",
        "    \"Dr\": \"Mr\",\n",
        "    \"Major\": \"Mr\",\n",
        "    \"Lady\": \"Ms\",\n",
        "    \"Col\": \"Sir\",\n",
        "    \"Capt\": \"Mr\",\n",
        "    \"the Countess\": \"Mrs\",\n",
        "    \"Jonkheer\": \"Mr\",\n",
        "}\n",
        "\n",
        "train[\"title\"] = train.Name.apply(lambda x: x.split(\", \")[1].split(\".\")[0]) \n",
        "test[\"title\"] = test.Name.apply(lambda x: x.split(\", \")[1].split(\".\")[0])\n",
        "\n",
        "train = train.replace(title_to_en)\n",
        "test = test.replace(title_to_en)\n",
        "\n",
        "\n",
        "for title in train['title'].unique():\n",
        "  mean = train[train[\"title\"] == title]['Age'].median()\n",
        "  mask_train = np.logical_and((train[\"title\"] == title).values, train['Age'].isna().values)\n",
        "  mask_test = np.logical_and((test[\"title\"] == title).values, test['Age'].isna().values)\n",
        "\n",
        "  train.loc[mask_train, \"Age\"] = mean"
      ],
      "metadata": {
        "id": "RaaCAobZJx9x"
      },
      "execution_count": 443,
      "outputs": []
    },
    {
      "cell_type": "code",
      "source": [
        "# la descritisation de la variable age: \n",
        "train['AgeBand'] = pd.cut(train['Age'], 5)\n",
        "print(train.AgeBand.unique())\n",
        "\n",
        "def func(age):\n",
        "  if age <= 16:\n",
        "    return 0\n",
        "  if age>16 and age <= 32:\n",
        "    return 1\n",
        "  if age>32 and age <= 48:\n",
        "    return 2\n",
        "  if age>48 and age <= 64:\n",
        "    return 3\n",
        "  return 4\n",
        "    \n",
        "train[\"eAge\"] = train['Age'].apply(lambda x: func(x))\n",
        "test[\"eAge\"] = test['Age'].apply(lambda x: func(x))\n",
        "\n",
        "train = train.drop(['AgeBand'], axis=1)   # on supprime la colonne AgeBang vu qu'elle n'est plus utile"
      ],
      "metadata": {
        "colab": {
          "base_uri": "https://localhost:8080/"
        },
        "id": "bibU7PPwH9xD",
        "outputId": "f4655af7-4263-44f1-e027-f4432a6c30b5"
      },
      "execution_count": 444,
      "outputs": [
        {
          "output_type": "stream",
          "name": "stdout",
          "text": [
            "[(16.336, 32.252], (32.252, 48.168], (48.168, 64.084], (0.34, 16.336], (64.084, 80.0]]\n",
            "Categories (5, interval[float64, right]): [(0.34, 16.336] < (16.336, 32.252] < (32.252, 48.168] <\n",
            "                                           (48.168, 64.084] < (64.084, 80.0]]\n"
          ]
        }
      ]
    },
    {
      "cell_type": "markdown",
      "source": [
        "### La variable title"
      ],
      "metadata": {
        "id": "_7iOuyWFHugD"
      }
    },
    {
      "cell_type": "code",
      "source": [
        "# on descritise la variable title\n",
        "\n",
        "train['title'] = train['title'].replace('Mr', 1)\n",
        "train['title'] = train['title'].replace('Miss', 2)\n",
        "train['title'] = train['title'].replace('Ms', 2)\n",
        "train['title'] = train['title'].replace('Mlle', 2)\n",
        "train['title'] = train['title'].replace('Mme', 3)\n",
        "train['title'] = train['title'].replace('Mrs', 3)\n",
        "train['title'] = train['title'].replace('Master', 4)\n",
        "train['title'] = train['title'].replace(['Lady', 'the Countess','Capt', 'Col','Don', 'Dr', 'Major', 'Rev', 'Sir', 'Jonkheer', 'Dona'], 5)\n",
        "\n",
        "\n",
        "test['title'] = test['title'].replace('Mr', 1)\n",
        "test['title'] = test['title'].replace('Miss', 2)\n",
        "test['title'] = test['title'].replace('Ms', 2)\n",
        "test['title'] = test['title'].replace('Mlle', 2)\n",
        "test['title'] = test['title'].replace('Mme', 3)\n",
        "test['title'] = test['title'].replace('Mrs', 3)\n",
        "test['title'] = test['title'].replace('Master', 4)\n",
        "test['title'] = test['title'].replace(['Lady', 'the Countess','Capt', 'Col','Don', 'Dr', 'Major', 'Rev', 'Sir', 'Jonkheer', 'Dona'], 5)\n"
      ],
      "metadata": {
        "id": "xaELJVWzBtgF"
      },
      "execution_count": 445,
      "outputs": []
    },
    {
      "cell_type": "code",
      "source": [
        "train.title.unique() "
      ],
      "metadata": {
        "colab": {
          "base_uri": "https://localhost:8080/"
        },
        "id": "k_xqcRiRBtdV",
        "outputId": "7992d5e4-735d-4ba2-bcff-04674b380222"
      },
      "execution_count": 446,
      "outputs": [
        {
          "output_type": "execute_result",
          "data": {
            "text/plain": [
              "array([1, 3, 2, 4, 5])"
            ]
          },
          "metadata": {},
          "execution_count": 446
        }
      ]
    },
    {
      "cell_type": "markdown",
      "source": [
        "### La variavle FamillySize et is_alone"
      ],
      "metadata": {
        "id": "Iz_AbVk3LjKL"
      }
    },
    {
      "cell_type": "code",
      "source": [
        "train['FamilySize'] = train['SibSp'] + train['Parch'] + 1\n",
        "train['is_alone'] = np.where(train['FamilySize'].values==1, 1, 0) #1 si ==1 sinon c'est 0\n",
        "\n",
        "test['FamilySize'] = test['SibSp'] + test['Parch'] + 1\n",
        "test['is_alone'] = np.where(test['FamilySize'].values==1, 1, 0) #1 si ==1 sinon c'est 0"
      ],
      "metadata": {
        "id": "gib0OEWOBtYv"
      },
      "execution_count": 447,
      "outputs": []
    },
    {
      "cell_type": "markdown",
      "source": [
        "### La variable Embarked"
      ],
      "metadata": {
        "id": "5Ci5H97kajve"
      }
    },
    {
      "cell_type": "code",
      "source": [
        "print(train['Embarked'].value_counts())\n",
        "train['Embarked'].fillna('S', inplace=True)\n",
        "test['Embarked'].fillna('S', inplace=True)\n",
        "\n",
        "train['Embarked'] = train['Embarked'].map( {'S': 0, 'C': 1, 'Q': 2} ).astype(int)\n",
        "test['Embarked'] = test['Embarked'].map( {'S': 0, 'C': 1, 'Q': 2} ).astype(int)"
      ],
      "metadata": {
        "colab": {
          "base_uri": "https://localhost:8080/"
        },
        "id": "yJ70dc4Dao-p",
        "outputId": "19091daa-8ca7-4330-d093-0513414068e3"
      },
      "execution_count": 448,
      "outputs": [
        {
          "output_type": "stream",
          "name": "stdout",
          "text": [
            "S    644\n",
            "C    168\n",
            "Q     77\n",
            "Name: Embarked, dtype: int64\n"
          ]
        }
      ]
    },
    {
      "cell_type": "markdown",
      "source": [
        "### La variable Fare"
      ],
      "metadata": {
        "id": "t5097wwtMEhM"
      }
    },
    {
      "cell_type": "code",
      "source": [
        "train['FareBand'] = pd.qcut(train['Fare'], 4)\n",
        "print(train.FareBand.unique())\n",
        "\n",
        "def f(fare):\n",
        "  if fare <= 7.91:\n",
        "    return 0\n",
        "  if fare>7.91 and fare <= 14.454:\n",
        "    return 1\n",
        "  if fare >14.454 and fare <= 31:\n",
        "    return 2\n",
        "  if fare>31:\n",
        "    return 3\n",
        "  return 4\n",
        "    \n",
        "train[\"ClassFare\"] = train['Fare'].apply(lambda x: f(x))\n",
        "train = train.drop(['FareBand'], axis=1)   # on supprime la colonne AgeBang vu qu'elle n'est plus utile\n",
        "\n",
        "test[\"ClassFare\"] = test['Fare'].apply(lambda x: f(x))"
      ],
      "metadata": {
        "colab": {
          "base_uri": "https://localhost:8080/"
        },
        "id": "g9UKOScecALR",
        "outputId": "5268c334-119d-42e0-838f-44b727d2261a"
      },
      "execution_count": 449,
      "outputs": [
        {
          "output_type": "stream",
          "name": "stdout",
          "text": [
            "[(-0.001, 7.91], (31.0, 512.329], (7.91, 14.454], (14.454, 31.0]]\n",
            "Categories (4, interval[float64, right]): [(-0.001, 7.91] < (7.91, 14.454] < (14.454, 31.0] <\n",
            "                                           (31.0, 512.329]]\n"
          ]
        }
      ]
    },
    {
      "cell_type": "markdown",
      "source": [
        "### Création de la variable AgeClass"
      ],
      "metadata": {
        "id": "pEyWuL6_iXKZ"
      }
    },
    {
      "cell_type": "code",
      "source": [
        "train['Age_Pclass'] = train.Age * train.Pclass\n",
        "test['Age_Pclass'] = test.Age * test.Pclass"
      ],
      "metadata": {
        "id": "Kc8wxVJdiiWh"
      },
      "execution_count": 450,
      "outputs": []
    },
    {
      "cell_type": "markdown",
      "source": [
        "### La variable Sex"
      ],
      "metadata": {
        "id": "az-5OoXPhjS0"
      }
    },
    {
      "cell_type": "code",
      "source": [
        "train['eSex'] = np.where(train['Sex'].values=='male', 1, 0) # 1 si sex==male 0 sinon\n",
        "test['eSex'] = np.where(test['Sex'].values=='male', 1, 0) # 1 si sex==male 0 sinon"
      ],
      "metadata": {
        "id": "6OB0TL33fvXh"
      },
      "execution_count": 451,
      "outputs": []
    },
    {
      "cell_type": "code",
      "source": [
        "train.head() # le train final (avant la classification)"
      ],
      "metadata": {
        "colab": {
          "base_uri": "https://localhost:8080/",
          "height": 206
        },
        "id": "dRABVAfSdJu6",
        "outputId": "81deec6e-c883-4bd9-c040-22ec88ceb54c"
      },
      "execution_count": 453,
      "outputs": [
        {
          "output_type": "execute_result",
          "data": {
            "text/html": [
              "\n",
              "  <div id=\"df-4c16a60a-faf0-4064-bb01-b71337177dcf\">\n",
              "    <div class=\"colab-df-container\">\n",
              "      <div>\n",
              "<style scoped>\n",
              "    .dataframe tbody tr th:only-of-type {\n",
              "        vertical-align: middle;\n",
              "    }\n",
              "\n",
              "    .dataframe tbody tr th {\n",
              "        vertical-align: top;\n",
              "    }\n",
              "\n",
              "    .dataframe thead th {\n",
              "        text-align: right;\n",
              "    }\n",
              "</style>\n",
              "<table border=\"1\" class=\"dataframe\">\n",
              "  <thead>\n",
              "    <tr style=\"text-align: right;\">\n",
              "      <th></th>\n",
              "      <th>PassengerId</th>\n",
              "      <th>Survived</th>\n",
              "      <th>Pclass</th>\n",
              "      <th>Name</th>\n",
              "      <th>Sex</th>\n",
              "      <th>Age</th>\n",
              "      <th>SibSp</th>\n",
              "      <th>Parch</th>\n",
              "      <th>Ticket</th>\n",
              "      <th>Fare</th>\n",
              "      <th>Cabin</th>\n",
              "      <th>Embarked</th>\n",
              "      <th>title</th>\n",
              "      <th>eAge</th>\n",
              "      <th>FamilySize</th>\n",
              "      <th>is_alone</th>\n",
              "      <th>ClassFare</th>\n",
              "      <th>Age_Pclass</th>\n",
              "      <th>eSex</th>\n",
              "    </tr>\n",
              "  </thead>\n",
              "  <tbody>\n",
              "    <tr>\n",
              "      <th>0</th>\n",
              "      <td>1</td>\n",
              "      <td>0</td>\n",
              "      <td>3</td>\n",
              "      <td>Braund, Mr. Owen Harris</td>\n",
              "      <td>male</td>\n",
              "      <td>22.0</td>\n",
              "      <td>1</td>\n",
              "      <td>0</td>\n",
              "      <td>A/5 21171</td>\n",
              "      <td>7.2500</td>\n",
              "      <td>NaN</td>\n",
              "      <td>0</td>\n",
              "      <td>1</td>\n",
              "      <td>1</td>\n",
              "      <td>2</td>\n",
              "      <td>0</td>\n",
              "      <td>0</td>\n",
              "      <td>66.0</td>\n",
              "      <td>1</td>\n",
              "    </tr>\n",
              "    <tr>\n",
              "      <th>1</th>\n",
              "      <td>2</td>\n",
              "      <td>1</td>\n",
              "      <td>1</td>\n",
              "      <td>Cumings, Mrs. John Bradley (Florence Briggs Th...</td>\n",
              "      <td>female</td>\n",
              "      <td>38.0</td>\n",
              "      <td>1</td>\n",
              "      <td>0</td>\n",
              "      <td>PC 17599</td>\n",
              "      <td>71.2833</td>\n",
              "      <td>C85</td>\n",
              "      <td>1</td>\n",
              "      <td>3</td>\n",
              "      <td>2</td>\n",
              "      <td>2</td>\n",
              "      <td>0</td>\n",
              "      <td>3</td>\n",
              "      <td>38.0</td>\n",
              "      <td>0</td>\n",
              "    </tr>\n",
              "    <tr>\n",
              "      <th>2</th>\n",
              "      <td>3</td>\n",
              "      <td>1</td>\n",
              "      <td>3</td>\n",
              "      <td>Heikkinen, Miss. Laina</td>\n",
              "      <td>female</td>\n",
              "      <td>26.0</td>\n",
              "      <td>0</td>\n",
              "      <td>0</td>\n",
              "      <td>STON/O2. 3101282</td>\n",
              "      <td>7.9250</td>\n",
              "      <td>NaN</td>\n",
              "      <td>0</td>\n",
              "      <td>2</td>\n",
              "      <td>1</td>\n",
              "      <td>1</td>\n",
              "      <td>1</td>\n",
              "      <td>1</td>\n",
              "      <td>78.0</td>\n",
              "      <td>0</td>\n",
              "    </tr>\n",
              "    <tr>\n",
              "      <th>3</th>\n",
              "      <td>4</td>\n",
              "      <td>1</td>\n",
              "      <td>1</td>\n",
              "      <td>Futrelle, Mrs. Jacques Heath (Lily May Peel)</td>\n",
              "      <td>female</td>\n",
              "      <td>35.0</td>\n",
              "      <td>1</td>\n",
              "      <td>0</td>\n",
              "      <td>113803</td>\n",
              "      <td>53.1000</td>\n",
              "      <td>C123</td>\n",
              "      <td>0</td>\n",
              "      <td>3</td>\n",
              "      <td>2</td>\n",
              "      <td>2</td>\n",
              "      <td>0</td>\n",
              "      <td>3</td>\n",
              "      <td>35.0</td>\n",
              "      <td>0</td>\n",
              "    </tr>\n",
              "    <tr>\n",
              "      <th>4</th>\n",
              "      <td>5</td>\n",
              "      <td>0</td>\n",
              "      <td>3</td>\n",
              "      <td>Allen, Mr. William Henry</td>\n",
              "      <td>male</td>\n",
              "      <td>35.0</td>\n",
              "      <td>0</td>\n",
              "      <td>0</td>\n",
              "      <td>373450</td>\n",
              "      <td>8.0500</td>\n",
              "      <td>NaN</td>\n",
              "      <td>0</td>\n",
              "      <td>1</td>\n",
              "      <td>2</td>\n",
              "      <td>1</td>\n",
              "      <td>1</td>\n",
              "      <td>1</td>\n",
              "      <td>105.0</td>\n",
              "      <td>1</td>\n",
              "    </tr>\n",
              "  </tbody>\n",
              "</table>\n",
              "</div>\n",
              "      <button class=\"colab-df-convert\" onclick=\"convertToInteractive('df-4c16a60a-faf0-4064-bb01-b71337177dcf')\"\n",
              "              title=\"Convert this dataframe to an interactive table.\"\n",
              "              style=\"display:none;\">\n",
              "        \n",
              "  <svg xmlns=\"http://www.w3.org/2000/svg\" height=\"24px\"viewBox=\"0 0 24 24\"\n",
              "       width=\"24px\">\n",
              "    <path d=\"M0 0h24v24H0V0z\" fill=\"none\"/>\n",
              "    <path d=\"M18.56 5.44l.94 2.06.94-2.06 2.06-.94-2.06-.94-.94-2.06-.94 2.06-2.06.94zm-11 1L8.5 8.5l.94-2.06 2.06-.94-2.06-.94L8.5 2.5l-.94 2.06-2.06.94zm10 10l.94 2.06.94-2.06 2.06-.94-2.06-.94-.94-2.06-.94 2.06-2.06.94z\"/><path d=\"M17.41 7.96l-1.37-1.37c-.4-.4-.92-.59-1.43-.59-.52 0-1.04.2-1.43.59L10.3 9.45l-7.72 7.72c-.78.78-.78 2.05 0 2.83L4 21.41c.39.39.9.59 1.41.59.51 0 1.02-.2 1.41-.59l7.78-7.78 2.81-2.81c.8-.78.8-2.07 0-2.86zM5.41 20L4 18.59l7.72-7.72 1.47 1.35L5.41 20z\"/>\n",
              "  </svg>\n",
              "      </button>\n",
              "      \n",
              "  <style>\n",
              "    .colab-df-container {\n",
              "      display:flex;\n",
              "      flex-wrap:wrap;\n",
              "      gap: 12px;\n",
              "    }\n",
              "\n",
              "    .colab-df-convert {\n",
              "      background-color: #E8F0FE;\n",
              "      border: none;\n",
              "      border-radius: 50%;\n",
              "      cursor: pointer;\n",
              "      display: none;\n",
              "      fill: #1967D2;\n",
              "      height: 32px;\n",
              "      padding: 0 0 0 0;\n",
              "      width: 32px;\n",
              "    }\n",
              "\n",
              "    .colab-df-convert:hover {\n",
              "      background-color: #E2EBFA;\n",
              "      box-shadow: 0px 1px 2px rgba(60, 64, 67, 0.3), 0px 1px 3px 1px rgba(60, 64, 67, 0.15);\n",
              "      fill: #174EA6;\n",
              "    }\n",
              "\n",
              "    [theme=dark] .colab-df-convert {\n",
              "      background-color: #3B4455;\n",
              "      fill: #D2E3FC;\n",
              "    }\n",
              "\n",
              "    [theme=dark] .colab-df-convert:hover {\n",
              "      background-color: #434B5C;\n",
              "      box-shadow: 0px 1px 3px 1px rgba(0, 0, 0, 0.15);\n",
              "      filter: drop-shadow(0px 1px 2px rgba(0, 0, 0, 0.3));\n",
              "      fill: #FFFFFF;\n",
              "    }\n",
              "  </style>\n",
              "\n",
              "      <script>\n",
              "        const buttonEl =\n",
              "          document.querySelector('#df-4c16a60a-faf0-4064-bb01-b71337177dcf button.colab-df-convert');\n",
              "        buttonEl.style.display =\n",
              "          google.colab.kernel.accessAllowed ? 'block' : 'none';\n",
              "\n",
              "        async function convertToInteractive(key) {\n",
              "          const element = document.querySelector('#df-4c16a60a-faf0-4064-bb01-b71337177dcf');\n",
              "          const dataTable =\n",
              "            await google.colab.kernel.invokeFunction('convertToInteractive',\n",
              "                                                     [key], {});\n",
              "          if (!dataTable) return;\n",
              "\n",
              "          const docLinkHtml = 'Like what you see? Visit the ' +\n",
              "            '<a target=\"_blank\" href=https://colab.research.google.com/notebooks/data_table.ipynb>data table notebook</a>'\n",
              "            + ' to learn more about interactive tables.';\n",
              "          element.innerHTML = '';\n",
              "          dataTable['output_type'] = 'display_data';\n",
              "          await google.colab.output.renderOutput(dataTable, element);\n",
              "          const docLink = document.createElement('div');\n",
              "          docLink.innerHTML = docLinkHtml;\n",
              "          element.appendChild(docLink);\n",
              "        }\n",
              "      </script>\n",
              "    </div>\n",
              "  </div>\n",
              "  "
            ],
            "text/plain": [
              "   PassengerId  Survived  Pclass  ... ClassFare Age_Pclass  eSex\n",
              "0            1         0       3  ...         0       66.0     1\n",
              "1            2         1       1  ...         3       38.0     0\n",
              "2            3         1       3  ...         1       78.0     0\n",
              "3            4         1       1  ...         3       35.0     0\n",
              "4            5         0       3  ...         1      105.0     1\n",
              "\n",
              "[5 rows x 19 columns]"
            ]
          },
          "metadata": {},
          "execution_count": 453
        }
      ]
    },
    {
      "cell_type": "code",
      "source": [
        "test.head() # le train final (avant la classification)"
      ],
      "metadata": {
        "colab": {
          "base_uri": "https://localhost:8080/",
          "height": 206
        },
        "id": "6SUTcJ95pjBQ",
        "outputId": "0cba3e7c-3c0e-4bf6-eff5-64452e2991ac"
      },
      "execution_count": 454,
      "outputs": [
        {
          "output_type": "execute_result",
          "data": {
            "text/html": [
              "\n",
              "  <div id=\"df-3925b1a0-a02b-4a21-88e7-7f50c3f38782\">\n",
              "    <div class=\"colab-df-container\">\n",
              "      <div>\n",
              "<style scoped>\n",
              "    .dataframe tbody tr th:only-of-type {\n",
              "        vertical-align: middle;\n",
              "    }\n",
              "\n",
              "    .dataframe tbody tr th {\n",
              "        vertical-align: top;\n",
              "    }\n",
              "\n",
              "    .dataframe thead th {\n",
              "        text-align: right;\n",
              "    }\n",
              "</style>\n",
              "<table border=\"1\" class=\"dataframe\">\n",
              "  <thead>\n",
              "    <tr style=\"text-align: right;\">\n",
              "      <th></th>\n",
              "      <th>PassengerId</th>\n",
              "      <th>Pclass</th>\n",
              "      <th>Name</th>\n",
              "      <th>Sex</th>\n",
              "      <th>Age</th>\n",
              "      <th>SibSp</th>\n",
              "      <th>Parch</th>\n",
              "      <th>Ticket</th>\n",
              "      <th>Fare</th>\n",
              "      <th>Cabin</th>\n",
              "      <th>Embarked</th>\n",
              "      <th>title</th>\n",
              "      <th>eAge</th>\n",
              "      <th>FamilySize</th>\n",
              "      <th>is_alone</th>\n",
              "      <th>ClassFare</th>\n",
              "      <th>Age_Pclass</th>\n",
              "      <th>eSex</th>\n",
              "    </tr>\n",
              "  </thead>\n",
              "  <tbody>\n",
              "    <tr>\n",
              "      <th>0</th>\n",
              "      <td>892</td>\n",
              "      <td>3</td>\n",
              "      <td>Kelly, Mr. James</td>\n",
              "      <td>male</td>\n",
              "      <td>34.5</td>\n",
              "      <td>0</td>\n",
              "      <td>0</td>\n",
              "      <td>330911</td>\n",
              "      <td>7.8292</td>\n",
              "      <td>NaN</td>\n",
              "      <td>2</td>\n",
              "      <td>1</td>\n",
              "      <td>2</td>\n",
              "      <td>1</td>\n",
              "      <td>1</td>\n",
              "      <td>0</td>\n",
              "      <td>103.5</td>\n",
              "      <td>1</td>\n",
              "    </tr>\n",
              "    <tr>\n",
              "      <th>1</th>\n",
              "      <td>893</td>\n",
              "      <td>3</td>\n",
              "      <td>Wilkes, Mrs. James (Ellen Needs)</td>\n",
              "      <td>female</td>\n",
              "      <td>47.0</td>\n",
              "      <td>1</td>\n",
              "      <td>0</td>\n",
              "      <td>363272</td>\n",
              "      <td>7.0000</td>\n",
              "      <td>NaN</td>\n",
              "      <td>0</td>\n",
              "      <td>3</td>\n",
              "      <td>2</td>\n",
              "      <td>2</td>\n",
              "      <td>0</td>\n",
              "      <td>0</td>\n",
              "      <td>141.0</td>\n",
              "      <td>0</td>\n",
              "    </tr>\n",
              "    <tr>\n",
              "      <th>2</th>\n",
              "      <td>894</td>\n",
              "      <td>2</td>\n",
              "      <td>Myles, Mr. Thomas Francis</td>\n",
              "      <td>male</td>\n",
              "      <td>62.0</td>\n",
              "      <td>0</td>\n",
              "      <td>0</td>\n",
              "      <td>240276</td>\n",
              "      <td>9.6875</td>\n",
              "      <td>NaN</td>\n",
              "      <td>2</td>\n",
              "      <td>1</td>\n",
              "      <td>3</td>\n",
              "      <td>1</td>\n",
              "      <td>1</td>\n",
              "      <td>1</td>\n",
              "      <td>124.0</td>\n",
              "      <td>1</td>\n",
              "    </tr>\n",
              "    <tr>\n",
              "      <th>3</th>\n",
              "      <td>895</td>\n",
              "      <td>3</td>\n",
              "      <td>Wirz, Mr. Albert</td>\n",
              "      <td>male</td>\n",
              "      <td>27.0</td>\n",
              "      <td>0</td>\n",
              "      <td>0</td>\n",
              "      <td>315154</td>\n",
              "      <td>8.6625</td>\n",
              "      <td>NaN</td>\n",
              "      <td>0</td>\n",
              "      <td>1</td>\n",
              "      <td>1</td>\n",
              "      <td>1</td>\n",
              "      <td>1</td>\n",
              "      <td>1</td>\n",
              "      <td>81.0</td>\n",
              "      <td>1</td>\n",
              "    </tr>\n",
              "    <tr>\n",
              "      <th>4</th>\n",
              "      <td>896</td>\n",
              "      <td>3</td>\n",
              "      <td>Hirvonen, Mrs. Alexander (Helga E Lindqvist)</td>\n",
              "      <td>female</td>\n",
              "      <td>22.0</td>\n",
              "      <td>1</td>\n",
              "      <td>1</td>\n",
              "      <td>3101298</td>\n",
              "      <td>12.2875</td>\n",
              "      <td>NaN</td>\n",
              "      <td>0</td>\n",
              "      <td>3</td>\n",
              "      <td>1</td>\n",
              "      <td>3</td>\n",
              "      <td>0</td>\n",
              "      <td>1</td>\n",
              "      <td>66.0</td>\n",
              "      <td>0</td>\n",
              "    </tr>\n",
              "  </tbody>\n",
              "</table>\n",
              "</div>\n",
              "      <button class=\"colab-df-convert\" onclick=\"convertToInteractive('df-3925b1a0-a02b-4a21-88e7-7f50c3f38782')\"\n",
              "              title=\"Convert this dataframe to an interactive table.\"\n",
              "              style=\"display:none;\">\n",
              "        \n",
              "  <svg xmlns=\"http://www.w3.org/2000/svg\" height=\"24px\"viewBox=\"0 0 24 24\"\n",
              "       width=\"24px\">\n",
              "    <path d=\"M0 0h24v24H0V0z\" fill=\"none\"/>\n",
              "    <path d=\"M18.56 5.44l.94 2.06.94-2.06 2.06-.94-2.06-.94-.94-2.06-.94 2.06-2.06.94zm-11 1L8.5 8.5l.94-2.06 2.06-.94-2.06-.94L8.5 2.5l-.94 2.06-2.06.94zm10 10l.94 2.06.94-2.06 2.06-.94-2.06-.94-.94-2.06-.94 2.06-2.06.94z\"/><path d=\"M17.41 7.96l-1.37-1.37c-.4-.4-.92-.59-1.43-.59-.52 0-1.04.2-1.43.59L10.3 9.45l-7.72 7.72c-.78.78-.78 2.05 0 2.83L4 21.41c.39.39.9.59 1.41.59.51 0 1.02-.2 1.41-.59l7.78-7.78 2.81-2.81c.8-.78.8-2.07 0-2.86zM5.41 20L4 18.59l7.72-7.72 1.47 1.35L5.41 20z\"/>\n",
              "  </svg>\n",
              "      </button>\n",
              "      \n",
              "  <style>\n",
              "    .colab-df-container {\n",
              "      display:flex;\n",
              "      flex-wrap:wrap;\n",
              "      gap: 12px;\n",
              "    }\n",
              "\n",
              "    .colab-df-convert {\n",
              "      background-color: #E8F0FE;\n",
              "      border: none;\n",
              "      border-radius: 50%;\n",
              "      cursor: pointer;\n",
              "      display: none;\n",
              "      fill: #1967D2;\n",
              "      height: 32px;\n",
              "      padding: 0 0 0 0;\n",
              "      width: 32px;\n",
              "    }\n",
              "\n",
              "    .colab-df-convert:hover {\n",
              "      background-color: #E2EBFA;\n",
              "      box-shadow: 0px 1px 2px rgba(60, 64, 67, 0.3), 0px 1px 3px 1px rgba(60, 64, 67, 0.15);\n",
              "      fill: #174EA6;\n",
              "    }\n",
              "\n",
              "    [theme=dark] .colab-df-convert {\n",
              "      background-color: #3B4455;\n",
              "      fill: #D2E3FC;\n",
              "    }\n",
              "\n",
              "    [theme=dark] .colab-df-convert:hover {\n",
              "      background-color: #434B5C;\n",
              "      box-shadow: 0px 1px 3px 1px rgba(0, 0, 0, 0.15);\n",
              "      filter: drop-shadow(0px 1px 2px rgba(0, 0, 0, 0.3));\n",
              "      fill: #FFFFFF;\n",
              "    }\n",
              "  </style>\n",
              "\n",
              "      <script>\n",
              "        const buttonEl =\n",
              "          document.querySelector('#df-3925b1a0-a02b-4a21-88e7-7f50c3f38782 button.colab-df-convert');\n",
              "        buttonEl.style.display =\n",
              "          google.colab.kernel.accessAllowed ? 'block' : 'none';\n",
              "\n",
              "        async function convertToInteractive(key) {\n",
              "          const element = document.querySelector('#df-3925b1a0-a02b-4a21-88e7-7f50c3f38782');\n",
              "          const dataTable =\n",
              "            await google.colab.kernel.invokeFunction('convertToInteractive',\n",
              "                                                     [key], {});\n",
              "          if (!dataTable) return;\n",
              "\n",
              "          const docLinkHtml = 'Like what you see? Visit the ' +\n",
              "            '<a target=\"_blank\" href=https://colab.research.google.com/notebooks/data_table.ipynb>data table notebook</a>'\n",
              "            + ' to learn more about interactive tables.';\n",
              "          element.innerHTML = '';\n",
              "          dataTable['output_type'] = 'display_data';\n",
              "          await google.colab.output.renderOutput(dataTable, element);\n",
              "          const docLink = document.createElement('div');\n",
              "          docLink.innerHTML = docLinkHtml;\n",
              "          element.appendChild(docLink);\n",
              "        }\n",
              "      </script>\n",
              "    </div>\n",
              "  </div>\n",
              "  "
            ],
            "text/plain": [
              "   PassengerId  Pclass  ... Age_Pclass eSex\n",
              "0          892       3  ...      103.5    1\n",
              "1          893       3  ...      141.0    0\n",
              "2          894       2  ...      124.0    1\n",
              "3          895       3  ...       81.0    1\n",
              "4          896       3  ...       66.0    0\n",
              "\n",
              "[5 rows x 18 columns]"
            ]
          },
          "metadata": {},
          "execution_count": 454
        }
      ]
    },
    {
      "cell_type": "markdown",
      "source": [
        "# Classification"
      ],
      "metadata": {
        "id": "zGfi_x-s5DtL"
      }
    },
    {
      "cell_type": "code",
      "source": [
        "from sklearn.linear_model import LogisticRegression\n",
        "from sklearn.svm import SVC, LinearSVC\n",
        "from sklearn.ensemble import RandomForestClassifier\n",
        "from sklearn.neighbors import KNeighborsClassifier\n",
        "from sklearn.naive_bayes import GaussianNB\n",
        "from sklearn.linear_model import Perceptron\n",
        "from sklearn.linear_model import SGDClassifier\n",
        "from sklearn.tree import DecisionTreeClassifier\n",
        "\n",
        "from sklearn.model_selection import train_test_split\n",
        "from sklearn.metrics import accuracy_score, f1_score\n",
        "random_seed = 42 "
      ],
      "metadata": {
        "id": "FyhGVvGKLpOV"
      },
      "execution_count": 455,
      "outputs": []
    },
    {
      "cell_type": "code",
      "source": [
        "f_columns = [\"Pclass\", \"eSex\", \"Embarked\",\"title\",'eAge','is_alone','ClassFare']\n",
        "data = train[f_columns]\n",
        "\n",
        "X = train[f_columns]\n",
        "y = train['Survived'].values\n",
        "\n",
        "X_train, X_test, y_train, y_test = train_test_split(X, y, test_size=0.2, random_state=random_seed)"
      ],
      "metadata": {
        "id": "ag67lmc_5GKz"
      },
      "execution_count": 456,
      "outputs": []
    },
    {
      "cell_type": "code",
      "source": [
        "logreg = LogisticRegression()\n",
        "logreg.fit(X_train, y_train)\n",
        "Y_pred = logreg.predict(X_test)\n",
        "acc_log = round(logreg.score(X_train, y_train) * 100, 2)\n",
        "acc_log"
      ],
      "metadata": {
        "id": "prA4i-yc5G-0",
        "colab": {
          "base_uri": "https://localhost:8080/"
        },
        "outputId": "95989946-5e3a-48c3-aec8-f02e0f481752"
      },
      "execution_count": 457,
      "outputs": [
        {
          "output_type": "execute_result",
          "data": {
            "text/plain": [
              "82.3"
            ]
          },
          "metadata": {},
          "execution_count": 457
        }
      ]
    },
    {
      "cell_type": "code",
      "source": [
        "\n",
        "svc = SVC(random_state=random_seed)\n",
        "svc.fit(X_train, y_train)\n",
        "Y_pred = svc.predict(X_test)\n",
        "acc_svc = round(svc.score(X_train, y_train) * 100, 2)\n",
        "acc_svc"
      ],
      "metadata": {
        "colab": {
          "base_uri": "https://localhost:8080/"
        },
        "id": "6tDIleSBkLJo",
        "outputId": "59072736-f807-4ecf-a8d5-a3fd21f0966a"
      },
      "execution_count": 458,
      "outputs": [
        {
          "output_type": "execute_result",
          "data": {
            "text/plain": [
              "83.57"
            ]
          },
          "metadata": {},
          "execution_count": 458
        }
      ]
    },
    {
      "cell_type": "code",
      "source": [
        "knn = KNeighborsClassifier(n_neighbors = 3)\n",
        "knn.fit(X_train, y_train)\n",
        "Y_pred = knn.predict(X_test)\n",
        "acc_knn = round(knn.score(X_train, y_train) * 100, 2)\n",
        "acc_knn\n"
      ],
      "metadata": {
        "colab": {
          "base_uri": "https://localhost:8080/"
        },
        "id": "ZXwgM1bzkbwB",
        "outputId": "c09c0bc4-2ee2-4290-882f-f9aa666f9079"
      },
      "execution_count": 459,
      "outputs": [
        {
          "output_type": "execute_result",
          "data": {
            "text/plain": [
              "84.55"
            ]
          },
          "metadata": {},
          "execution_count": 459
        }
      ]
    },
    {
      "cell_type": "code",
      "source": [
        "gaussian = GaussianNB()\n",
        "gaussian.fit(X_train, y_train)\n",
        "Y_pred = gaussian.predict(X_test)\n",
        "acc_gaussian = round(gaussian.score(X_train, y_train) * 100, 2)\n",
        "acc_gaussian"
      ],
      "metadata": {
        "colab": {
          "base_uri": "https://localhost:8080/"
        },
        "id": "kJJq-63Zk78c",
        "outputId": "0e6cb9ff-a33e-4fda-aac7-4a12d91d9d87"
      },
      "execution_count": 460,
      "outputs": [
        {
          "output_type": "execute_result",
          "data": {
            "text/plain": [
              "78.79"
            ]
          },
          "metadata": {},
          "execution_count": 460
        }
      ]
    },
    {
      "cell_type": "code",
      "source": [
        "perceptron = Perceptron()\n",
        "perceptron.fit(X_train, y_train)\n",
        "Y_pred = perceptron.predict(X_test)\n",
        "acc_perceptron = round(perceptron.score(X_train, y_train) * 100, 2)\n",
        "acc_perceptron"
      ],
      "metadata": {
        "colab": {
          "base_uri": "https://localhost:8080/"
        },
        "id": "jOBSqem8lAOP",
        "outputId": "8e4c8dcb-cc32-42f0-fe37-0de2e0e9ef74"
      },
      "execution_count": 461,
      "outputs": [
        {
          "output_type": "execute_result",
          "data": {
            "text/plain": [
              "73.03"
            ]
          },
          "metadata": {},
          "execution_count": 461
        }
      ]
    },
    {
      "cell_type": "code",
      "source": [
        "linear_svc = LinearSVC()\n",
        "linear_svc.fit(X_train, y_train)\n",
        "Y_pred = linear_svc.predict(X_test)\n",
        "acc_linear_svc = round(linear_svc.score(X_train, y_train) * 100, 2)\n",
        "acc_linear_svc"
      ],
      "metadata": {
        "colab": {
          "base_uri": "https://localhost:8080/"
        },
        "id": "E5dFO4SClFIg",
        "outputId": "5eb85729-96cb-4a0a-e134-627863fea74e"
      },
      "execution_count": 462,
      "outputs": [
        {
          "output_type": "stream",
          "name": "stderr",
          "text": [
            "/usr/local/lib/python3.7/dist-packages/sklearn/svm/_base.py:1208: ConvergenceWarning: Liblinear failed to converge, increase the number of iterations.\n",
            "  ConvergenceWarning,\n"
          ]
        },
        {
          "output_type": "execute_result",
          "data": {
            "text/plain": [
              "81.6"
            ]
          },
          "metadata": {},
          "execution_count": 462
        }
      ]
    },
    {
      "cell_type": "code",
      "source": [
        "sgd = SGDClassifier()\n",
        "sgd.fit(X_train, y_train)\n",
        "Y_pred = sgd.predict(X_test)\n",
        "acc_sgd = round(sgd.score(X_train, y_train) * 100, 2)\n",
        "acc_sgd"
      ],
      "metadata": {
        "colab": {
          "base_uri": "https://localhost:8080/"
        },
        "id": "j3FKEcbrlPz-",
        "outputId": "e8efe6d1-0ce4-4c53-f2b1-c8c400ff7015"
      },
      "execution_count": 463,
      "outputs": [
        {
          "output_type": "execute_result",
          "data": {
            "text/plain": [
              "76.69"
            ]
          },
          "metadata": {},
          "execution_count": 463
        }
      ]
    },
    {
      "cell_type": "code",
      "source": [
        "decision_tree = DecisionTreeClassifier()\n",
        "decision_tree.fit(X_train, y_train)\n",
        "Y_pred = decision_tree.predict(X_test)\n",
        "acc_decision_tree = round(decision_tree.score(X_train, y_train) * 100, 2)\n",
        "acc_decision_tree"
      ],
      "metadata": {
        "colab": {
          "base_uri": "https://localhost:8080/"
        },
        "id": "C-FawwmrlSdY",
        "outputId": "cb9bed88-3387-4926-ca46-d784ba78e2fc"
      },
      "execution_count": 464,
      "outputs": [
        {
          "output_type": "execute_result",
          "data": {
            "text/plain": [
              "86.8"
            ]
          },
          "metadata": {},
          "execution_count": 464
        }
      ]
    },
    {
      "cell_type": "code",
      "source": [
        "random_forest = RandomForestClassifier(n_estimators=100)\n",
        "random_forest.fit(X_train, y_train)\n",
        "Y_pred = random_forest.predict(X_test)\n",
        "random_forest.score(X_train, y_train)\n",
        "acc_random_forest = round(random_forest.score(X_train, y_train) * 100, 2)\n",
        "acc_random_forest"
      ],
      "metadata": {
        "colab": {
          "base_uri": "https://localhost:8080/"
        },
        "id": "S7K3ujuplXBz",
        "outputId": "d3a24d80-0662-44f5-d7d0-647cf530cc79"
      },
      "execution_count": 465,
      "outputs": [
        {
          "output_type": "execute_result",
          "data": {
            "text/plain": [
              "86.8"
            ]
          },
          "metadata": {},
          "execution_count": 465
        }
      ]
    },
    {
      "cell_type": "code",
      "source": [
        "sub = pd.read_csv(\"./data/gender_submission.csv\")\n",
        "sub[\"Survived\"] = decision_tree.predict(test[f_columns])\n",
        "sub.to_csv(\"mysubmission.csv\", index=False)"
      ],
      "metadata": {
        "id": "rmPawb_3lfDG"
      },
      "execution_count": 470,
      "outputs": []
    },
    {
      "cell_type": "code",
      "source": [
        "accuracy_score(y_pred=decision_tree.predict(X_test), y_true=y_test)"
      ],
      "metadata": {
        "colab": {
          "base_uri": "https://localhost:8080/"
        },
        "id": "Q9YchmKLl95y",
        "outputId": "6f88aa87-184c-4dd4-d004-8651f8b5628a"
      },
      "execution_count": 477,
      "outputs": [
        {
          "output_type": "execute_result",
          "data": {
            "text/plain": [
              "0.8324022346368715"
            ]
          },
          "metadata": {},
          "execution_count": 477
        }
      ]
    },
    {
      "cell_type": "code",
      "source": [
        "# from sklearn import tree\n",
        "# fig, ax = plt.subplots(1, 1, figsize=(200, 200))\n",
        "\n",
        "# tree.plot_tree(decision_tree, ax=ax)"
      ],
      "metadata": {
        "id": "ZVn_09EpqTdC"
      },
      "execution_count": 481,
      "outputs": []
    },
    {
      "cell_type": "code",
      "source": [
        ""
      ],
      "metadata": {
        "id": "HV7JBfOarvCe"
      },
      "execution_count": null,
      "outputs": []
    }
  ]
}